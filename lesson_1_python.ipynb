{
 "cells": [
  {
   "cell_type": "code",
   "execution_count": 1,
   "id": "3c92a944",
   "metadata": {},
   "outputs": [
    {
     "name": "stdout",
     "output_type": "stream",
     "text": [
      "maria\n"
     ]
    }
   ],
   "source": [
    "# Задача 1. Сумма первых n положительных чисел\n",
    "# Напишите программу, запрашивающую у пользователя число и подсчитывающую сумму натуральных\n",
    "# положительных чисел от 1 до введенного пользователем значения. Сумма первых n положительных чисел"
   ]
  },
  {
   "cell_type": "code",
   "execution_count": 3,
   "id": "9e1c9046",
   "metadata": {},
   "outputs": [
    {
     "name": "stdout",
     "output_type": "stream",
     "text": [
      "Ввод числа: 2\n",
      "Сумма первых n положительных чисел от 1 до 2 равна 3\n"
     ]
    }
   ],
   "source": [
    "def summa(n):\n",
    "    if n == 1:\n",
    "        return 1\n",
    "    else:\n",
    "        return n+summa(n-1)\n",
    "\n",
    "z = int(input(\"Ввод числа: \"))\n",
    "print(f\"Сумма первых n положительных чисел от 1 до {z} равна {summa(z)}\")"
   ]
  },
  {
   "cell_type": "code",
   "execution_count": null,
   "id": "cf8d435d",
   "metadata": {},
   "outputs": [],
   "source": [
    "# Задача 2. Калькулятор\n",
    "# Составьте программу, которая запрашивает у пользователя 2 целых числа и выполняет операции:\n",
    "# арифметические: +, -, * , / , // , %, **, log10;\n",
    "# сравнение: <, <=, >, >=, !=, ==,\n",
    "# выводя на экран результат каждого действия. В случае получение вещественного результата, округлите\n",
    "# его до 2-х знаков после запятой (используя функцию round()).\n",
    "# Подсказка. Функцию log10 вы найдете в модуле math."
   ]
  },
  {
   "cell_type": "code",
   "execution_count": 5,
   "id": "5333f673",
   "metadata": {},
   "outputs": [
    {
     "name": "stdout",
     "output_type": "stream",
     "text": [
      "Введите первое число: 12\n",
      "Введите второе число: 24\n",
      "Сумма: 36\n",
      "Разность: -12\n",
      "Произведение: 288\n",
      "Деление: 0.5\n",
      "Деление без остатка: 0\n",
      "Остаток от деления: 12\n",
      "a^b: 79496847203390844133441536\n",
      "Log10 a: 1.08\n",
      "Log10 b: 1.38\n",
      "a > b: True\n",
      "a < b: False\n",
      "a <= b: True\n",
      "a >= b: False\n",
      "a != b: True\n",
      "a = b: False\n"
     ]
    }
   ],
   "source": [
    "import math\n",
    "a = int(input(\"Введите первое число: \"))\n",
    "b = int(input(\"Введите второе число: \"))\n",
    "\n",
    "print(f\"Сумма: {a+b}\")\n",
    "print(f\"Разность: {a-b}\")\n",
    "print(f\"Произведение: {a*b}\")\n",
    "print(f\"Деление: {round(a/b, 2)}\")\n",
    "print(f\"Деление без остатка: {a//b}\")\n",
    "print(f\"Остаток от деления: {a % b}\")\n",
    "print(f\"a^b: {a**b}\")\n",
    "print(f\"Log10 a: {round(math.log10(a), 2)}\")\n",
    "print(f\"Log10 b: {round(math.log10(b), 2)}\")\n",
    "print(f\"a > b: {a<b}\")\n",
    "print(f\"a < b: {a>b}\")\n",
    "print(f\"a <= b: {a<=b}\")\n",
    "print(f\"a >= b: {a>=b}\")\n",
    "print(f\"a != b: {a!=b}\")\n",
    "print(f\"a = b: {a==b}\")"
   ]
  },
  {
   "cell_type": "code",
   "execution_count": null,
   "id": "bcb35c12",
   "metadata": {},
   "outputs": [],
   "source": [
    "# Задача 3.\n",
    "# Вычислите значение следующего выражения (аргументы - целые числа и вводятся с клавиатуры):\n",
    "# f = 3x5 + 7 | -6 | y7 - zmody\n",
    "# Округлите результат до 3 - х знаков после запятой, используя функцию round()."
   ]
  },
  {
   "cell_type": "code",
   "execution_count": 6,
   "id": "d3fd1608",
   "metadata": {},
   "outputs": [
    {
     "name": "stdout",
     "output_type": "stream",
     "text": [
      "Введите число x: 1\n",
      "Введите число y: 2\n",
      "Введите число z: 3\n",
      "Значение равно 0.146\n"
     ]
    }
   ],
   "source": [
    "import math\n",
    "import numpy as np\n",
    "x = int(input(\"Введите число x: \"))\n",
    "y = int(input(\"Введите число y: \"))\n",
    "z = int(input(\"Введите число z: \"))\n",
    "f = round((np.cbrt((x**5+7)/(abs(-6)*y)))/(7-math.fmod(z,y)),3)\n",
    "\n",
    "print(f\"Значение равно {f}\")"
   ]
  },
  {
   "cell_type": "code",
   "execution_count": null,
   "id": "0267c0b9",
   "metadata": {},
   "outputs": [],
   "source": [
    "# Задача 4.\n",
    "# Дана электрическая цепь, состоящая из 2-х последовательно соединенных проводников (сопротивление\n",
    "# каждого известно). Найти общее сопротивление цепи (округление результата необходимо выполнить до\n",
    "# 1 - го знака после запятой)."
   ]
  },
  {
   "cell_type": "code",
   "execution_count": 9,
   "id": "c5df36fd",
   "metadata": {},
   "outputs": [
    {
     "name": "stdout",
     "output_type": "stream",
     "text": [
      "R1 = 0.1\n",
      "R2 = 3.65\n",
      "R общее  = 3.8\n"
     ]
    }
   ],
   "source": [
    "r1 = float(input(\"R1 = \"))\n",
    "r2 = float(input(\"R2 = \"))\n",
    "r = round(r1 + r2, 1)\n",
    "print(\"R общее  = {}\".format(r))"
   ]
  },
  {
   "cell_type": "code",
   "execution_count": null,
   "id": "180a5740",
   "metadata": {},
   "outputs": [],
   "source": [
    "# Задача 5.\n",
    "# Дано уравнение ax + b = 0 и отрезок [m;n]. Ответьте на вопрос, попадает ли решение уравнения в\n",
    "# указанный отрезок."
   ]
  },
  {
   "cell_type": "code",
   "execution_count": 13,
   "id": "70a9675d",
   "metadata": {},
   "outputs": [
    {
     "name": "stdout",
     "output_type": "stream",
     "text": [
      "a = 1\n",
      "b = 2\n",
      "m = 3\n",
      "n = 4\n",
      "x = -2.0 в отрезок [3.0;4.0] не попал\n"
     ]
    }
   ],
   "source": [
    "a = float(input(\"a = \"))\n",
    "b = float(input(\"b = \"))\n",
    "m = float(input(\"m = \"))\n",
    "n = float(input(\"n = \"))\n",
    "x = -b / a\n",
    "if m <= x <= n:\n",
    "        print(\"x = {} в отрезок [{};{}] попал\".format(x, m, n))\n",
    "else:\n",
    "        print(\"x = {} в отрезок [{};{}] не попал\".format(x, m, n))"
   ]
  },
  {
   "cell_type": "code",
   "execution_count": null,
   "id": "8d061d39",
   "metadata": {},
   "outputs": [],
   "source": [
    "# Задача 6. \n",
    "#Поездка по кругу\n",
    "# Спортсмен решил потренироваться перед марафоном и покататься вокруг города на скорость. Длина\n",
    "# дороги — 123 километра. Спортсмен стартует с нулевого километра и едет со скоростью v километров\n",
    "# в час. На какой отметке он остановится через t часов?\n",
    "# Реализуйте программу, которая спрашивает у пользователя v и t и выводит целое число от 0 до 122 —\n",
    "# номер километра, на котором остановится Спортсмен. Учтите, что он может прокатиться больше одного\n",
    "# круга."
   ]
  },
  {
   "cell_type": "code",
   "execution_count": 21,
   "id": "bb7c7408",
   "metadata": {},
   "outputs": [
    {
     "name": "stdout",
     "output_type": "stream",
     "text": [
      "v = 25\n",
      "t = 6\n",
      "Остановился на 28 километре\n"
     ]
    }
   ],
   "source": [
    "max_c = 123\n",
    "v = float(input(\"v = \"))\n",
    "t = float(input(\"t = \"))\n",
    "\n",
    "s = int((v * t) % (max_c-1))\n",
    "\n",
    "print(\"Остановился на {} километре\".format(s))"
   ]
  },
  {
   "cell_type": "code",
   "execution_count": null,
   "id": "f8600005",
   "metadata": {},
   "outputs": [],
   "source": [
    "# Задача 7. Сумма и произведение цифр в числе\n",
    "# Дано двузначное и трехзначное число. Для каждого выведите на экран сумму и произведение цифр."
   ]
  },
  {
   "cell_type": "code",
   "execution_count": 24,
   "id": "88ea329e",
   "metadata": {},
   "outputs": [
    {
     "name": "stdout",
     "output_type": "stream",
     "text": [
      "Введите двузначное число: 10\n",
      "Введите трехзначное число: 20\n",
      "Первое. Сумма: 1. Произведение: 0\n",
      "Второе. Сумма: 2. Произведение: 0\n"
     ]
    }
   ],
   "source": [
    "n1 = int(input(\"Введите двузначное число: \"))\n",
    "n2 = int(input(\"Введите трехзначное число: \"))\n",
    "print(f\"Первое. Сумма: {n1 // 10 + n1 % 10}. Произведение: {n1 // 10 * (n1 % 10)}\\n\"\n",
    "          f\"Второе. Сумма: {n2 // 100 + n2 // 10 % 10 + n2 % 10}. \"\n",
    "          f\"Произведение: {n2 // 100 * (n2 // 10 % 10) * (n2 % 10)}\")\n"
   ]
  },
  {
   "cell_type": "code",
   "execution_count": null,
   "id": "ed1ec389",
   "metadata": {},
   "outputs": [],
   "source": [
    "# Задача 8. Сортировка трех чисел\n",
    "# Напишите программу, запрашивающую у пользователя три целых числа и выводящую их в упорядоченном\n",
    "# виде – по возрастанию. Используйте функции min и max для нахождения наименьшего и наибольшего\n",
    "# значений. Оставшееся число можно найти путем вычитания из суммы трех введенных чисел\n",
    "# максимального и минимального."
   ]
  },
  {
   "cell_type": "code",
   "execution_count": 27,
   "id": "e78f6735",
   "metadata": {},
   "outputs": [
    {
     "name": "stdout",
     "output_type": "stream",
     "text": [
      "a = 10\n",
      "b = 2\n",
      "c = 5\n",
      "2 5 10\n"
     ]
    }
   ],
   "source": [
    "a = int(input(\"a = \"))\n",
    "b = int(input(\"b = \"))\n",
    "c = int(input(\"c = \"))\n",
    "d = [a, b, c]\n",
    "min8 = min(d)\n",
    "max8 = max(d)\n",
    "middle = sum(d) - min8 - max8\n",
    "print(min8, middle, max8)"
   ]
  },
  {
   "cell_type": "code",
   "execution_count": null,
   "id": "846c4631",
   "metadata": {},
   "outputs": [],
   "source": [
    "# Задача 9. Поменять местами: не всё так просто!\n",
    "# Напишите программу, которая меняла бы значения двух переменных местами, но без использования\n",
    "# третьей переменной и синтаксического сахара, а именно — без конструкции\n",
    "# a, b = b, a\n",
    "# В переменные будут вводиться только числа."
   ]
  },
  {
   "cell_type": "code",
   "execution_count": 28,
   "id": "270df581",
   "metadata": {},
   "outputs": [
    {
     "name": "stdout",
     "output_type": "stream",
     "text": [
      "Введите первое число: 12\n",
      "Введите второе число: 23\n",
      "12 23\n",
      "23 12\n"
     ]
    }
   ],
   "source": [
    "a = int(input('Введите первое число: '))\n",
    "b = int(input('Введите второе число: '))\n",
    "print(a, b)\n",
    "a = a + b\n",
    "b = a - b\n",
    "a = a - b\n",
    "print(a, b)"
   ]
  },
  {
   "cell_type": "code",
   "execution_count": null,
   "id": "45dd7dd8",
   "metadata": {},
   "outputs": [],
   "source": [
    "# Задача 10.\n",
    "# Составьте программу, которая запрашивает название футбольной команды и повторяет его на экране со\n",
    "# словами ... - чемпион!\n",
    "# После этого выполните:\n",
    "# используя операцию дублирования, нарисуйте черту (набор \"-\"), длиной, равной размеру названия\n",
    "# команды;\n",
    "# преобразуйте строку в нижний регистр и выведите на экран:\n",
    "# длину наименования команды;\n",
    "# есть ли в наименовании команды буква \"п\" (True/False)?\n",
    "# сколько раз повторяется буква \"а\"?"
   ]
  },
  {
   "cell_type": "code",
   "execution_count": 29,
   "id": "a519e98c",
   "metadata": {},
   "outputs": [
    {
     "name": "stdout",
     "output_type": "stream",
     "text": [
      "Введите футбольную команду: MU\n",
      "MU - чемпион!\n",
      "--\n",
      "mu\n",
      "2\n",
      "False\n",
      "0\n"
     ]
    }
   ],
   "source": [
    "c = input('Введите футбольную команду: ')\n",
    "print(\"{} - чемпион!\".format(c))\n",
    "print(\"-\" * len(c))\n",
    "c = c.lower()\n",
    "print(c)\n",
    "print(len(c))\n",
    "print(c.find(\"п\") != -1)\n",
    "print(c.count(\"а\"))"
   ]
  }
 ],
 "metadata": {
  "kernelspec": {
   "display_name": "Python 3 (ipykernel)",
   "language": "python",
   "name": "python3"
  },
  "language_info": {
   "codemirror_mode": {
    "name": "ipython",
    "version": 3
   },
   "file_extension": ".py",
   "mimetype": "text/x-python",
   "name": "python",
   "nbconvert_exporter": "python",
   "pygments_lexer": "ipython3",
   "version": "3.9.7"
  }
 },
 "nbformat": 4,
 "nbformat_minor": 5
}
