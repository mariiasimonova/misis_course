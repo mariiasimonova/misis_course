{
 "cells": [
  {
   "cell_type": "code",
   "execution_count": null,
   "id": "93e213c6",
   "metadata": {},
   "outputs": [],
   "source": [
    "#Задача 1. Стек"
   ]
  },
  {
   "cell_type": "code",
   "execution_count": 2,
   "id": "719047dd",
   "metadata": {},
   "outputs": [],
   "source": [
    "class Stack: \n",
    "    def __init__(self): \n",
    "        self.stack = [] \n",
    " \n",
    "    def is_empty(self): \n",
    "        return len(self.stack) == 0 \n",
    " \n",
    "    def push(self, item): \n",
    "        self.stack.append(item) \n",
    " \n",
    "    def pop(self): \n",
    "        if self.is_empty(): \n",
    "            return None \n",
    "        return self.stack.pop() \n",
    " \n",
    "    def peek(self): \n",
    "        if self.is_empty(): \n",
    "            return None \n",
    "        return self.stack[-1] \n",
    " \n",
    "    def size(self): \n",
    "        return len(self.stack)"
   ]
  },
  {
   "cell_type": "code",
   "execution_count": 3,
   "id": "a41e89d6",
   "metadata": {},
   "outputs": [],
   "source": [
    "class TaskManager: \n",
    "    def __init__(self): \n",
    "        self.tasks = Stack() \n",
    " \n",
    "    def new_task(self, task, priority): \n",
    "        self.tasks.push((task, priority)) \n",
    " \n",
    "    def remove_task(self, task): \n",
    "        temp_stack = Stack() \n",
    "        removed = False \n",
    " \n",
    "        while not self.tasks.is_empty(): \n",
    "            current_task = self.tasks.pop() \n",
    "            if current_task[0] != task: \n",
    "                temp_stack.push(current_task) \n",
    "            else: \n",
    "                removed = True \n",
    " \n",
    "        while not temp_stack.is_empty(): \n",
    "            self.tasks.push(temp_stack.pop()) \n",
    " \n",
    "        if not removed: \n",
    "            print(\"Task not found.\") \n",
    " \n",
    "    def __str__(self): \n",
    "        temp_stack = Stack() \n",
    "        result = \"\" \n",
    " \n",
    "        while not self.tasks.is_empty(): \n",
    "            temp_stack.push(self.tasks.pop()) \n",
    " \n",
    "        sorted_tasks = sorted(temp_stack.stack, key=lambda x: x[1]) \n",
    " \n",
    "        while not temp_stack.is_empty(): \n",
    "            task, priority = temp_stack.pop() \n",
    "            result += f\"{priority} - {task}\\n\" \n",
    " \n",
    "        return result"
   ]
  },
  {
   "cell_type": "code",
   "execution_count": 4,
   "id": "2c6b0dee",
   "metadata": {},
   "outputs": [
    {
     "name": "stdout",
     "output_type": "stream",
     "text": [
      "4 - сделать обед\n",
      "4 - помыть посуду\n",
      "1 - отдохнуть\n",
      "2 - поесть\n",
      "2 - отправить посылку\n",
      "\n",
      "Task not found.\n",
      "\n"
     ]
    }
   ],
   "source": [
    "manager = TaskManager() \n",
    " \n",
    "manager.new_task(\"сделать обед\", 4) \n",
    "manager.new_task(\"помыть посуду\", 4) \n",
    "manager.new_task(\"отдохнуть\", 1) \n",
    "manager.new_task(\"поесть\", 2) \n",
    "manager.new_task(\"отправить посылку\", 2) \n",
    " \n",
    "print(manager) \n",
    " \n",
    "manager.remove_task(\"помыть посуду\") \n",
    " \n",
    "print(manager)"
   ]
  },
  {
   "cell_type": "code",
   "execution_count": null,
   "id": "2c61ec0f",
   "metadata": {},
   "outputs": [],
   "source": [
    "#Задача 2. Кэширование запросов"
   ]
  },
  {
   "cell_type": "code",
   "execution_count": 5,
   "id": "485c0fc6",
   "metadata": {},
   "outputs": [],
   "source": [
    "class LRUCache: \n",
    "    def __init__(self, capacity): \n",
    "        self.capacity = capacity \n",
    "        self.cache_dict = {} \n",
    " \n",
    "    @property \n",
    "    def cache(self): \n",
    "        return next(iter(self.cache_dict))  # возвращаем самый старый элемент \n",
    " \n",
    "    @cache.setter \n",
    "    def cache(self, new_elem): \n",
    "        if len(self.cache_dict) >= self.capacity: \n",
    "            self.cache_dict.popitem(last=False)  # удаляем самый старый элемент \n",
    "        self.cache_dict[new_elem[0]] = new_elem[1]  # добавляем новый элемент \n",
    " \n",
    "    def print_cache(self): \n",
    "        print(\"LRU Cache:\") \n",
    "        for key, value in self.cache_dict.items(): \n",
    "            print(f\"{key} : {value}\") \n",
    " \n",
    "    def get(self, key): \n",
    "        return self.cache_dict.get(key)"
   ]
  },
  {
   "cell_type": "code",
   "execution_count": 6,
   "id": "9bd7d18e",
   "metadata": {},
   "outputs": [
    {
     "name": "stdout",
     "output_type": "stream",
     "text": [
      "LRU Cache:\n",
      "key1 : value1\n",
      "key2 : value2\n",
      "key3 : value3\n",
      "value2\n"
     ]
    },
    {
     "ename": "TypeError",
     "evalue": "dict.popitem() takes no keyword arguments",
     "output_type": "error",
     "traceback": [
      "\u001b[1;31m---------------------------------------------------------------------------\u001b[0m",
      "\u001b[1;31mTypeError\u001b[0m                                 Traceback (most recent call last)",
      "Cell \u001b[1;32mIn[6], line 12\u001b[0m\n\u001b[0;32m     10\u001b[0m \u001b[38;5;28mprint\u001b[39m(cache\u001b[38;5;241m.\u001b[39mget(\u001b[38;5;124m\"\u001b[39m\u001b[38;5;124mkey2\u001b[39m\u001b[38;5;124m\"\u001b[39m))  \u001b[38;5;66;03m# value2 \u001b[39;00m\n\u001b[0;32m     11\u001b[0m \u001b[38;5;66;03m# Добавляем новый элемент, превышающий лимит capacity \u001b[39;00m\n\u001b[1;32m---> 12\u001b[0m cache\u001b[38;5;241m.\u001b[39mcache \u001b[38;5;241m=\u001b[39m (\u001b[38;5;124m\"\u001b[39m\u001b[38;5;124mkey4\u001b[39m\u001b[38;5;124m\"\u001b[39m, \u001b[38;5;124m\"\u001b[39m\u001b[38;5;124mvalue4\u001b[39m\u001b[38;5;124m\"\u001b[39m) \n\u001b[0;32m     13\u001b[0m \u001b[38;5;66;03m# Выводим обновлённый кэш \u001b[39;00m\n\u001b[0;32m     14\u001b[0m cache\u001b[38;5;241m.\u001b[39mprint_cache()\n",
      "Cell \u001b[1;32mIn[5], line 13\u001b[0m, in \u001b[0;36mLRUCache.cache\u001b[1;34m(self, new_elem)\u001b[0m\n\u001b[0;32m     10\u001b[0m \u001b[38;5;129m@cache\u001b[39m\u001b[38;5;241m.\u001b[39msetter \n\u001b[0;32m     11\u001b[0m \u001b[38;5;28;01mdef\u001b[39;00m \u001b[38;5;21mcache\u001b[39m(\u001b[38;5;28mself\u001b[39m, new_elem): \n\u001b[0;32m     12\u001b[0m     \u001b[38;5;28;01mif\u001b[39;00m \u001b[38;5;28mlen\u001b[39m(\u001b[38;5;28mself\u001b[39m\u001b[38;5;241m.\u001b[39mcache_dict) \u001b[38;5;241m>\u001b[39m\u001b[38;5;241m=\u001b[39m \u001b[38;5;28mself\u001b[39m\u001b[38;5;241m.\u001b[39mcapacity: \n\u001b[1;32m---> 13\u001b[0m         \u001b[38;5;28mself\u001b[39m\u001b[38;5;241m.\u001b[39mcache_dict\u001b[38;5;241m.\u001b[39mpopitem(last\u001b[38;5;241m=\u001b[39m\u001b[38;5;28;01mFalse\u001b[39;00m)  \u001b[38;5;66;03m# удаляем самый старый элемент \u001b[39;00m\n\u001b[0;32m     14\u001b[0m     \u001b[38;5;28mself\u001b[39m\u001b[38;5;241m.\u001b[39mcache_dict[new_elem[\u001b[38;5;241m0\u001b[39m]] \u001b[38;5;241m=\u001b[39m new_elem[\u001b[38;5;241m1\u001b[39m]\n",
      "\u001b[1;31mTypeError\u001b[0m: dict.popitem() takes no keyword arguments"
     ]
    }
   ],
   "source": [
    "# Создаём экземпляр класса LRU Cache с capacity = 3 \n",
    "cache = LRUCache(3) \n",
    "# Добавляем элементы в кэш \n",
    "cache.cache = (\"key1\", \"value1\") \n",
    "cache.cache = (\"key2\", \"value2\") \n",
    "cache.cache = (\"key3\", \"value3\") \n",
    "# Выводим текущий кэш \n",
    "cache.print_cache()  # key1 : value1, key2 : value2, key3 : value3 \n",
    "# Получаем значение по ключу \n",
    "print(cache.get(\"key2\"))  # value2 \n",
    "# Добавляем новый элемент, превышающий лимит capacity \n",
    "cache.cache = (\"key4\", \"value4\") \n",
    "# Выводим обновлённый кэш \n",
    "cache.print_cache()  # key2 : value2, key3 : value3, key4 : value4"
   ]
  },
  {
   "cell_type": "code",
   "execution_count": null,
   "id": "551b045a",
   "metadata": {},
   "outputs": [],
   "source": [
    "#Задача 3. Кэширование для ускорения вычислений"
   ]
  },
  {
   "cell_type": "code",
   "execution_count": 7,
   "id": "6deddb67",
   "metadata": {},
   "outputs": [],
   "source": [
    "from functools import lru_cache \n",
    " \n",
    "@lru_cache(maxsize=None) \n",
    "def fib(n): \n",
    "    if n < 2: \n",
    "        return n \n",
    "    return fib(n-1) + fib(n-2)"
   ]
  },
  {
   "cell_type": "code",
   "execution_count": 9,
   "id": "4a97bcf4",
   "metadata": {},
   "outputs": [],
   "source": [
    "#Задача 4. Крестики нолики"
   ]
  },
  {
   "cell_type": "code",
   "execution_count": 15,
   "id": "804ad189",
   "metadata": {},
   "outputs": [],
   "source": [
    "# Инициализация карты\n",
    "maps = [1,2,3,\n",
    "        4,5,6,\n",
    "        7,8,9]\n",
    " \n",
    "# Инициализация победных линий\n",
    "victories = [[0,1,2],\n",
    "             [3,4,5],\n",
    "             [6,7,8],\n",
    "             [0,3,6],\n",
    "             [1,4,7],\n",
    "             [2,5,8],\n",
    "             [0,4,8],\n",
    "             [2,4,6]]\n",
    " \n",
    "# Вывод карты на экран\n",
    "def print_maps():\n",
    "    print(maps[0], end = \" \")\n",
    "    print(maps[1], end = \" \")\n",
    "    print(maps[2])\n",
    " \n",
    "    print(maps[3], end = \" \")\n",
    "    print(maps[4], end = \" \")\n",
    "    print(maps[5])\n",
    " \n",
    "    print(maps[6], end = \" \")\n",
    "    print(maps[7], end = \" \")\n",
    "    print(maps[8])"
   ]
  },
  {
   "cell_type": "code",
   "execution_count": 16,
   "id": "c4ea8c88",
   "metadata": {},
   "outputs": [],
   "source": [
    "# Сделать ход в ячейку\n",
    "def step_maps(step,symbol):\n",
    "    ind = maps.index(step)\n",
    "    maps[ind] = symbol"
   ]
  },
  {
   "cell_type": "code",
   "execution_count": 17,
   "id": "a61cfc1c",
   "metadata": {},
   "outputs": [],
   "source": [
    "# Получить текущий результат игры\n",
    "def get_result():\n",
    "    win = \"\"\n",
    " \n",
    "    for i in victories:\n",
    "        if maps[i[0]] == \"X\" and maps[i[1]] == \"X\" and maps[i[2]] == \"X\":\n",
    "            win = \"X\"\n",
    "        if maps[i[0]] == \"O\" and maps[i[1]] == \"O\" and maps[i[2]] == \"O\":\n",
    "            win = \"O\"   \n",
    "             \n",
    "    return win"
   ]
  },
  {
   "cell_type": "code",
   "execution_count": 18,
   "id": "e2d8a2f0",
   "metadata": {},
   "outputs": [
    {
     "name": "stdout",
     "output_type": "stream",
     "text": [
      "1 2 3\n",
      "4 5 6\n",
      "7 8 9\n",
      "Человек 1, ваш ход: 1\n",
      "X 2 3\n",
      "4 5 6\n",
      "7 8 9\n",
      "Человек 2, ваш ход: 5\n",
      "X 2 3\n",
      "4 O 6\n",
      "7 8 9\n",
      "Человек 1, ваш ход: 2\n",
      "X X 3\n",
      "4 O 6\n",
      "7 8 9\n",
      "Человек 2, ваш ход: 3\n",
      "X X O\n",
      "4 O 6\n",
      "7 8 9\n",
      "Человек 1, ваш ход: 7\n",
      "X X O\n",
      "4 O 6\n",
      "X 8 9\n",
      "Человек 2, ваш ход: 6\n",
      "X X O\n",
      "4 O O\n",
      "X 8 9\n",
      "Человек 1, ваш ход: 4\n",
      "X X O\n",
      "X O O\n",
      "X 8 9\n",
      "Победил X\n"
     ]
    }
   ],
   "source": [
    "# Основная программа\n",
    "game_over = False\n",
    "player1 = True\n",
    " \n",
    "while game_over == False:\n",
    " \n",
    "    # 1. Показываем карту\n",
    "    print_maps()\n",
    " \n",
    "    # 2. Спросим у играющего куда делать ход\n",
    "    if player1 == True:\n",
    "        symbol = \"X\"\n",
    "        step = int(input(\"Человек 1, ваш ход: \"))\n",
    "    else:\n",
    "        symbol = \"O\"\n",
    "        step = int(input(\"Человек 2, ваш ход: \"))\n",
    " \n",
    "    step_maps(step,symbol) # делаем ход в указанную ячейку\n",
    "    win = get_result() # определим победителя\n",
    "    if win != \"\":\n",
    "        game_over = True\n",
    "    else:\n",
    "        game_over = False\n",
    " \n",
    "    player1 = not(player1)        \n",
    " \n",
    "# Игра окончена. Покажем карту. Объявим победителя.        \n",
    "print_maps()\n",
    "print(\"Победил\", win) "
   ]
  }
 ],
 "metadata": {
  "kernelspec": {
   "display_name": "Python 3 (ipykernel)",
   "language": "python",
   "name": "python3"
  },
  "language_info": {
   "codemirror_mode": {
    "name": "ipython",
    "version": 3
   },
   "file_extension": ".py",
   "mimetype": "text/x-python",
   "name": "python",
   "nbconvert_exporter": "python",
   "pygments_lexer": "ipython3",
   "version": "3.11.5"
  }
 },
 "nbformat": 4,
 "nbformat_minor": 5
}
