{
 "cells": [
  {
   "cell_type": "code",
   "execution_count": 0,
   "metadata": {
    "application/vnd.databricks.v1+cell": {
     "cellMetadata": {
      "byteLimit": 2048000,
      "rowLimit": 10000
     },
     "inputWidgets": {},
     "nuid": "baf55db8-3452-45db-9ec6-7881e5b02f53",
     "showTitle": false,
     "title": ""
    }
   },
   "outputs": [
    {
     "output_type": "stream",
     "name": "stdout",
     "output_type": "stream",
     "text": [
      "Collecting geopy\r\n  Downloading geopy-2.4.0-py3-none-any.whl (125 kB)\r\n\u001B[?25l\r\u001B[K     |██▋                             | 10 kB 31.0 MB/s eta 0:00:01\r\u001B[K     |█████▎                          | 20 kB 27.9 MB/s eta 0:00:01\r\u001B[K     |███████▉                        | 30 kB 34.1 MB/s eta 0:00:01\r\u001B[K     |██████████▌                     | 40 kB 17.6 MB/s eta 0:00:01\r\u001B[K     |█████████████                   | 51 kB 20.3 MB/s eta 0:00:01\r\u001B[K     |███████████████▊                | 61 kB 23.1 MB/s eta 0:00:01\r\u001B[K     |██████████████████▎             | 71 kB 18.9 MB/s eta 0:00:01\r\u001B[K     |█████████████████████           | 81 kB 20.5 MB/s eta 0:00:01\r\u001B[K     |███████████████████████▌        | 92 kB 21.5 MB/s eta 0:00:01\r\u001B[K     |██████████████████████████▏     | 102 kB 21.8 MB/s eta 0:00:01\r\u001B[K     |████████████████████████████▊   | 112 kB 21.8 MB/s eta 0:00:01\r\u001B[K     |███████████████████████████████▍| 122 kB 21.8 MB/s eta 0:00:01\r\u001B[K     |████████████████████████████████| 125 kB 21.8 MB/s \r\n\u001B[?25hCollecting geographiclib<3,>=1.52\r\n  Downloading geographiclib-2.0-py3-none-any.whl (40 kB)\r\n\u001B[?25l\r\u001B[K     |████████▏                       | 10 kB 31.7 MB/s eta 0:00:01\r\u001B[K     |████████████████▎               | 20 kB 42.1 MB/s eta 0:00:01\r\u001B[K     |████████████████████████▍       | 30 kB 48.8 MB/s eta 0:00:01\r\u001B[K     |████████████████████████████████| 40 kB 1.3 MB/s \r\n\u001B[?25hInstalling collected packages: geographiclib, geopy\r\nSuccessfully installed geographiclib-2.0 geopy-2.4.0\r\n\u001B[33mWARNING: You are using pip version 21.2.4; however, version 23.3 is available.\r\nYou should consider upgrading via the '/local_disk0/.ephemeral_nfs/envs/pythonEnv-92e1f92b-1f09-4e62-976e-bf72cd9276bf/bin/python -m pip install --upgrade pip' command.\u001B[0m\r\n"
     ]
    }
   ],
   "source": [
    "!pip install geopy # Подгрузка библиотеки геокодирования"
   ]
  },
  {
   "cell_type": "code",
   "execution_count": 0,
   "metadata": {
    "application/vnd.databricks.v1+cell": {
     "cellMetadata": {
      "byteLimit": 2048000,
      "rowLimit": 10000
     },
     "inputWidgets": {},
     "nuid": "af390971-bd11-4943-bcf0-0b074e6ef3f4",
     "showTitle": false,
     "title": ""
    }
   },
   "outputs": [
    {
     "output_type": "display_data",
     "data": {
      "application/vnd.databricks.v1+bamboolib_hint": "{\"pd.DataFrames\": [], \"version\": \"0.0.1\"}",
      "text/plain": []
     },
     "metadata": {},
     "output_type": "display_data"
    }
   ],
   "source": [
    "from functools import partial\n",
    "from geopy.geocoders import Nominatim\n",
    "import pandas as pd\n",
    "from geopy.extra.rate_limiter import RateLimiter\n",
    "from geopy import distance\n",
    "import re\n",
    "import math"
   ]
  },
  {
   "cell_type": "code",
   "execution_count": 0,
   "metadata": {
    "application/vnd.databricks.v1+cell": {
     "cellMetadata": {
      "byteLimit": 2048000,
      "rowLimit": 10000
     },
     "inputWidgets": {},
     "nuid": "abfe7728-e946-4a14-b05c-ace4c9b36960",
     "showTitle": false,
     "title": ""
    }
   },
   "outputs": [
    {
     "output_type": "display_data",
     "data": {
      "text/html": [
       "<div>\n",
       "<style scoped>\n",
       "    .dataframe tbody tr th:only-of-type {\n",
       "        vertical-align: middle;\n",
       "    }\n",
       "\n",
       "    .dataframe tbody tr th {\n",
       "        vertical-align: top;\n",
       "    }\n",
       "\n",
       "    .dataframe thead th {\n",
       "        text-align: right;\n",
       "    }\n",
       "</style>\n",
       "<table border=\"1\" class=\"dataframe\">\n",
       "  <thead>\n",
       "    <tr style=\"text-align: right;\">\n",
       "      <th></th>\n",
       "      <th>OL_id</th>\n",
       "      <th>OLTradingName</th>\n",
       "      <th>OLDeliveryAddress</th>\n",
       "      <th>Latitude</th>\n",
       "      <th>Longitude</th>\n",
       "    </tr>\n",
       "  </thead>\n",
       "  <tbody>\n",
       "    <tr>\n",
       "      <th>0</th>\n",
       "      <td>1,0292E+14</td>\n",
       "      <td>Пятерочка</td>\n",
       "      <td>г Москва, аллея 9-я Чоботовская, 1 корп. 1</td>\n",
       "      <td>55,655513</td>\n",
       "      <td>37,3523</td>\n",
       "    </tr>\n",
       "    <tr>\n",
       "      <th>1</th>\n",
       "      <td>1,0297E+14</td>\n",
       "      <td>Пятерочка №2559</td>\n",
       "      <td>г Москва, аллея Беговая, 3</td>\n",
       "      <td>55,783296</td>\n",
       "      <td>37,564859</td>\n",
       "    </tr>\n",
       "    <tr>\n",
       "      <th>2</th>\n",
       "      <td>1,0167E+14</td>\n",
       "      <td>Верный 1071 (Союз Св. Иоанна Воина)</td>\n",
       "      <td>г Москва, аллея Беговая, 7Б</td>\n",
       "      <td>55,781403</td>\n",
       "      <td>37,564832</td>\n",
       "    </tr>\n",
       "    <tr>\n",
       "      <th>3</th>\n",
       "      <td>1,0005E+14</td>\n",
       "      <td>АО РН-Москва (РН-Москва АЗС№5)</td>\n",
       "      <td>г Москва, аллея Берёзовая, 12</td>\n",
       "      <td>55,84896952</td>\n",
       "      <td>37,61841595</td>\n",
       "    </tr>\n",
       "    <tr>\n",
       "      <th>4</th>\n",
       "      <td>1,0293E+14</td>\n",
       "      <td>красное и белое</td>\n",
       "      <td>г Москва, аллея Берёзовая, 17 корп. 1</td>\n",
       "      <td>55,850069</td>\n",
       "      <td>37,6177788</td>\n",
       "    </tr>\n",
       "    <tr>\n",
       "      <th>...</th>\n",
       "      <td>...</td>\n",
       "      <td>...</td>\n",
       "      <td>...</td>\n",
       "      <td>...</td>\n",
       "      <td>...</td>\n",
       "    </tr>\n",
       "    <tr>\n",
       "      <th>25730</th>\n",
       "      <td>1,0097E+14</td>\n",
       "      <td>ООО Евроойл (пересечения а/д Омск-Новосибирск,...</td>\n",
       "      <td>Новосибирская, Чановский</td>\n",
       "      <td>55,2208549</td>\n",
       "      <td>75,992306</td>\n",
       "    </tr>\n",
       "    <tr>\n",
       "      <th>25731</th>\n",
       "      <td>1,0097E+14</td>\n",
       "      <td>ООО Евроойл (150км к югу от ж/ж переезда,п.Озе...</td>\n",
       "      <td>Новосибирская, Чановский, Озеро-Карачи, Вокзал...</td>\n",
       "      <td>55,33617401</td>\n",
       "      <td>76,96767426</td>\n",
       "    </tr>\n",
       "    <tr>\n",
       "      <th>25732</th>\n",
       "      <td>1,0005E+14</td>\n",
       "      <td>Водолага Л. Д ИП</td>\n",
       "      <td>Новосибирская, Черепановский, Пятилетка, Центр...</td>\n",
       "      <td>54,239926</td>\n",
       "      <td>83,324564</td>\n",
       "    </tr>\n",
       "    <tr>\n",
       "      <th>25733</th>\n",
       "      <td>1,0097E+14</td>\n",
       "      <td>Сиб Ойл ЛТД</td>\n",
       "      <td>Новосибирская, Черепановский, Южный, Школьная, 21</td>\n",
       "      <td>54,010485</td>\n",
       "      <td>83,422875</td>\n",
       "    </tr>\n",
       "    <tr>\n",
       "      <th>25734</th>\n",
       "      <td>1,0097E+14</td>\n",
       "      <td>ИП Богомолов Н.В.</td>\n",
       "      <td>Новосибирская, Чистоозерный, Чистоозерное, Мат...</td>\n",
       "      <td>54,703946</td>\n",
       "      <td>76,5786389</td>\n",
       "    </tr>\n",
       "  </tbody>\n",
       "</table>\n",
       "<p>25735 rows × 5 columns</p>\n",
       "</div>"
      ]
     },
     "metadata": {
      "application/vnd.databricks.v1+output": {
       "addedWidgets": {},
       "arguments": {},
       "data": "<div>\n<style scoped>\n    .dataframe tbody tr th:only-of-type {\n        vertical-align: middle;\n    }\n\n    .dataframe tbody tr th {\n        vertical-align: top;\n    }\n\n    .dataframe thead th {\n        text-align: right;\n    }\n</style>\n<table border=\"1\" class=\"dataframe\">\n  <thead>\n    <tr style=\"text-align: right;\">\n      <th></th>\n      <th>OL_id</th>\n      <th>OLTradingName</th>\n      <th>OLDeliveryAddress</th>\n      <th>Latitude</th>\n      <th>Longitude</th>\n    </tr>\n  </thead>\n  <tbody>\n    <tr>\n      <th>0</th>\n      <td>1,0292E+14</td>\n      <td>Пятерочка</td>\n      <td>г Москва, аллея 9-я Чоботовская, 1 корп. 1</td>\n      <td>55,655513</td>\n      <td>37,3523</td>\n    </tr>\n    <tr>\n      <th>1</th>\n      <td>1,0297E+14</td>\n      <td>Пятерочка №2559</td>\n      <td>г Москва, аллея Беговая, 3</td>\n      <td>55,783296</td>\n      <td>37,564859</td>\n    </tr>\n    <tr>\n      <th>2</th>\n      <td>1,0167E+14</td>\n      <td>Верный 1071 (Союз Св. Иоанна Воина)</td>\n      <td>г Москва, аллея Беговая, 7Б</td>\n      <td>55,781403</td>\n      <td>37,564832</td>\n    </tr>\n    <tr>\n      <th>3</th>\n      <td>1,0005E+14</td>\n      <td>АО РН-Москва (РН-Москва АЗС№5)</td>\n      <td>г Москва, аллея Берёзовая, 12</td>\n      <td>55,84896952</td>\n      <td>37,61841595</td>\n    </tr>\n    <tr>\n      <th>4</th>\n      <td>1,0293E+14</td>\n      <td>красное и белое</td>\n      <td>г Москва, аллея Берёзовая, 17 корп. 1</td>\n      <td>55,850069</td>\n      <td>37,6177788</td>\n    </tr>\n    <tr>\n      <th>...</th>\n      <td>...</td>\n      <td>...</td>\n      <td>...</td>\n      <td>...</td>\n      <td>...</td>\n    </tr>\n    <tr>\n      <th>25730</th>\n      <td>1,0097E+14</td>\n      <td>ООО Евроойл (пересечения а/д Омск-Новосибирск,...</td>\n      <td>Новосибирская, Чановский</td>\n      <td>55,2208549</td>\n      <td>75,992306</td>\n    </tr>\n    <tr>\n      <th>25731</th>\n      <td>1,0097E+14</td>\n      <td>ООО Евроойл (150км к югу от ж/ж переезда,п.Озе...</td>\n      <td>Новосибирская, Чановский, Озеро-Карачи, Вокзал...</td>\n      <td>55,33617401</td>\n      <td>76,96767426</td>\n    </tr>\n    <tr>\n      <th>25732</th>\n      <td>1,0005E+14</td>\n      <td>Водолага Л. Д ИП</td>\n      <td>Новосибирская, Черепановский, Пятилетка, Центр...</td>\n      <td>54,239926</td>\n      <td>83,324564</td>\n    </tr>\n    <tr>\n      <th>25733</th>\n      <td>1,0097E+14</td>\n      <td>Сиб Ойл ЛТД</td>\n      <td>Новосибирская, Черепановский, Южный, Школьная, 21</td>\n      <td>54,010485</td>\n      <td>83,422875</td>\n    </tr>\n    <tr>\n      <th>25734</th>\n      <td>1,0097E+14</td>\n      <td>ИП Богомолов Н.В.</td>\n      <td>Новосибирская, Чистоозерный, Чистоозерное, Мат...</td>\n      <td>54,703946</td>\n      <td>76,5786389</td>\n    </tr>\n  </tbody>\n</table>\n<p>25735 rows × 5 columns</p>\n</div>",
       "datasetInfos": [],
       "metadata": {},
       "removedWidgets": [],
       "textData": null,
       "type": "htmlSandbox"
      }
     },
     "output_type": "display_data"
    }
   ],
   "source": [
    "# Loading data\n",
    "data = spark.read.option(\"sep\", \";\").option(\"header\", True).csv(\"abfss://output@marsanalyticsdevadls.dfs.core.windows.net/RUSSIA_MW_DATAROOM/Coordinates_check/geo_check.csv\")   \n",
    "data_df = data.toPandas()\n",
    "data_df"
   ]
  },
  {
   "cell_type": "code",
   "execution_count": 0,
   "metadata": {
    "application/vnd.databricks.v1+cell": {
     "cellMetadata": {
      "byteLimit": 2048000,
      "rowLimit": 10000
     },
     "inputWidgets": {},
     "nuid": "1adbd869-4bda-40b5-b730-1a83f01b968a",
     "showTitle": false,
     "title": ""
    }
   },
   "outputs": [],
   "source": [
    "def is_roman_number(num):                         # Обработка римских чисел\n",
    "  pattern = re.compile(r\"\"\"   \n",
    "                              ^M{0,3}\n",
    "                              (CM|CD|D?C{0,3})?\n",
    "                              (XC|XL|L?X{0,3})?\n",
    "                              (IX|IV|V?I{0,3})?$\n",
    "          \"\"\", re.VERBOSE)\n",
    "  if re.match(pattern, num):\n",
    "      return True\n",
    "  return False\n",
    "  \n",
    "def romanToInt(s):\n",
    "  result = 0\n",
    "  comp = {'I': 1, 'V': 5, 'X': 10, 'L': 50, 'C': 100, 'D': 500, 'M': 1000}\n",
    "  i = 0\n",
    "  while i < len(s) - 1:\n",
    "      if comp[s[i+1]] > comp[s[i]]:\n",
    "          result += comp[s[i+1]] - comp[s[i]]\n",
    "          i += 2\n",
    "      else:\n",
    "          result += comp[s[i]]\n",
    "          i += 1\n",
    "  if i < len(s):\n",
    "      result += comp[s[-1]]\n",
    "  return str(result)"
   ]
  },
  {
   "cell_type": "code",
   "execution_count": 0,
   "metadata": {
    "application/vnd.databricks.v1+cell": {
     "cellMetadata": {
      "byteLimit": 2048000,
      "rowLimit": 10000
     },
     "inputWidgets": {},
     "nuid": "09f0e65a-aeb7-4ebb-963e-11ed23ff2697",
     "showTitle": false,
     "title": ""
    }
   },
   "outputs": [],
   "source": [
    "def prepare_addresses(address):                             # Обработка входящего адреса\n",
    "  norm_address = ''\n",
    "  if address[-1] == ',':\n",
    "    address = address[:-1]\n",
    "  address = address.replace('б-р', 'бульвар')\n",
    "  address = address.replace('р-н', 'район')\n",
    "  address = address.replace('корп. ', 'к')\n",
    "  address = address.replace('кв-л', 'квартал')\n",
    "  address = address.replace('кв.', '')\n",
    "  address = address.replace('им.', '')\n",
    "  address = address.replace('стр.', 'с')\n",
    "  address = address.replace(' стр ', ' c')\n",
    "  address = address.replace('строение ', 'с')\n",
    "  address = address.split('место')[0]\n",
    "  address = address.replace('место влад ', '')\n",
    "  address = address.replace('место вл.', '')\n",
    "  address = address.replace('место ', '')\n",
    "  address = address.replace('павильон', '')\n",
    "  address = address.replace('пр-кт', 'проспект')\n",
    "  address = address.replace('тер.', '')\n",
    "  parts_address = address.split(',')\n",
    "  new_parts = []\n",
    "  for part in parts_address:\n",
    "    sp = part.split()\n",
    "    for i, j in enumerate(sp):\n",
    "#      if sp[i].isdigit() == True and sp[i-1].isdigit() == True:   #здесь ошибка из-за которой не читаются числа\n",
    "#        sp.pop(i)\n",
    "      if is_roman_number(j) == True:\n",
    "        sp[i] = romanToInt(sp[i])\n",
    "      if i >= 1:\n",
    "        if sp[i-1] == 'Авиапарк':\n",
    "          sp.pop(i)\n",
    "        if '/' in sp[i-1]:\n",
    "          sp.pop(i)\n",
    "      if j == 'рп':\n",
    "        sp[i] = 'городское поселение'\n",
    "      if j == 'п':\n",
    "        sp[i] = 'поселение'\n",
    "      if j == 'пл':\n",
    "        sp[i] = 'площадь'\n",
    "      if j == 'ш':\n",
    "        sp[i] = 'шоссе'\n",
    "      if j == 'дп':\n",
    "        sp.pop(i)\n",
    "      if j == 'д':\n",
    "        sp.pop(i)\n",
    "      if j == 'г':\n",
    "        sp.remove('г')\n",
    "      if j == 'обл':\n",
    "        sp[i] = 'область'\n",
    "      if j == 'с':\n",
    "        sp[i] = 'село'\n",
    "      if j == 'ул':\n",
    "        sp[i] = 'улица'\n",
    "      if j == 'мкр':\n",
    "        sp[i] = 'микрорайон'\n",
    "      if j == 'аллея':\n",
    "        sp.remove('аллея')\n",
    "        sp.append('аллея')\n",
    "      if j == 'км':\n",
    "        sp.remove('км')\n",
    "        sp.append('километр')\n",
    "    new_parts.append(' '.join(sp))\n",
    "  сh_address = ', '.join(new_parts)\n",
    "  if сh_address.split(\",\")[0][-2:] == \"ая\":\n",
    "    parts = сh_address.split(\", \")\n",
    "    parts[0] = parts[0] + \" обл\"\n",
    "    сh_address = ', '.join(parts)\n",
    "    print(сh_address)\n",
    "  elif сh_address.split(\",\")[0] == \"Москва\":\n",
    "    parts = сh_address.split(\", \")\n",
    "    parts[0] = parts[0] + \", Москва\"\n",
    "    сh_address = ', '.join(parts)\n",
    "  elif сh_address.split(\",\")[0] == \"Санкт-Петербург\":\n",
    "    parts = сh_address.split(\", \")\n",
    "    parts[0] = parts[0] + \", Санкт-Петербург\"\n",
    "    сh_address = ', '.join(parts)\n",
    "  parts_address = сh_address.split()\n",
    "  norm_address = ' '.join(parts_address)\n",
    "  return norm_address"
   ]
  },
  {
   "cell_type": "code",
   "execution_count": 0,
   "metadata": {
    "application/vnd.databricks.v1+cell": {
     "cellMetadata": {
      "byteLimit": 2048000,
      "rowLimit": 10000
     },
     "inputWidgets": {},
     "nuid": "8ec2caa0-d8af-4210-8470-ed16fb90b047",
     "showTitle": false,
     "title": ""
    }
   },
   "outputs": [],
   "source": [
    "def find_full_address(address, geocode):  # Получение координат и ссылки на адрес в картах\n",
    "  ar0 = []\n",
    "  ar1 = []\n",
    "  ar2 = []\n",
    "  ar3 = []\n",
    "  for i in range(address.shape[0]):\n",
    "    norm_address = prepare_addresses(address[i])\n",
    "    location = geocode(norm_address)\n",
    "    if location != None:\n",
    "      print('#{} processed'.format(i))\n",
    "      ar0.append(location)\n",
    "      ar1.append('https://www.openstreetmap.org/search?whereami=1&query={0}%2C{1}#map=16/{0}/{1}'.format(location.latitude, location.longitude))\n",
    "      ar2.append(location.latitude)\n",
    "      ar3.append(location.longitude)\n",
    "    else:\n",
    "      print('#{} not processed'.format(i))\n",
    "      ar0.append(0)\n",
    "      ar1.append(0)\n",
    "      ar2.append(0)\n",
    "      ar3.append(0)\n",
    "  return ar0, ar1, ar2, ar3\n",
    "\n",
    "def find_latitude(address):\n",
    "  geolocator = Nominatim(user_agent='Tester')\n",
    "  norm_address = prepare_addresses(address)\n",
    "  location = geolocator.geocode(norm_address)\n",
    "  return location.latitude\n",
    "\n",
    "def find_longitude(address):\n",
    "  geolocator = Nominatim(user_agent='Tester')\n",
    "  norm_address = prepare_addresses(address)\n",
    "  location = geolocator.geocode(norm_address)\n",
    "  return location.longitude"
   ]
  },
  {
   "cell_type": "code",
   "execution_count": 0,
   "metadata": {
    "application/vnd.databricks.v1+cell": {
     "cellMetadata": {
      "byteLimit": 2048000,
      "rowLimit": 10000
     },
     "inputWidgets": {},
     "nuid": "d2faf301-26f4-446b-a305-d2a5aaf4cb0d",
     "showTitle": false,
     "title": ""
    }
   },
   "outputs": [],
   "source": [
    "def find_distance(lat1, lon1, address, lat2, lon2):   # Поиск расстояния между исходными координатами и найденными\n",
    "  arr_coords = []\n",
    "  for i in range(len(lat1)):\n",
    "    if address[i] != '0':\n",
    "      mat1 = math.cos(math.radians(90-lat1[i]))*math.cos(math.radians(90-lat2[i]))+math.sin(math.radians(90-lat1[i]))*math.sin(math.radians(90-lat2[i]))*math.cos(math.radians(lon1[i]-lon2[i]))\n",
    "      if mat1 >= 1:\n",
    "        mat1 = 1\n",
    "      arr_coords.append(math.acos(mat1)*6371*1000)\n",
    "    else:\n",
    "      arr_coords.append('None')\n",
    "  return arr_coords"
   ]
  },
  {
   "cell_type": "code",
   "execution_count": 0,
   "metadata": {
    "application/vnd.databricks.v1+cell": {
     "cellMetadata": {
      "byteLimit": 2048000,
      "rowLimit": 10000
     },
     "inputWidgets": {},
     "nuid": "3eb71cac-6d4c-4b63-937a-d35ddde3d7b6",
     "showTitle": false,
     "title": ""
    }
   },
   "outputs": [
    {
     "output_type": "stream",
     "name": "stdout",
     "output_type": "stream",
     "text": [
      "#0 processed\n#1 processed\n#2 processed\n#3 processed\n#4 processed\n#5 processed\n#6 processed\n#7 processed\n#8 processed\n#9 processed\n#10 processed\n#11 processed\n#12 processed\n#13 processed\n#14 processed\n#15 processed\n#16 processed\n#17 processed\n#18 processed\n#19 processed\nWARNING:urllib3.connectionpool:Retrying (Retry(total=1, connect=None, read=None, redirect=None, status=None)) after connection broken by 'ReadTimeoutError(\"HTTPSConnectionPool(host='nominatim.openstreetmap.org', port=443): Read timed out. (read timeout=1)\")': /search?q=%D0%9C%D0%BE%D1%81%D0%BA%D0%B2%D0%B0%2C+%D0%B1%D1%83%D0%BB%D1%8C%D0%B2%D0%B0%D1%80+%D0%90%D0%B4%D0%BC%D0%B8%D1%80%D0%B0%D0%BB%D0%B0+%D0%A3%D1%88%D0%B0%D0%BA%D0%BE%D0%B2%D0%B0%2C+18%D0%91&format=json&limit=1\n#20 processed\n#21 processed\n#22 processed\n#23 processed\n#24 processed\n#25 processed\n#26 processed\n#27 processed\n#28 processed\n#29 processed\n#30 processed\n#31 processed\n#32 processed\n#33 processed\n#34 processed\n#35 processed\n#36 processed\n#37 processed\n#38 processed\nWARNING:urllib3.connectionpool:Retrying (Retry(total=1, connect=None, read=None, redirect=None, status=None)) after connection broken by 'ReadTimeoutError(\"HTTPSConnectionPool(host='nominatim.openstreetmap.org', port=443): Read timed out. (read timeout=1)\")': /search?q=%D0%9C%D0%BE%D1%81%D0%BA%D0%B2%D0%B0%2C+%D0%B1%D1%83%D0%BB%D1%8C%D0%B2%D0%B0%D1%80+%D0%91%D0%B5%D1%81%D0%BA%D1%83%D0%B4%D0%BD%D0%B8%D0%BA%D0%BE%D0%B2%D1%81%D0%BA%D0%B8%D0%B9%2C+30+%D0%BA4&format=json&limit=1\n#39 processed\n#40 processed\n#41 processed\n#42 processed\n#43 processed\n#44 processed\n#45 processed\n#46 processed\n#47 processed\n#48 processed\n#49 processed\n#50 processed\n#51 processed\n#52 processed\n#53 processed\n#54 processed\n#55 processed\n#56 processed\n#57 processed\n#58 processed\n#59 processed\n#60 processed\n#61 processed\n#62 processed\n#63 processed\n#64 processed\n#65 processed\n#66 processed\n#67 processed\n#68 processed\n#69 processed\n#70 processed\n#71 processed\n#72 processed\n#73 processed\n#74 processed\n#75 processed\n#76 processed\n#77 processed\n#78 processed\n#79 processed\n#80 processed\n#81 processed\n#82 processed\n#83 processed\n#84 processed\n#85 processed\n#86 processed\n#87 processed\n#88 processed\n#89 processed\n#90 processed\n#91 processed\n#92 processed\n#93 processed\n#94 processed\n#95 processed\n#96 processed\n#97 processed\n#98 processed\n#99 processed\n#100 processed\n#101 processed\n#102 processed\n#103 processed\n#104 processed\n#105 processed\n#106 processed\n#107 processed\n#108 processed\n#109 processed\n#110 processed\n#111 processed\n#112 processed\n#113 processed\n#114 processed\n#115 processed\n#116 processed\n#117 processed\n#118 processed\n#119 processed\n#120 processed\n#121 processed\n#122 processed\n#123 processed\n#124 processed\n#125 processed\n#126 processed\nWARNING:urllib3.connectionpool:Retrying (Retry(total=1, connect=None, read=None, redirect=None, status=None)) after connection broken by 'ReadTimeoutError(\"HTTPSConnectionPool(host='nominatim.openstreetmap.org', port=443): Read timed out. (read timeout=1)\")': /search?q=%D0%9C%D0%BE%D1%81%D0%BA%D0%B2%D0%B0%2C+%D0%B1%D1%83%D0%BB%D1%8C%D0%B2%D0%B0%D1%80+%D0%9A%D0%B0%D0%B2%D0%BA%D0%B0%D0%B7%D1%81%D0%BA%D0%B8%D0%B9%2C+27+%D0%BA2&format=json&limit=1\n#127 processed\n#128 processed\n#129 processed\n#130 processed\n#131 processed\n#132 processed\n#133 processed\n#134 processed\n#135 processed\n#136 processed\n#137 processed\n#138 processed\n#139 processed\n#140 processed\n#141 processed\n#142 processed\n#143 processed\n#144 processed\n#145 processed\n#146 processed\n#147 processed\n#148 processed\n#149 processed\n#150 processed\n#151 processed\n#152 processed\n#153 processed\n#154 processed\n#155 processed\n#156 processed\n#157 processed\n#158 processed\n#159 processed\n#160 processed\n#161 processed\n#162 processed\n#163 processed\n#164 processed\n#165 processed\n#166 processed\n#167 processed\n#168 processed\n#169 processed\n#170 processed\n#171 processed\n#172 processed\n#173 processed\n#174 processed\n#175 processed\n#176 processed\n#177 processed\n#178 processed\n#179 processed\n#180 processed\n#181 processed\n#182 processed\n#183 processed\n#184 processed\n#185 processed\n#186 processed\n#187 processed\n#188 processed\n#189 processed\n#190 processed\n#191 processed\n#192 processed\n#193 processed\n#194 processed\n#195 processed\n#196 processed\n#197 processed\n#198 processed\n#199 processed\n#200 processed\n#201 processed\n#202 processed\n#203 processed\n#204 processed\n#205 processed\n#206 processed\n#207 processed\n#208 processed\n#209 processed\n#210 processed\n#211 processed\n#212 processed\n#213 processed\n#214 processed\n#215 processed\n#216 processed\n#217 processed\n#218 processed\n#219 processed\n#220 processed\n#221 processed\n#222 processed\n#223 processed\n#224 processed\n#225 processed\n#226 processed\n#227 processed\n#228 processed\n#229 processed\n#230 processed\n#231 processed\n#232 processed\n#233 processed\n#234 processed\n#235 processed\n#236 processed\n#237 processed\n#238 processed\n#239 processed\n#240 processed\n#241 processed\n#242 processed\n#243 processed\n#244 processed\n#245 processed\n#246 processed\n#247 processed\n#248 processed\n#249 processed\n#250 processed\n#251 processed\n#252 processed\n#253 processed\n#254 processed\n#255 processed\n#256 processed\n#257 processed\n#258 processed\n#259 processed\n#260 processed\n#261 processed\n#262 processed\n#263 processed\n#264 processed\n#265 processed\n#266 processed\n#267 processed\n#268 processed\n#269 processed\n#270 processed\n#271 processed\n#272 processed\n#273 processed\n#274 processed\n#275 processed\nWARNING:urllib3.connectionpool:Retrying (Retry(total=1, connect=None, read=None, redirect=None, status=None)) after connection broken by 'ReadTimeoutError(\"HTTPSConnectionPool(host='nominatim.openstreetmap.org', port=443): Read timed out. (read timeout=1)\")': /search?q=%D0%9C%D0%BE%D1%81%D0%BA%D0%B2%D0%B0%2C+%D0%B1%D1%83%D0%BB%D1%8C%D0%B2%D0%B0%D1%80+%D0%A1%D0%B8%D1%80%D0%B5%D0%BD%D0%B5%D0%B2%D1%8B%D0%B9%2C+23%D0%90&format=json&limit=1\n#276 processed\n#277 processed\n#278 processed\n#279 processed\n#280 processed\n#281 processed\n#282 processed\n#283 processed\n#284 processed\n#285 processed\n#286 processed\n#287 processed\n#288 processed\n#289 processed\n#290 processed\n#291 processed\n#292 processed\n#293 processed\n#294 processed\n#295 processed\n#296 processed\n#297 processed\n#298 processed\n#299 processed\n#300 processed\n#301 processed\n#302 processed\n#303 processed\n#304 processed\n#305 processed\n#306 processed\n#307 processed\n#308 processed\n#309 processed\n#310 processed\n#311 processed\n#312 processed\n#313 processed\n#314 processed\n#315 processed\n#316 processed\n#317 processed\n#318 processed\n#319 processed\n#320 processed\n#321 processed\n#322 processed\n#323 processed\n#324 processed\n#325 processed\n#326 processed\n#327 processed\n#328 processed\n#329 processed\n#330 processed\n#331 processed\n#332 processed\n#333 processed\n#334 processed\n#335 processed\n#336 processed\n#337 processed\n#338 processed\n#339 processed\n#340 processed\n#341 processed\n#342 processed\n#343 processed\n#344 processed\n#345 processed\n#346 processed\n#347 processed\n#348 processed\n#349 processed\n#350 processed\n#351 processed\n#352 processed\n#353 processed\n#354 processed\n#355 processed\n#356 processed\n#357 processed\n#358 processed\n#359 processed\n#360 processed\n#361 processed\n#362 processed\n#363 processed\n#364 processed\n#365 processed\n#366 processed\n#367 processed\n#368 processed\n#369 processed\n#370 processed\n#371 processed\n#372 processed\n#373 processed\n#374 processed\n#375 processed\n#376 processed\n#377 processed\n#378 processed\n#379 processed\n#380 processed\n#381 processed\n#382 processed\n#383 processed\n#384 processed\n#385 processed\n#386 processed\n#387 processed\n#388 processed\n#389 processed\n#390 processed\n#391 processed\n#392 processed\n#393 processed\n#394 processed\n#395 processed\n#396 processed\n#397 processed\n#398 processed\n#399 processed\n#400 processed\n#401 processed\n#402 processed\n#403 processed\n#404 processed\n#405 processed\n#406 not processed\n#407 processed\n#408 processed\n#409 processed\n#410 processed\n#411 processed\n#412 processed\n#413 processed\n#414 processed\n#415 processed\n#416 processed\n#417 processed\n#418 processed\n#419 processed\n#420 processed\n#421 processed\n#422 processed\n#423 processed\n#424 processed\n#425 processed\n#426 processed\n#427 processed\n#428 processed\n#429 processed\n#430 not processed\n#431 processed\n#432 processed\n#433 processed\n#434 processed\n#435 processed\n#436 processed\n#437 processed\n#438 processed\n#439 processed\n#440 processed\n#441 processed\n#442 processed\n#443 processed\n#444 processed\n#445 processed\n#446 processed\n#447 processed\n#448 processed\n#449 processed\n#450 processed\n#451 processed\n#452 processed\n#453 processed\n#454 processed\n#455 processed\n#456 processed\n#457 processed\n#458 processed\n#459 processed\n#460 processed\n#461 processed\n#462 processed\n#463 processed\n#464 processed\n#465 processed\n#466 processed\n#467 processed\n#468 processed\n#469 processed\n#470 processed\n#471 processed\n#472 processed\n#473 processed\n#474 processed\n#475 processed\n#476 processed\n#477 processed\n#478 processed\n#479 processed\n#480 processed\n#481 processed\n#482 processed\n#483 processed\n#484 processed\n#485 processed\n#486 processed\n#487 processed\n#488 processed\n#489 processed\n#490 processed\n#491 processed\n#492 processed\n#493 processed\n#494 processed\n#495 processed\n#496 processed\n#497 processed\n#498 processed\n#499 processed\n#500 processed\n#501 processed\n#502 processed\n#503 processed\n#504 processed\n#505 processed\n#506 processed\n#507 processed\n#508 processed\n#509 processed\n#510 processed\n#511 processed\n#512 processed\n#513 processed\n#514 processed\n#515 processed\n#516 processed\n#517 processed\n#518 processed\n#519 processed\n#520 processed\n#521 processed\n#522 processed\n#523 processed\n#524 processed\n#525 processed\n#526 processed\n#527 processed\n#528 processed\n#529 processed\n#530 processed\n#531 processed\n#532 processed\n#533 processed\n#534 processed\n#535 processed\n#536 processed\n#537 processed\n#538 processed\nWARNING:urllib3.connectionpool:Retrying (Retry(total=1, connect=None, read=None, redirect=None, status=None)) after connection broken by 'ReadTimeoutError(\"HTTPSConnectionPool(host='nominatim.openstreetmap.org', port=443): Read timed out. (read timeout=1)\")': /search?q=%D0%9C%D0%BE%D1%81%D0%BA%D0%B2%D0%B0%2C+%D0%97%D0%B5%D0%BB%D0%B5%D0%BD%D0%BE%D0%B3%D1%80%D0%B0%D0%B4%2C+%D0%BF%D1%80%D0%BE%D0%B5%D0%B7%D0%B4+2-%D0%B9+%D0%97%D0%B0%D0%BF%D0%B0%D0%B4%D0%BD%D1%8B%D0%B9%2C+1&format=json&limit=1\n#539 processed\n#540 processed\n#541 processed\n#542 processed\n#543 processed\n#544 processed\n#545 not processed\n#546 not processed\n#547 processed\n#548 processed\n#549 processed\n#550 processed\n#551 processed\n#552 processed\n#553 processed\n#554 processed\n#555 processed\n#556 processed\n#557 processed\n#558 processed\n#559 processed\n#560 processed\n#561 processed\n#562 processed\n#563 processed\n#564 not processed\n#565 processed\n#566 processed\n#567 processed\n#568 processed\n#569 processed\n#570 processed\n#571 processed\n#572 processed\n#573 processed\n#574 processed\n#575 processed\n#576 processed\n#577 processed\n#578 processed\n#579 processed\n#580 processed\n#581 processed\n#582 processed\n#583 processed\n#584 processed\n#585 processed\n#586 processed\n#587 processed\n#588 processed\n#589 processed\n#590 processed\n#591 processed\n#592 processed\n#593 processed\n#594 processed\n#595 processed\n#596 processed\n#597 processed\n#598 processed\n#599 processed\n#600 processed\n#601 processed\n#602 processed\n#603 processed\n#604 processed\n#605 processed\n#606 processed\n#607 processed\n#608 processed\n#609 processed\n#610 processed\n#611 processed\n#612 processed\n#613 processed\n#614 processed\n#615 processed\n#616 processed\n#617 processed\n#618 processed\n#619 processed\n#620 processed\n#621 processed\n#622 processed\n#623 processed\n#624 processed\n#625 processed\n#626 processed\n#627 processed\n#628 processed\n#629 processed\n#630 processed\n#631 processed\n#632 processed\n#633 processed\n#634 processed\n#635 processed\n#636 processed\n#637 processed\n#638 processed\n#639 processed\n#640 processed\n#641 processed\n#642 processed\n#643 processed\n#644 processed\n#645 processed\n#646 processed\n#647 processed\n#648 processed\n#649 processed\n#650 processed\n#651 not processed\n#652 not processed\n#653 not processed\n#654 processed\n#655 processed\n#656 processed\n#657 processed\n#658 processed\n#659 processed\n#660 processed\n#661 processed\n#662 not processed\n#663 not processed\n#664 processed\n#665 processed\n#666 processed\n#667 processed\n#668 processed\n#669 processed\n#670 processed\n#671 processed\n#672 processed\n#673 processed\n#674 processed\n#675 not processed\n#676 not processed\n#677 processed\n#678 processed\n#679 processed\n#680 not processed\n#681 not processed\n#682 not processed\n#683 not processed\n#684 not processed\n#685 not processed\n#686 not processed\n#687 not processed\n#688 not processed\n#689 not processed\n#690 not processed\n#691 not processed\n#692 not processed\n#693 not processed\n#694 not processed\nWARNING:urllib3.connectionpool:Retrying (Retry(total=1, connect=None, read=None, redirect=None, status=None)) after connection broken by 'ReadTimeoutError(\"HTTPSConnectionPool(host='nominatim.openstreetmap.org', port=443): Read timed out. (read timeout=1)\")': /search?q=%D0%9C%D0%BE%D1%81%D0%BA%D0%B2%D0%B0%2C+%D0%9C%D0%B8%D0%BD%D1%81%D0%BA%D0%BE%D0%B5+%D1%88.+18-%D0%B9+%D0%BA%D0%B8%D0%BB%D0%BE%D0%BC%D0%B5%D1%82%D1%80%2C+24&format=json&limit=1\n#695 not processed\n#696 not processed\n#697 processed\n#698 processed\n#699 processed\n#700 processed\n#701 processed\n#702 processed\n#703 processed\n#704 processed\n#705 processed\n#706 processed\n#707 processed\n#708 processed\n#709 processed\n#710 processed\n#711 processed\n#712 processed\n#713 processed\n#714 processed\n#715 processed\n#716 processed\n#717 processed\n#718 processed\n#719 processed\n#720 processed\n#721 processed\n#722 processed\n#723 processed\n#724 processed\n#725 processed\n#726 processed\n#727 processed\n#728 processed\n#729 processed\n#730 processed\n#731 processed\n#732 processed\n#733 processed\n#734 processed\n#735 processed\n#736 processed\n#737 processed\n#738 processed\n#739 processed\n#740 processed\n#741 processed\n#742 processed\n#743 processed\n#744 processed\n#745 processed\n#746 processed\n#747 processed\n#748 processed\n#749 processed\n#750 processed\n#751 processed\n#752 processed\n#753 processed\n#754 processed\n#755 processed\n#756 processed\n#757 processed\n#758 processed\n#759 processed\n#760 not processed\n#761 processed\n#762 processed\n#763 processed\n#764 processed\n#765 processed\n#766 processed\n#767 processed\n#768 processed\n#769 processed\n#770 processed\n#771 processed\n#772 processed\n#773 processed\n#774 processed\n#775 processed\n#776 processed\n#777 processed\n#778 processed\n#779 processed\n#780 processed\n#781 processed\n#782 processed\n#783 processed\n#784 processed\n#785 processed\n#786 processed\n#787 processed\n#788 processed\n#789 processed\n#790 processed\n#791 processed\n#792 processed\n#793 processed\n#794 processed\n#795 processed\n#796 processed\n#797 processed\n#798 processed\n#799 processed\n#800 processed\n#801 processed\n#802 processed\n#803 processed\n#804 processed\n#805 processed\n#806 processed\n#807 processed\n#808 processed\n#809 processed\n#810 processed\n#811 processed\n#812 processed\n#813 processed\n#814 processed\n#815 processed\n#816 processed\n#817 processed\n#818 processed\n#819 processed\n#820 processed\n#821 processed\n#822 processed\n#823 processed\n#824 processed\n#825 processed\n#826 processed\n#827 processed\n#828 processed\n#829 processed\n#830 processed\n#831 processed\n#832 not processed\n#833 not processed\n#834 not processed\n#835 processed\n#836 processed\n#837 processed\n#838 processed\n#839 processed\n#840 processed\n#841 processed\n#842 not processed\n#843 processed\n#844 processed\n#845 processed\n#846 not processed\nWARNING:urllib3.connectionpool:Retrying (Retry(total=1, connect=None, read=None, redirect=None, status=None)) after connection broken by 'ReadTimeoutError(\"HTTPSConnectionPool(host='nominatim.openstreetmap.org', port=443): Read timed out. (read timeout=1)\")': /search?q=%D0%9C%D0%BE%D1%81%D0%BA%D0%B2%D0%B0%2C+%D0%BB%D0%B8%D0%BD%D0%B8%D1%8F+9-%D1%8F+%D0%A1%D0%B5%D0%B2%D0%B5%D1%80%D0%BD%D0%B0%D1%8F%2C+19&format=json&limit=1\n#847 processed\n#848 processed\n#849 not processed\n#850 processed\n#851 processed\n#852 processed\n#853 processed\n#854 processed\n#855 processed\n#856 processed\n#857 processed\n#858 processed\n#859 processed\n#860 processed\n#861 processed\n#862 processed\n#863 processed\n#864 processed\n#865 processed\n#866 not processed\n#867 processed\n#868 processed\n#869 processed\n#870 processed\n#871 not processed\n#872 processed\n#873 processed\n#874 processed\n#875 processed\n#876 processed\n#877 processed\nWARNING:urllib3.connectionpool:Retrying (Retry(total=1, connect=None, read=None, redirect=None, status=None)) after connection broken by 'ReadTimeoutError(\"HTTPSConnectionPool(host='nominatim.openstreetmap.org', port=443): Read timed out. (read timeout=1)\")': /search?q=%D0%9C%D0%BE%D1%81%D0%BA%D0%B2%D0%B0%2C+%D0%BC%D0%B8%D0%BA%D1%80%D0%BE%D1%80%D0%B0%D0%B9%D0%BE%D0%BD+%D0%A7%D0%B5%D1%80%D1%82%D0%B0%D0%BD%D0%BE%D0%B2%D0%BE+%D0%A1%D0%B5%D0%B2%D0%B5%D1%80%D0%BD%D0%BE%D0%B5%2C+5+%D0%BA%D0%B2&format=json&limit=1\n#878 processed\n#879 not processed\nWARNING:urllib3.connectionpool:Retrying (Retry(total=1, connect=None, read=None, redirect=None, status=None)) after connection broken by 'ReadTimeoutError(\"HTTPSConnectionPool(host='nominatim.openstreetmap.org', port=443): Read timed out. (read timeout=1)\")': /search?q=%D0%9C%D0%BE%D1%81%D0%BA%D0%B2%D0%B0%2C+%D0%9C%D0%BE%D1%81%D0%BA%D0%BE%D0%B2%D1%81%D0%BA%D0%B8%D0%B9+%D0%BF%D0%BE%D1%81%D0%B5%D0%BB%D0%B5%D0%BD%D0%B8%D0%B5%2C+%D0%9C%D0%BE%D1%81%D0%BA%D0%BE%D0%B2%D1%81%D0%BA%D0%B8%D0%B9%2C+%D0%BC%D0%B8%D0%BA%D1%80%D0%BE%D1%80%D0%B0%D0%B9%D0%BE%D0%BD+1-%D0%B9%2C+21%D0%90&format=json&limit=1\n#880 processed\n#881 processed\n#882 processed\n#883 processed\n#884 processed\n#885 processed\n#886 processed\n#887 processed\n#888 processed\n#889 processed\n#890 processed\n#891 processed\n#892 processed\n#893 processed\nWARNING:urllib3.connectionpool:Retrying (Retry(total=1, connect=None, read=None, redirect=None, status=None)) after connection broken by 'ReadTimeoutError(\"HTTPSConnectionPool(host='nominatim.openstreetmap.org', port=443): Read timed out. (read timeout=1)\")': /search?q=%D0%9C%D0%BE%D1%81%D0%BA%D0%B2%D0%B0%2C+%D0%9C%D0%BE%D1%81%D0%BA%D0%BE%D0%B2%D1%81%D0%BA%D0%B8%D0%B9+%D0%BF%D0%BE%D1%81%D0%B5%D0%BB%D0%B5%D0%BD%D0%B8%D0%B5%2C+%D0%9C%D0%BE%D1%81%D0%BA%D0%BE%D0%B2%D1%81%D0%BA%D0%B8%D0%B9%2C+%D0%BC%D0%B8%D0%BA%D1%80%D0%BE%D1%80%D0%B0%D0%B9%D0%BE%D0%BD+3-%D0%B9%2C+21&format=json&limit=1\nWARNING:urllib3.connectionpool:Retrying (Retry(total=0, connect=None, read=None, redirect=None, status=None)) after connection broken by 'ReadTimeoutError(\"HTTPSConnectionPool(host='nominatim.openstreetmap.org', port=443): Read timed out. (read timeout=1)\")': /search?q=%D0%9C%D0%BE%D1%81%D0%BA%D0%B2%D0%B0%2C+%D0%9C%D0%BE%D1%81%D0%BA%D0%BE%D0%B2%D1%81%D0%BA%D0%B8%D0%B9+%D0%BF%D0%BE%D1%81%D0%B5%D0%BB%D0%B5%D0%BD%D0%B8%D0%B5%2C+%D0%9C%D0%BE%D1%81%D0%BA%D0%BE%D0%B2%D1%81%D0%BA%D0%B8%D0%B9%2C+%D0%BC%D0%B8%D0%BA%D1%80%D0%BE%D1%80%D0%B0%D0%B9%D0%BE%D0%BD+3-%D0%B9%2C+21&format=json&limit=1\n#894 processed\n#895 processed\n#896 processed\n#897 processed\n#898 processed\n#899 processed\n#900 processed\n#901 processed\n#902 processed\n#903 processed\n#904 processed\n#905 processed\n#906 processed\n#907 processed\n#908 processed\n#909 processed\n#910 processed\n#911 processed\n#912 processed\n#913 processed\n#914 processed\n#915 processed\n#916 processed\n#917 processed\n#918 processed\n#919 processed\n#920 processed\n#921 processed\n#922 not processed\n#923 processed\n#924 not processed\n#925 not processed\n#926 processed\n#927 processed\n#928 processed\n#929 processed\n#930 processed\n#931 processed\n#932 processed\n#933 processed\n#934 processed\n#935 processed\n#936 processed\n#937 processed\n#938 processed\n#939 processed\n#940 not processed\n#941 not processed\n#942 processed\n#943 processed\n#944 processed\n#945 not processed\n#946 processed\n#947 processed\n#948 processed\n#949 processed\n#950 processed\n#951 processed\n#952 processed\n#953 processed\n#954 processed\n#955 processed\n#956 processed\n#957 processed\n#958 processed\n#959 processed\n#960 processed\n#961 processed\n#962 processed\n#963 processed\n#964 processed\n#965 processed\n#966 processed\n#967 processed\n#968 processed\n#969 processed\n#970 processed\n#971 processed\n#972 processed\n#973 processed\n#974 processed\n#975 processed\n#976 processed\n#977 processed\n#978 processed\n#979 processed\n#980 processed\n#981 processed\n#982 processed\n#983 processed\n#984 processed\n#985 processed\n#986 processed\n#987 processed\n#988 processed\n#989 processed\n#990 processed\n#991 processed\n#992 processed\n#993 processed\n#994 processed\n#995 processed\n#996 processed\n#997 processed\n#998 processed\n#999 processed\n#1000 processed\n#1001 processed\n#1002 processed\n#1003 processed\n#1004 processed\n#1005 processed\n#1006 processed\n#1007 processed\n#1008 processed\n#1009 processed\n#1010 processed\n#1011 processed\n#1012 processed\n#1013 processed\n#1014 processed\n#1015 processed\n#1016 processed\n#1017 processed\n#1018 processed\n#1019 processed\n#1020 processed\n#1021 processed\n#1022 processed\n#1023 processed\n#1024 processed\n#1025 processed\n#1026 processed\n#1027 processed\n#1028 processed\n#1029 processed\n#1030 processed\n#1031 processed\n#1032 processed\n#1033 processed\n#1034 processed\n#1035 processed\n#1036 processed\n#1037 processed\n#1038 processed\n#1039 not processed\n#1040 processed\n#1041 processed\n#1042 processed\n#1043 processed\n#1044 not processed\n#1045 processed\n#1046 processed\n#1047 processed\n#1048 processed\n#1049 processed\n#1050 processed\n#1051 processed\n#1052 processed\n#1053 processed\n#1054 processed\n#1055 processed\n#1056 not processed\n#1057 not processed\n#1058 not processed\n#1059 processed\n#1060 processed\n#1061 not processed\n#1062 processed\n#1063 processed\n#1064 processed\n#1065 processed\n#1066 processed\n#1067 processed\n#1068 processed\n#1069 processed\n#1070 processed\n#1071 processed\n#1072 processed\n#1073 processed\n#1074 processed\n#1075 processed\n#1076 processed\n#1077 processed\n#1078 processed\n#1079 processed\n#1080 processed\n#1081 processed\n#1082 processed\n#1083 processed\n#1084 processed\n#1085 processed\n#1086 processed\n#1087 processed\n#1088 processed\n#1089 processed\n#1090 not processed\n#1091 processed\n#1092 processed\n#1093 processed\n#1094 processed\n#1095 processed\n#1096 processed\n#1097 processed\n#1098 processed\n#1099 processed\n#1100 processed\n#1101 processed\n#1102 processed\n#1103 processed\n#1104 processed\n#1105 processed\n#1106 processed\n#1107 processed\n#1108 processed\n#1109 processed\n#1110 processed\n#1111 processed\n#1112 processed\n#1113 processed\n#1114 processed\n#1115 processed\n#1116 processed\n#1117 processed\n#1118 processed\n#1119 processed\n#1120 processed\n#1121 processed\n#1122 processed\n#1123 processed\n#1124 processed\n#1125 processed\n#1126 processed\n#1127 processed\n#1128 processed\n#1129 processed\n#1130 processed\n#1131 processed\n#1132 processed\n#1133 processed\n#1134 processed\n#1135 processed\n#1136 processed\n#1137 processed\n#1138 processed\n#1139 processed\n#1140 processed\n#1141 processed\n#1142 processed\n#1143 processed\n#1144 processed\n#1145 processed\n#1146 processed\n#1147 processed\n#1148 processed\n#1149 processed\n#1150 processed\n#1151 processed\n#1152 processed\n#1153 processed\n#1154 processed\n#1155 processed\n#1156 processed\n#1157 processed\n#1158 processed\n#1159 processed\n#1160 processed\n#1161 processed\n#1162 processed\n#1163 processed\n#1164 processed\n#1165 processed\n#1166 processed\n#1167 processed\n#1168 processed\n#1169 processed\n#1170 processed\n#1171 processed\n#1172 processed\n#1173 processed\n#1174 processed\n#1175 processed\n#1176 processed\n#1177 processed\n#1178 processed\n#1179 processed\n#1180 processed\n#1181 processed\n#1182 processed\n#1183 processed\n#1184 processed\n#1185 processed\n#1186 processed\n#1187 processed\n#1188 processed\n#1189 processed\n#1190 processed\n#1191 processed\n#1192 processed\n#1193 processed\n#1194 processed\n#1195 processed\n#1196 processed\n#1197 processed\n#1198 processed\n#1199 processed\n#1200 processed\n#1201 processed\n#1202 processed\n#1203 processed\n#1204 processed\n#1205 processed\n#1206 processed\n#1207 processed\n#1208 processed\n#1209 processed\n#1210 processed\n#1211 processed\n#1212 processed\n#1213 processed\n#1214 processed\n#1215 processed\n#1216 processed\n#1217 processed\n#1218 processed\n#1219 processed\n#1220 processed\n#1221 processed\n#1222 processed\n#1223 processed\n#1224 processed\n#1225 processed\n#1226 processed\n#1227 processed\n#1228 processed\n#1229 processed\n#1230 processed\n#1231 processed\n#1232 processed\n#1233 processed\n#1234 processed\n#1235 processed\n#1236 processed\n#1237 processed\n#1238 processed\n#1239 processed\n#1240 processed\n#1241 processed\n#1242 processed\n#1243 processed\n#1244 not processed\n#1245 processed\n#1246 processed\n#1247 processed\n#1248 processed\n#1249 processed\n#1250 processed\n#1251 processed\n#1252 processed\n#1253 processed\n#1254 processed\n#1255 processed\n#1256 processed\n#1257 processed\n#1258 processed\n#1259 processed\n#1260 processed\n#1261 processed\n#1262 processed\n#1263 processed\n#1264 processed\n#1265 processed\n#1266 not processed\n#1267 processed\n#1268 processed\n#1269 processed\n#1270 processed\n#1271 processed\n#1272 processed\n#1273 processed\n#1274 processed\n\n\n*** WARNING: max output size exceeded, skipping output. ***\n\nB1%D0%B8%D1%80%D1%81%D0%BA%D0%B0%D1%8F+%D0%BE%D0%B1%D0%BB%D0%B0%D1%81%D1%82%D1%8C%2C+%D0%A7%D0%B5%D1%80%D0%B5%D0%BF%D0%B0%D0%BD%D0%BE%D0%B2%D1%81%D0%BA%D0%B8%D0%B9+%D1%80%D0%B0%D0%B9%D0%BE%D0%BD%2C+%D0%B3%D0%BE%D1%80%D0%BE%D0%B4%D1%81%D0%BA%D0%BE%D0%B5+%D0%BF%D0%BE%D1%81%D0%B5%D0%BB%D0%B5%D0%BD%D0%B8%D0%B5+%D0%94%D0%BE%D1%80%D0%BE%D0%B3%D0%B8%D0%BD%D0%BE%2C+%D1%83%D0%BB%D0%B8%D1%86%D0%B0+%D0%9B%D0%B5%D0%BD%D0%B8%D0%BD%D0%B0%2C+6&format=json&limit=1\n#25440 not processed\n#25441 not processed\n#25442 processed\n#25443 processed\n#25444 processed\n#25445 processed\n#25446 processed\n#25447 processed\n#25448 processed\n#25449 processed\n#25450 processed\nWARNING:urllib3.connectionpool:Retrying (Retry(total=1, connect=None, read=None, redirect=None, status=None)) after connection broken by 'ReadTimeoutError(\"HTTPSConnectionPool(host='nominatim.openstreetmap.org', port=443): Read timed out. (read timeout=1)\")': /search?q=%D0%9D%D0%BE%D0%B2%D0%BE%D1%81%D0%B8%D0%B1%D0%B8%D1%80%D1%81%D0%BA%D0%B0%D1%8F+%D0%BE%D0%B1%D0%BB%D0%B0%D1%81%D1%82%D1%8C%2C+%D0%A7%D0%B5%D1%80%D0%B5%D0%BF%D0%B0%D0%BD%D0%BE%D0%B2%D1%81%D0%BA%D0%B8%D0%B9+%D1%80%D0%B0%D0%B9%D0%BE%D0%BD%2C+%D0%B3%D0%BE%D1%80%D0%BE%D0%B4%D1%81%D0%BA%D0%BE%D0%B5+%D0%BF%D0%BE%D1%81%D0%B5%D0%BB%D0%B5%D0%BD%D0%B8%D0%B5+%D0%94%D0%BE%D1%80%D0%BE%D0%B3%D0%B8%D0%BD%D0%BE%2C+%D1%83%D0%BB%D0%B8%D1%86%D0%B0+%D0%A8%D0%BE%D1%81%D1%81%D0%B5%D0%B9%D0%BD%D0%B0%D1%8F%2C+7&format=json&limit=1\n#25451 processed\n#25452 processed\n#25453 processed\n#25454 processed\n#25455 processed\n#25456 processed\n#25457 processed\n#25458 processed\n#25459 processed\n#25460 processed\n#25461 processed\n#25462 processed\n#25463 processed\n#25464 processed\n#25465 processed\nWARNING:urllib3.connectionpool:Retrying (Retry(total=1, connect=None, read=None, redirect=None, status=None)) after connection broken by 'ReadTimeoutError(\"HTTPSConnectionPool(host='nominatim.openstreetmap.org', port=443): Read timed out. (read timeout=1)\")': /search?q=%D0%9D%D0%BE%D0%B2%D0%BE%D1%81%D0%B8%D0%B1%D0%B8%D1%80%D1%81%D0%BA%D0%B0%D1%8F+%D0%BE%D0%B1%D0%BB%D0%B0%D1%81%D1%82%D1%8C%2C+%D0%A7%D0%B5%D1%80%D0%B5%D0%BF%D0%B0%D0%BD%D0%BE%D0%B2%D1%81%D0%BA%D0%B8%D0%B9+%D1%80%D0%B0%D0%B9%D0%BE%D0%BD%2C+%D1%81%D0%B5%D0%BB%D0%BE+%D0%91%D1%83%D1%80%D0%B0%D0%BD%D0%BE%D0%B2%D0%BE%2C+%D1%83%D0%BB%D0%B8%D1%86%D0%B0+%D0%91%D0%B5%D1%80%D0%B4%D1%81%D0%BA%D0%B0%D1%8F%2C+3&format=json&limit=1\nWARNING:urllib3.connectionpool:Retrying (Retry(total=0, connect=None, read=None, redirect=None, status=None)) after connection broken by 'ReadTimeoutError(\"HTTPSConnectionPool(host='nominatim.openstreetmap.org', port=443): Read timed out. (read timeout=1)\")': /search?q=%D0%9D%D0%BE%D0%B2%D0%BE%D1%81%D0%B8%D0%B1%D0%B8%D1%80%D1%81%D0%BA%D0%B0%D1%8F+%D0%BE%D0%B1%D0%BB%D0%B0%D1%81%D1%82%D1%8C%2C+%D0%A7%D0%B5%D1%80%D0%B5%D0%BF%D0%B0%D0%BD%D0%BE%D0%B2%D1%81%D0%BA%D0%B8%D0%B9+%D1%80%D0%B0%D0%B9%D0%BE%D0%BD%2C+%D1%81%D0%B5%D0%BB%D0%BE+%D0%91%D1%83%D1%80%D0%B0%D0%BD%D0%BE%D0%B2%D0%BE%2C+%D1%83%D0%BB%D0%B8%D1%86%D0%B0+%D0%91%D0%B5%D1%80%D0%B4%D1%81%D0%BA%D0%B0%D1%8F%2C+3&format=json&limit=1\nWARNING:geopy:RateLimiter caught an error, retrying (0/2 tries). Called with (*('Новосибирская область, Черепановский район, село Бураново, улица Бердская, 3',), **{}).\nTraceback (most recent call last):\n  File \"/databricks/python/lib/python3.9/site-packages/urllib3/connectionpool.py\", line 445, in _make_request\n    six.raise_from(e, None)\n  File \"<string>\", line 3, in raise_from\n  File \"/databricks/python/lib/python3.9/site-packages/urllib3/connectionpool.py\", line 440, in _make_request\n    httplib_response = conn.getresponse()\n  File \"/usr/lib/python3.9/http/client.py\", line 1349, in getresponse\n    response.begin()\n  File \"/usr/lib/python3.9/http/client.py\", line 316, in begin\n    version, status, reason = self._read_status()\n  File \"/usr/lib/python3.9/http/client.py\", line 277, in _read_status\n    line = str(self.fp.readline(_MAXLINE + 1), \"iso-8859-1\")\n  File \"/usr/lib/python3.9/socket.py\", line 704, in readinto\n    return self._sock.recv_into(b)\n  File \"/usr/lib/python3.9/ssl.py\", line 1241, in recv_into\n    return self.read(nbytes, buffer)\n  File \"/usr/lib/python3.9/ssl.py\", line 1099, in read\n    return self._sslobj.read(len, buffer)\nsocket.timeout: The read operation timed out\n\nDuring handling of the above exception, another exception occurred:\n\nTraceback (most recent call last):\n  File \"/databricks/python/lib/python3.9/site-packages/urllib3/connectionpool.py\", line 699, in urlopen\n    httplib_response = self._make_request(\n  File \"/databricks/python/lib/python3.9/site-packages/urllib3/connectionpool.py\", line 447, in _make_request\n    self._raise_timeout(err=e, url=url, timeout_value=read_timeout)\n  File \"/databricks/python/lib/python3.9/site-packages/urllib3/connectionpool.py\", line 336, in _raise_timeout\n    raise ReadTimeoutError(\nurllib3.exceptions.ReadTimeoutError: HTTPSConnectionPool(host='nominatim.openstreetmap.org', port=443): Read timed out. (read timeout=1)\n\nDuring handling of the above exception, another exception occurred:\n\nTraceback (most recent call last):\n  File \"/databricks/python/lib/python3.9/site-packages/requests/adapters.py\", line 439, in send\n    resp = conn.urlopen(\n  File \"/databricks/python/lib/python3.9/site-packages/urllib3/connectionpool.py\", line 783, in urlopen\n    return self.urlopen(\n  File \"/databricks/python/lib/python3.9/site-packages/urllib3/connectionpool.py\", line 783, in urlopen\n    return self.urlopen(\n  File \"/databricks/python/lib/python3.9/site-packages/urllib3/connectionpool.py\", line 755, in urlopen\n    retries = retries.increment(\n  File \"/databricks/python/lib/python3.9/site-packages/urllib3/util/retry.py\", line 574, in increment\n    raise MaxRetryError(_pool, url, error or ResponseError(cause))\nurllib3.exceptions.MaxRetryError: HTTPSConnectionPool(host='nominatim.openstreetmap.org', port=443): Max retries exceeded with url: /search?q=%D0%9D%D0%BE%D0%B2%D0%BE%D1%81%D0%B8%D0%B1%D0%B8%D1%80%D1%81%D0%BA%D0%B0%D1%8F+%D0%BE%D0%B1%D0%BB%D0%B0%D1%81%D1%82%D1%8C%2C+%D0%A7%D0%B5%D1%80%D0%B5%D0%BF%D0%B0%D0%BD%D0%BE%D0%B2%D1%81%D0%BA%D0%B8%D0%B9+%D1%80%D0%B0%D0%B9%D0%BE%D0%BD%2C+%D1%81%D0%B5%D0%BB%D0%BE+%D0%91%D1%83%D1%80%D0%B0%D0%BD%D0%BE%D0%B2%D0%BE%2C+%D1%83%D0%BB%D0%B8%D1%86%D0%B0+%D0%91%D0%B5%D1%80%D0%B4%D1%81%D0%BA%D0%B0%D1%8F%2C+3&format=json&limit=1 (Caused by ReadTimeoutError(\"HTTPSConnectionPool(host='nominatim.openstreetmap.org', port=443): Read timed out. (read timeout=1)\"))\n\nDuring handling of the above exception, another exception occurred:\n\nTraceback (most recent call last):\n  File \"/local_disk0/.ephemeral_nfs/envs/pythonEnv-0f323895-9c48-4ea8-8851-b90ac720705a/lib/python3.9/site-packages/geopy/adapters.py\", line 482, in _request\n    resp = self.session.get(url, timeout=timeout, headers=headers)\n  File \"/databricks/python/lib/python3.9/site-packages/requests/sessions.py\", line 555, in get\n    return self.request('GET', url, **kwargs)\n  File \"/databricks/python/lib/python3.9/site-packages/requests/sessions.py\", line 542, in request\n    resp = self.send(prep, **send_kwargs)\n  File \"/databricks/python/lib/python3.9/site-packages/requests/sessions.py\", line 655, in send\n    r = adapter.send(request, **kwargs)\n  File \"/databricks/python/lib/python3.9/site-packages/requests/adapters.py\", line 516, in send\n    raise ConnectionError(e, request=request)\nrequests.exceptions.ConnectionError: HTTPSConnectionPool(host='nominatim.openstreetmap.org', port=443): Max retries exceeded with url: /search?q=%D0%9D%D0%BE%D0%B2%D0%BE%D1%81%D0%B8%D0%B1%D0%B8%D1%80%D1%81%D0%BA%D0%B0%D1%8F+%D0%BE%D0%B1%D0%BB%D0%B0%D1%81%D1%82%D1%8C%2C+%D0%A7%D0%B5%D1%80%D0%B5%D0%BF%D0%B0%D0%BD%D0%BE%D0%B2%D1%81%D0%BA%D0%B8%D0%B9+%D1%80%D0%B0%D0%B9%D0%BE%D0%BD%2C+%D1%81%D0%B5%D0%BB%D0%BE+%D0%91%D1%83%D1%80%D0%B0%D0%BD%D0%BE%D0%B2%D0%BE%2C+%D1%83%D0%BB%D0%B8%D1%86%D0%B0+%D0%91%D0%B5%D1%80%D0%B4%D1%81%D0%BA%D0%B0%D1%8F%2C+3&format=json&limit=1 (Caused by ReadTimeoutError(\"HTTPSConnectionPool(host='nominatim.openstreetmap.org', port=443): Read timed out. (read timeout=1)\"))\n\nDuring handling of the above exception, another exception occurred:\n\nTraceback (most recent call last):\n  File \"/local_disk0/.ephemeral_nfs/envs/pythonEnv-0f323895-9c48-4ea8-8851-b90ac720705a/lib/python3.9/site-packages/geopy/extra/rate_limiter.py\", line 136, in _retries_gen\n    yield i  # Run the function.\n  File \"/local_disk0/.ephemeral_nfs/envs/pythonEnv-0f323895-9c48-4ea8-8851-b90ac720705a/lib/python3.9/site-packages/geopy/extra/rate_limiter.py\", line 274, in __call__\n    res = self.func(*args, **kwargs)\n  File \"/local_disk0/.ephemeral_nfs/envs/pythonEnv-0f323895-9c48-4ea8-8851-b90ac720705a/lib/python3.9/site-packages/geopy/geocoders/nominatim.py\", line 297, in geocode\n    return self._call_geocoder(url, callback, timeout=timeout)\n  File \"/local_disk0/.ephemeral_nfs/envs/pythonEnv-0f323895-9c48-4ea8-8851-b90ac720705a/lib/python3.9/site-packages/geopy/geocoders/base.py\", line 368, in _call_geocoder\n    result = self.adapter.get_json(url, timeout=timeout, headers=req_headers)\n  File \"/local_disk0/.ephemeral_nfs/envs/pythonEnv-0f323895-9c48-4ea8-8851-b90ac720705a/lib/python3.9/site-packages/geopy/adapters.py\", line 472, in get_json\n    resp = self._request(url, timeout=timeout, headers=headers)\n  File \"/local_disk0/.ephemeral_nfs/envs/pythonEnv-0f323895-9c48-4ea8-8851-b90ac720705a/lib/python3.9/site-packages/geopy/adapters.py\", line 494, in _request\n    raise GeocoderUnavailable(message)\ngeopy.exc.GeocoderUnavailable: HTTPSConnectionPool(host='nominatim.openstreetmap.org', port=443): Max retries exceeded with url: /search?q=%D0%9D%D0%BE%D0%B2%D0%BE%D1%81%D0%B8%D0%B1%D0%B8%D1%80%D1%81%D0%BA%D0%B0%D1%8F+%D0%BE%D0%B1%D0%BB%D0%B0%D1%81%D1%82%D1%8C%2C+%D0%A7%D0%B5%D1%80%D0%B5%D0%BF%D0%B0%D0%BD%D0%BE%D0%B2%D1%81%D0%BA%D0%B8%D0%B9+%D1%80%D0%B0%D0%B9%D0%BE%D0%BD%2C+%D1%81%D0%B5%D0%BB%D0%BE+%D0%91%D1%83%D1%80%D0%B0%D0%BD%D0%BE%D0%B2%D0%BE%2C+%D1%83%D0%BB%D0%B8%D1%86%D0%B0+%D0%91%D0%B5%D1%80%D0%B4%D1%81%D0%BA%D0%B0%D1%8F%2C+3&format=json&limit=1 (Caused by ReadTimeoutError(\"HTTPSConnectionPool(host='nominatim.openstreetmap.org', port=443): Read timed out. (read timeout=1)\"))\n#25466 not processed\n#25467 not processed\n#25468 not processed\nWARNING:urllib3.connectionpool:Retrying (Retry(total=1, connect=None, read=None, redirect=None, status=None)) after connection broken by 'ReadTimeoutError(\"HTTPSConnectionPool(host='nominatim.openstreetmap.org', port=443): Read timed out. (read timeout=1)\")': /search?q=%D0%9D%D0%BE%D0%B2%D0%BE%D1%81%D0%B8%D0%B1%D0%B8%D1%80%D1%81%D0%BA%D0%B0%D1%8F+%D0%BE%D0%B1%D0%BB%D0%B0%D1%81%D1%82%D1%8C%2C+%D0%A7%D0%B5%D1%80%D0%B5%D0%BF%D0%B0%D0%BD%D0%BE%D0%B2%D1%81%D0%BA%D0%B8%D0%B9+%D1%80%D0%B0%D0%B9%D0%BE%D0%BD%2C+%D1%81%D0%B5%D0%BB%D0%BE+%D0%92%D0%B5%D1%80%D1%85-%D0%9C%D0%B8%D0%BB%D1%8C%D1%82%D1%8E%D1%88%D0%B8%2C+%D1%83%D0%BB%D0%B8%D1%86%D0%B0+%D0%A6%D0%B5%D0%BD%D1%82%D1%80%D0%B0%D0%BB%D1%8C%D0%BD%D0%B0%D1%8F%2C+7&format=json&limit=1\n#25469 not processed\n#25470 not processed\n#25471 not processed\n#25472 not processed\n#25473 not processed\n#25474 not processed\n#25475 not processed\nWARNING:urllib3.connectionpool:Retrying (Retry(total=1, connect=None, read=None, redirect=None, status=None)) after connection broken by 'ReadTimeoutError(\"HTTPSConnectionPool(host='nominatim.openstreetmap.org', port=443): Read timed out. (read timeout=1)\")': /search?q=%D0%9D%D0%BE%D0%B2%D0%BE%D1%81%D0%B8%D0%B1%D0%B8%D1%80%D1%81%D0%BA%D0%B0%D1%8F+%D0%BE%D0%B1%D0%BB%D0%B0%D1%81%D1%82%D1%8C%2C+%D0%A7%D0%B5%D1%80%D0%B5%D0%BF%D0%B0%D0%BD%D0%BE%D0%B2%D1%81%D0%BA%D0%B8%D0%B9+%D1%80%D0%B0%D0%B9%D0%BE%D0%BD%2C+%D1%81%D0%B5%D0%BB%D0%BE+%D0%9A%D1%80%D1%83%D1%82%D0%B8%D1%88%D0%BA%D0%B0%2C+%D1%83%D0%BB%D0%B8%D1%86%D0%B0+%D0%A1%D0%B2%D0%B5%D1%82%D0%BB%D0%B0%D1%8F%2C+19%D0%90&format=json&limit=1\n#25476 not processed\n#25477 not processed\n#25478 not processed\n#25479 not processed\n#25480 not processed\n#25481 not processed\n#25482 processed\n#25483 processed\n#25484 processed\nWARNING:urllib3.connectionpool:Retrying (Retry(total=1, connect=None, read=None, redirect=None, status=None)) after connection broken by 'ReadTimeoutError(\"HTTPSConnectionPool(host='nominatim.openstreetmap.org', port=443): Read timed out. (read timeout=1)\")': /search?q=%D0%9D%D0%BE%D0%B2%D0%BE%D1%81%D0%B8%D0%B1%D0%B8%D1%80%D1%81%D0%BA%D0%B0%D1%8F+%D0%BE%D0%B1%D0%BB%D0%B0%D1%81%D1%82%D1%8C%2C+%D0%A7%D0%B5%D1%80%D0%B5%D0%BF%D0%B0%D0%BD%D0%BE%D0%B2%D1%81%D0%BA%D0%B8%D0%B9+%D1%80%D0%B0%D0%B9%D0%BE%D0%BD%2C+%D1%81%D0%B5%D0%BB%D0%BE+%D0%9C%D0%B5%D0%B4%D0%B2%D0%B5%D0%B4%D1%81%D0%BA%D0%BE%D0%B5%2C+%D1%83%D0%BB%D0%B8%D1%86%D0%B0+%D0%A0%D0%BE%D0%BC%D0%B0%D0%BD%D0%BE%D0%B2%D0%B0%2C+23&format=json&limit=1\n#25485 processed\n#25486 processed\n#25487 processed\n#25488 processed\n#25489 processed\n#25490 processed\n#25491 processed\nWARNING:urllib3.connectionpool:Retrying (Retry(total=1, connect=None, read=None, redirect=None, status=None)) after connection broken by 'ReadTimeoutError(\"HTTPSConnectionPool(host='nominatim.openstreetmap.org', port=443): Read timed out. (read timeout=1)\")': /search?q=%D0%9D%D0%BE%D0%B2%D0%BE%D1%81%D0%B8%D0%B1%D0%B8%D1%80%D1%81%D0%BA%D0%B0%D1%8F+%D0%BE%D0%B1%D0%BB%D0%B0%D1%81%D1%82%D1%8C%2C+%D0%A7%D0%B5%D1%80%D0%B5%D0%BF%D0%B0%D0%BD%D0%BE%D0%B2%D1%81%D0%BA%D0%B8%D0%B9+%D1%80%D0%B0%D0%B9%D0%BE%D0%BD%2C+%D0%A7%D0%B5%D1%80%D0%B5%D0%BF%D0%B0%D0%BD%D0%BE%D0%B2%D0%BE%2C+%D0%BF%D0%B5%D1%80+%D0%AD%D0%BD%D0%B5%D1%80%D0%B3%D0%B5%D1%82%D0%B8%D0%BA%D0%BE%D0%B2%2C+16%D0%90&format=json&limit=1\n#25492 not processed\n#25493 not processed\n#25494 not processed\n#25495 processed\n#25496 processed\n#25497 processed\n#25498 processed\n#25499 not processed\n#25500 processed\nWARNING:urllib3.connectionpool:Retrying (Retry(total=1, connect=None, read=None, redirect=None, status=None)) after connection broken by 'ReadTimeoutError(\"HTTPSConnectionPool(host='nominatim.openstreetmap.org', port=443): Read timed out. (read timeout=1)\")': /search?q=%D0%9D%D0%BE%D0%B2%D0%BE%D1%81%D0%B8%D0%B1%D0%B8%D1%80%D1%81%D0%BA%D0%B0%D1%8F+%D0%BE%D0%B1%D0%BB%D0%B0%D1%81%D1%82%D1%8C%2C+%D0%A7%D0%B5%D1%80%D0%B5%D0%BF%D0%B0%D0%BD%D0%BE%D0%B2%D1%81%D0%BA%D0%B8%D0%B9+%D1%80%D0%B0%D0%B9%D0%BE%D0%BD%2C+%D0%A7%D0%B5%D1%80%D0%B5%D0%BF%D0%B0%D0%BD%D0%BE%D0%B2%D0%BE%2C+%D1%83%D0%BB%D0%B8%D1%86%D0%B0+%D0%9F%D0%B0%D1%80%D1%82%D0%B8%D0%B7%D0%B0%D0%BD%D1%81%D0%BA%D0%B0%D1%8F%2C+103%2F%D0%92&format=json&limit=1\n#25501 processed\n#25502 processed\n#25503 processed\n#25504 processed\n#25505 processed\n#25506 processed\n#25507 processed\n#25508 processed\nWARNING:urllib3.connectionpool:Retrying (Retry(total=1, connect=None, read=None, redirect=None, status=None)) after connection broken by 'ReadTimeoutError(\"HTTPSConnectionPool(host='nominatim.openstreetmap.org', port=443): Read timed out. (read timeout=1)\")': /search?q=%D0%9D%D0%BE%D0%B2%D0%BE%D1%81%D0%B8%D0%B1%D0%B8%D1%80%D1%81%D0%BA%D0%B0%D1%8F+%D0%BE%D0%B1%D0%BB%D0%B0%D1%81%D1%82%D1%8C%2C+%D0%A7%D0%B5%D1%80%D0%B5%D0%BF%D0%B0%D0%BD%D0%BE%D0%B2%D1%81%D0%BA%D0%B8%D0%B9+%D1%80%D0%B0%D0%B9%D0%BE%D0%BD%2C+%D0%A7%D0%B5%D1%80%D0%B5%D0%BF%D0%B0%D0%BD%D0%BE%D0%B2%D0%BE%2C+%D1%83%D0%BB%D0%B8%D1%86%D0%B0+%D0%A0%D0%BE%D0%BC%D0%B0%D0%BD%D0%BE%D0%B2%D0%B0%2C+80+%D0%BA%D0%90%D0%97%D0%9A+%E2%84%96+1&format=json&limit=1\n#25509 not processed\n#25510 processed\n#25511 processed\n#25512 processed\n#25513 processed\n#25514 processed\n#25515 processed\n#25516 processed\n#25517 processed\n#25518 processed\n#25519 processed\n#25520 not processed\n#25521 processed\n#25522 processed\n#25523 not processed\n#25524 processed\n#25525 processed\n#25526 not processed\nWARNING:urllib3.connectionpool:Retrying (Retry(total=1, connect=None, read=None, redirect=None, status=None)) after connection broken by 'ReadTimeoutError(\"HTTPSConnectionPool(host='nominatim.openstreetmap.org', port=443): Read timed out. (read timeout=1)\")': /search?q=%D0%9D%D0%BE%D0%B2%D0%BE%D1%81%D0%B8%D0%B1%D0%B8%D1%80%D1%81%D0%BA%D0%B0%D1%8F+%D0%BE%D0%B1%D0%BB%D0%B0%D1%81%D1%82%D1%8C%2C+%D0%A7%D0%B8%D1%81%D1%82%D0%BE%D0%BE%D0%B7%D0%B5%D1%80%D0%BD%D1%8B%D0%B9+%D1%80%D0%B0%D0%B9%D0%BE%D0%BD%2C+%D0%B3%D0%BE%D1%80%D0%BE%D0%B4%D1%81%D0%BA%D0%BE%D0%B5+%D0%BF%D0%BE%D1%81%D0%B5%D0%BB%D0%B5%D0%BD%D0%B8%D0%B5+%D0%A7%D0%B8%D1%81%D1%82%D0%BE%D0%BE%D0%B7%D0%B5%D1%80%D0%BD%D0%BE%D0%B5%2C+%D1%83%D0%BB%D0%B8%D1%86%D0%B0+%D0%92%D0%BE%D0%BA%D0%B7%D0%B0%D0%BB%D1%8C%D0%BD%D0%B0%D1%8F%2C+8&format=json&limit=1\n#25527 not processed\n#25528 processed\n#25529 processed\n#25530 processed\n#25531 processed\n#25532 processed\n#25533 processed\n#25534 processed\n#25535 processed\n#25536 processed\n#25537 processed\n#25538 processed\n#25539 processed\n#25540 processed\n#25541 processed\n#25542 processed\n#25543 not processed\n#25544 processed\n#25545 processed\n#25546 processed\n#25547 processed\n#25548 processed\n#25549 processed\n#25550 processed\n#25551 processed\n#25552 processed\n#25553 processed\n#25554 not processed\n#25555 not processed\n#25556 processed\n#25557 processed\n#25558 processed\n#25559 not processed\n#25560 processed\n#25561 processed\n#25562 processed\n#25563 processed\n#25564 processed\n#25565 processed\n#25566 processed\n#25567 processed\n#25568 processed\n#25569 processed\nWARNING:urllib3.connectionpool:Retrying (Retry(total=1, connect=None, read=None, redirect=None, status=None)) after connection broken by 'ReadTimeoutError(\"HTTPSConnectionPool(host='nominatim.openstreetmap.org', port=443): Read timed out. (read timeout=1)\")': /search?q=%D0%9D%D0%BE%D0%B2%D0%BE%D1%81%D0%B8%D0%B1%D0%B8%D1%80%D1%81%D0%BA%D0%B0%D1%8F+%D0%BE%D0%B1%D0%BB%D0%B0%D1%81%D1%82%D1%8C%2C+%D0%A7%D1%83%D0%BB%D1%8B%D0%BC%D1%81%D0%BA%D0%B8%D0%B9+%D1%80%D0%B0%D0%B9%D0%BE%D0%BD%2C+%D0%A7%D1%83%D0%BB%D1%8B%D0%BC%2C+%D1%83%D0%BB%D0%B8%D1%86%D0%B0+%D0%9A%D0%BE%D0%BE%D0%BF%D0%B5%D1%80%D0%B0%D1%82%D0%B8%D0%B2%D0%BD%D0%B0%D1%8F%2C+37%D0%90&format=json&limit=1\n#25570 processed\n#25571 processed\nWARNING:urllib3.connectionpool:Retrying (Retry(total=1, connect=None, read=None, redirect=None, status=None)) after connection broken by 'ReadTimeoutError(\"HTTPSConnectionPool(host='nominatim.openstreetmap.org', port=443): Read timed out. (read timeout=1)\")': /search?q=%D0%9D%D0%BE%D0%B2%D0%BE%D1%81%D0%B8%D0%B1%D0%B8%D1%80%D1%81%D0%BA%D0%B0%D1%8F+%D0%BE%D0%B1%D0%BB%D0%B0%D1%81%D1%82%D1%8C%2C+%D0%A7%D1%83%D0%BB%D1%8B%D0%BC%D1%81%D0%BA%D0%B8%D0%B9+%D1%80%D0%B0%D0%B9%D0%BE%D0%BD%2C+%D0%A7%D1%83%D0%BB%D1%8B%D0%BC%2C+%D1%83%D0%BB%D0%B8%D1%86%D0%B0+%D0%9C%D0%B0%D0%BA%D1%81%D0%B8%D0%BC%D0%B0+%D0%93%D0%BE%D1%80%D1%8C%D0%BA%D0%BE%D0%B3%D0%BE%2C+32&format=json&limit=1\n#25572 not processed\n#25573 processed\n#25574 processed\n#25575 processed\n#25576 processed\n#25577 not processed\n#25578 processed\n#25579 processed\n#25580 processed\n#25581 processed\n#25582 processed\n#25583 processed\n#25584 processed\n#25585 processed\n#25586 processed\n#25587 not processed\n#25588 not processed\n#25589 not processed\n#25590 not processed\n#25591 not processed\nWARNING:urllib3.connectionpool:Retrying (Retry(total=1, connect=None, read=None, redirect=None, status=None)) after connection broken by 'ReadTimeoutError(\"HTTPSConnectionPool(host='nominatim.openstreetmap.org', port=443): Read timed out. (read timeout=1)\")': /search?q=%D0%9D%D0%BE%D0%B2%D0%BE%D1%81%D0%B8%D0%B1%D0%B8%D1%80%D1%81%D0%BA%D0%B0%D1%8F+%D0%BE%D0%B1%D0%BB%D0%B0%D1%81%D1%82%D1%8C%2C+%D0%A7%D1%83%D0%BB%D1%8B%D0%BC%D1%81%D0%BA%D0%B8%D0%B9+%D1%80%D0%B0%D0%B9%D0%BE%D0%BD%2C+%D0%9A%D0%BE%D0%BA%D0%BE%D1%88%D0%B8%D0%BD%D0%BE+%D1%81%D0%B5%D0%BB%D0%BE%2C+%D1%83%D0%BB%D0%B8%D1%86%D0%B0+%D0%9B%D0%B5%D0%BD%D0%B8%D0%BD%D0%B0%2C+6&format=json&limit=1\n#25592 not processed\n#25593 not processed\n#25594 not processed\n#25595 not processed\n#25596 not processed\n#25597 not processed\n#25598 not processed\n#25599 processed\n#25600 processed\nWARNING:urllib3.connectionpool:Retrying (Retry(total=1, connect=None, read=None, redirect=None, status=None)) after connection broken by 'ReadTimeoutError(\"HTTPSConnectionPool(host='nominatim.openstreetmap.org', port=443): Read timed out. (read timeout=1)\")': /search?q=%D0%9D%D0%BE%D0%B2%D0%BE%D1%81%D0%B8%D0%B1%D0%B8%D1%80%D1%81%D0%BA%D0%B0%D1%8F+%D0%BE%D0%B1%D0%BB%D0%B0%D1%81%D1%82%D1%8C%2C+%D0%A7%D1%83%D0%BB%D1%8B%D0%BC%D1%81%D0%BA%D0%B8%D0%B9+%D1%80%D0%B0%D0%B9%D0%BE%D0%BD%2C+%D1%81%D0%B5%D0%BB%D0%BE+%D0%9D%D0%BE%D0%B2%D0%BE%D0%B8%D1%82%D0%BA%D1%83%D0%BB%D1%8C%D1%81%D0%BA%D0%BE%D0%B5%2C+%D1%83%D0%BB%D0%B8%D1%86%D0%B0+%D0%9C%D0%B8%D1%80%D0%B0%2C+19&format=json&limit=1\n#25601 not processed\n#25602 not processed\nWARNING:urllib3.connectionpool:Retrying (Retry(total=1, connect=None, read=None, redirect=None, status=None)) after connection broken by 'ReadTimeoutError(\"HTTPSConnectionPool(host='nominatim.openstreetmap.org', port=443): Read timed out. (read timeout=1)\")': /search?q=%D0%9D%D0%BE%D0%B2%D0%BE%D1%81%D0%B8%D0%B1%D0%B8%D1%80%D1%81%D0%BA%D0%B0%D1%8F+%D0%BE%D0%B1%D0%BB%D0%B0%D1%81%D1%82%D1%8C%2C+%D0%A7%D1%83%D0%BB%D1%8B%D0%BC%D1%81%D0%BA%D0%B8%D0%B9+%D1%80%D0%B0%D0%B9%D0%BE%D0%BD%2C+%D0%A1%D0%B5%D1%80%D0%B5%D0%B1%D1%80%D1%8F%D0%BD%D1%81%D0%BA%D0%BE%D0%B5+%D1%81%D0%B5%D0%BB%D0%BE%2C+%D1%83%D0%BB%D0%B8%D1%86%D0%B0+%D0%A1%D0%BE%D0%B2%D0%B5%D1%82%D1%81%D0%BA%D0%B0%D1%8F%2C+41%D0%91&format=json&limit=1\n#25603 not processed\n#25604 processed\n#25605 processed\n#25606 processed\n#25607 processed\n#25608 processed\n#25609 processed\n#25610 processed\n#25611 processed\n#25612 processed\n#25613 processed\n#25614 processed\n#25615 processed\n#25616 processed\n#25617 processed\n#25618 processed\n#25619 processed\n#25620 processed\n#25621 processed\n#25622 processed\n#25623 processed\n#25624 processed\n#25625 processed\n#25626 processed\n#25627 processed\n#25628 processed\n#25629 processed\n#25630 not processed\n#25631 processed\n#25632 processed\n#25633 processed\n#25634 processed\n#25635 processed\n#25636 processed\n#25637 processed\n#25638 processed\n#25639 not processed\nWARNING:urllib3.connectionpool:Retrying (Retry(total=1, connect=None, read=None, redirect=None, status=None)) after connection broken by 'ReadTimeoutError(\"HTTPSConnectionPool(host='nominatim.openstreetmap.org', port=443): Read timed out. (read timeout=1)\")': /search?q=%D0%9D%D0%BE%D0%B2%D0%BE%D1%81%D0%B8%D0%B1%D0%B8%D1%80%D1%81%D0%BA%D0%B0%D1%8F%2C+%D0%9A%D0%B0%D1%80%D0%B0%D1%81%D1%83%D0%BA%D1%81%D0%BA%D0%B8%D0%B9%2C+%D0%9A%D0%B0%D1%80%D0%B0%D1%81%D1%83%D0%BA%2C+%D0%9C%D0%B0%D0%BA%D1%81%D0%B8%D0%BC%D0%B0+%D0%93%D0%BE%D1%80%D1%8C%D0%BA%D0%BE%D0%B3%D0%BE%2C+174&format=json&limit=1\nWARNING:urllib3.connectionpool:Retrying (Retry(total=0, connect=None, read=None, redirect=None, status=None)) after connection broken by 'ReadTimeoutError(\"HTTPSConnectionPool(host='nominatim.openstreetmap.org', port=443): Read timed out. (read timeout=1)\")': /search?q=%D0%9D%D0%BE%D0%B2%D0%BE%D1%81%D0%B8%D0%B1%D0%B8%D1%80%D1%81%D0%BA%D0%B0%D1%8F%2C+%D0%9A%D0%B0%D1%80%D0%B0%D1%81%D1%83%D0%BA%D1%81%D0%BA%D0%B8%D0%B9%2C+%D0%9A%D0%B0%D1%80%D0%B0%D1%81%D1%83%D0%BA%2C+%D0%9C%D0%B0%D0%BA%D1%81%D0%B8%D0%BC%D0%B0+%D0%93%D0%BE%D1%80%D1%8C%D0%BA%D0%BE%D0%B3%D0%BE%2C+174&format=json&limit=1\n#25640 processed\n#25641 processed\n#25642 processed\n#25643 processed\n#25644 processed\n#25645 processed\n#25646 processed\n#25647 processed\n#25648 not processed\n#25649 not processed\n#25650 processed\n#25651 processed\n#25652 processed\n#25653 processed\n#25654 processed\n#25655 not processed\n#25656 processed\n#25657 not processed\n#25658 processed\n#25659 processed\n#25660 processed\n#25661 processed\n#25662 processed\n#25663 processed\n#25664 processed\n#25665 processed\n#25666 processed\n#25667 processed\n#25668 processed\n#25669 processed\n#25670 processed\n#25671 processed\n#25672 processed\n#25673 processed\n#25674 processed\n#25675 processed\n#25676 processed\n#25677 processed\n#25678 processed\n#25679 processed\n#25680 processed\n#25681 processed\n#25682 processed\n#25683 processed\n#25684 processed\n#25685 processed\n#25686 processed\n#25687 processed\n#25688 processed\n#25689 processed\n#25690 processed\n#25691 processed\n#25692 processed\n#25693 processed\n#25694 processed\n#25695 processed\n#25696 processed\n#25697 processed\n#25698 not processed\n#25699 processed\n#25700 processed\n#25701 processed\n#25702 processed\n#25703 processed\n#25704 processed\n#25705 processed\n#25706 not processed\n#25707 processed\nWARNING:urllib3.connectionpool:Retrying (Retry(total=1, connect=None, read=None, redirect=None, status=None)) after connection broken by 'ReadTimeoutError(\"HTTPSConnectionPool(host='nominatim.openstreetmap.org', port=443): Read timed out. (read timeout=1)\")': /search?q=%D0%9D%D0%BE%D0%B2%D0%BE%D1%81%D0%B8%D0%B1%D0%B8%D1%80%D1%81%D0%BA%D0%B0%D1%8F%2C+%D0%9E%D0%B1%D1%8C%2C+%D0%A1%D1%82%D0%B5%D0%BF%D0%BD%D0%B0%D1%8F%2C+18&format=json&limit=1\n#25708 processed\n#25709 not processed\n#25710 processed\n#25711 processed\n#25712 not processed\n#25713 not processed\n#25714 processed\n#25715 not processed\n#25716 processed\n#25717 processed\n#25718 processed\n#25719 processed\n#25720 processed\n#25721 processed\n#25722 processed\n#25723 processed\n#25724 processed\n#25725 not processed\n#25726 not processed\n#25727 not processed\n#25728 not processed\n#25729 processed\n#25730 processed\n#25731 processed\n#25732 processed\n#25733 processed\n#25734 processed\n"
     ]
    }
   ],
   "source": [
    "geolocator = Nominatim(user_agent='coords_check')                              # Геокодирование\n",
    "geocode = RateLimiter(geolocator.geocode, min_delay_seconds=1)\n",
    "#address = prepare_addresses(data_df['OLDeliveryAddress'][0])\n",
    "#partial(geocode(address), language='ru')\n",
    "#normal_addresses = data_df['OLDeliveryAddress'].apply(lambda x: prepare_addresses(x))\n",
    "#normal_addresses = normal_addresses.tolist()\n",
    "arr0, arr1, arr2, arr3 = find_full_address(data_df['OLDeliveryAddress'], geocode)\n",
    "data_df['Latitude'] = data_df['Latitude'].apply(lambda x: x.replace(',', '.'))\n",
    "data_df['Longitude'] = data_df['Longitude'].apply(lambda x: x.replace(',', '.'))\n",
    "#data_df['Check_latitude'] = data_df['OLDeliveryAddress'].apply(lambda x: find_latitude(x))\n",
    "#data_df['Check_longitude'] = data_df['OLDeliveryAddress'].apply(lambda x: find_longitude(x))"
   ]
  },
  {
   "cell_type": "code",
   "execution_count": 0,
   "metadata": {
    "application/vnd.databricks.v1+cell": {
     "cellMetadata": {
      "byteLimit": 2048000,
      "rowLimit": 10000
     },
     "inputWidgets": {},
     "nuid": "3a8400bc-b49c-4fa5-8d12-320d07cec6a3",
     "showTitle": false,
     "title": ""
    }
   },
   "outputs": [],
   "source": [
    "res0 = [i for i in arr0 if i != None]    # Очистка\n",
    "res1 = []\n",
    "for i in res0:\n",
    "  if i != 0:\n",
    "    res1.append(i.address)\n",
    "  else:\n",
    "    res1.append('0')\n",
    "result0 = [i for i in arr1 if i != None]\n",
    "result1 = []\n",
    "for i in result0:\n",
    "  if i != 0:\n",
    "    result1.append(i)\n",
    "  else:\n",
    "    result1.append('0')\n",
    "result2 = [i for i in arr2 if i != None]\n",
    "result3 = [i for i in arr3 if i != None]"
   ]
  },
  {
   "cell_type": "code",
   "execution_count": 0,
   "metadata": {
    "application/vnd.databricks.v1+cell": {
     "cellMetadata": {
      "byteLimit": 2048000,
      "rowLimit": 10000
     },
     "inputWidgets": {},
     "nuid": "c521884e-6135-4583-8ced-8c4d74b7ed7f",
     "showTitle": false,
     "title": ""
    }
   },
   "outputs": [
    {
     "output_type": "stream",
     "name": "stdout",
     "output_type": "stream",
     "text": [
      "25735 25735 25735 25735\n"
     ]
    }
   ],
   "source": [
    "print(len(res1), len(result1), len(result2), len(result3))"
   ]
  },
  {
   "cell_type": "code",
   "execution_count": 0,
   "metadata": {
    "application/vnd.databricks.v1+cell": {
     "cellMetadata": {
      "byteLimit": 2048000,
      "rowLimit": 10000
     },
     "inputWidgets": {},
     "nuid": "7f7a99a3-311d-4e79-b0d0-ebda89241e29",
     "showTitle": false,
     "title": ""
    }
   },
   "outputs": [],
   "source": [
    "data_df['URL'] = result1\n",
    "data_df['Address_check'] = res1\n",
    "data_df['Latitude_check'] = result2\n",
    "data_df['Longitude_check'] = result3"
   ]
  },
  {
   "cell_type": "code",
   "execution_count": 0,
   "metadata": {
    "application/vnd.databricks.v1+cell": {
     "cellMetadata": {
      "byteLimit": 2048000,
      "rowLimit": 10000
     },
     "inputWidgets": {},
     "nuid": "d7ec0a3e-129a-4b24-a930-75afae9d0934",
     "showTitle": false,
     "title": ""
    }
   },
   "outputs": [],
   "source": [
    "data_df['Latitude'] = data_df['Latitude'].astype(float)\n",
    "data_df['Longitude'] = data_df['Longitude'].astype(float)\n",
    "data_df['Latitude_check'] = data_df['Latitude_check'].astype(float)\n",
    "data_df['Longitude_check'] = data_df['Longitude_check'].astype(float)"
   ]
  },
  {
   "cell_type": "code",
   "execution_count": 0,
   "metadata": {
    "application/vnd.databricks.v1+cell": {
     "cellMetadata": {
      "byteLimit": 2048000,
      "rowLimit": 10000
     },
     "inputWidgets": {},
     "nuid": "3e18bf5f-cf91-44d8-a1d8-993b9baac25a",
     "showTitle": false,
     "title": ""
    }
   },
   "outputs": [],
   "source": [
    "data_df['Distance'] = find_distance(data_df['Latitude'], data_df['Longitude'], data_df['Address_check'], data_df['Latitude_check'], data_df['Longitude_check'])"
   ]
  },
  {
   "cell_type": "code",
   "execution_count": 0,
   "metadata": {
    "application/vnd.databricks.v1+cell": {
     "cellMetadata": {
      "byteLimit": 2048000,
      "rowLimit": 10000
     },
     "inputWidgets": {},
     "nuid": "42518419-8506-4e07-91af-824e224e8064",
     "showTitle": false,
     "title": ""
    }
   },
   "outputs": [],
   "source": [
    "data_df['Distance'] = data_df['Distance'].astype(str)"
   ]
  },
  {
   "cell_type": "code",
   "execution_count": 0,
   "metadata": {
    "application/vnd.databricks.v1+cell": {
     "cellMetadata": {
      "byteLimit": 2048000,
      "rowLimit": 10000
     },
     "inputWidgets": {},
     "nuid": "39bcf563-8385-4d9f-8a78-dd43ee6a4731",
     "showTitle": false,
     "title": ""
    }
   },
   "outputs": [],
   "source": [
    "spark_df = spark.createDataFrame(data_df)\n",
    "spark_df.coalesce(1).write.mode(\"overwrite\").option(\"encoding\", \"UTF-8\").option(\"header\", \"true\").option(\"delimiter\",\";\").csv(\"dbfs:/mnt/DEV/OUTPUT/RUSSIA_MW_DATAROOM/Coordinates_check/results\")"
   ]
  },
  {
   "cell_type": "code",
   "execution_count": 0,
   "metadata": {
    "application/vnd.databricks.v1+cell": {
     "cellMetadata": {
      "byteLimit": 2048000,
      "rowLimit": 10000
     },
     "inputWidgets": {},
     "nuid": "721be97e-1c20-410e-8fd5-206f75258bce",
     "showTitle": false,
     "title": ""
    }
   },
   "outputs": [
    {
     "output_type": "display_data",
     "data": {
      "text/html": [
       "<div>\n",
       "<style scoped>\n",
       "    .dataframe tbody tr th:only-of-type {\n",
       "        vertical-align: middle;\n",
       "    }\n",
       "\n",
       "    .dataframe tbody tr th {\n",
       "        vertical-align: top;\n",
       "    }\n",
       "\n",
       "    .dataframe thead th {\n",
       "        text-align: right;\n",
       "    }\n",
       "</style>\n",
       "<table border=\"1\" class=\"dataframe\">\n",
       "  <thead>\n",
       "    <tr style=\"text-align: right;\">\n",
       "      <th></th>\n",
       "      <th>OL_id</th>\n",
       "      <th>OLTradingName</th>\n",
       "      <th>OLDeliveryAddress</th>\n",
       "      <th>Latitude</th>\n",
       "      <th>Longitude</th>\n",
       "      <th>URL</th>\n",
       "      <th>Address_check</th>\n",
       "      <th>Latitude_check</th>\n",
       "      <th>Longitude_check</th>\n",
       "      <th>Distance</th>\n",
       "    </tr>\n",
       "  </thead>\n",
       "  <tbody>\n",
       "    <tr>\n",
       "      <th>0</th>\n",
       "      <td>1,0292E+14</td>\n",
       "      <td>Пятерочка</td>\n",
       "      <td>г Москва, аллея 9-я Чоботовская, 1 корп. 1</td>\n",
       "      <td>55.655513</td>\n",
       "      <td>37.3523</td>\n",
       "      <td>https://www.openstreetmap.org/search?whereami=...</td>\n",
       "      <td>9-я Чоботовская аллея, Ново-Переделкино, Москв...</td>\n",
       "      <td>55.6553594</td>\n",
       "      <td>37.3531791</td>\n",
       "      <td>57.732526856152354</td>\n",
       "    </tr>\n",
       "    <tr>\n",
       "      <th>1</th>\n",
       "      <td>1,0297E+14</td>\n",
       "      <td>Пятерочка №2559</td>\n",
       "      <td>г Москва, аллея Беговая, 3</td>\n",
       "      <td>55.783296</td>\n",
       "      <td>37.564859</td>\n",
       "      <td>https://www.openstreetmap.org/search?whereami=...</td>\n",
       "      <td>УПП 43, 3, Беговая аллея, район Беговой, Москв...</td>\n",
       "      <td>55.7828872</td>\n",
       "      <td>37.5651848</td>\n",
       "      <td>49.8125427009244</td>\n",
       "    </tr>\n",
       "    <tr>\n",
       "      <th>2</th>\n",
       "      <td>1,0167E+14</td>\n",
       "      <td>Верный 1071 (Союз Св. Иоанна Воина)</td>\n",
       "      <td>г Москва, аллея Беговая, 7Б</td>\n",
       "      <td>55.781403</td>\n",
       "      <td>37.564832</td>\n",
       "      <td>https://www.openstreetmap.org/search?whereami=...</td>\n",
       "      <td>Верный, 7Б, Беговая аллея, район Беговой, Моск...</td>\n",
       "      <td>55.781404949999995</td>\n",
       "      <td>37.56484487672087</td>\n",
       "      <td>0.8384458494093232</td>\n",
       "    </tr>\n",
       "    <tr>\n",
       "      <th>3</th>\n",
       "      <td>1,0005E+14</td>\n",
       "      <td>АО РН-Москва (РН-Москва АЗС№5)</td>\n",
       "      <td>г Москва, аллея Берёзовая, 12</td>\n",
       "      <td>55.84896952</td>\n",
       "      <td>37.61841595</td>\n",
       "      <td>https://www.openstreetmap.org/search?whereami=...</td>\n",
       "      <td>12, Берёзовая аллея, район Отрадное, Москва, Ц...</td>\n",
       "      <td>55.85424145</td>\n",
       "      <td>37.60527522242275</td>\n",
       "      <td>1008.1671399272203</td>\n",
       "    </tr>\n",
       "    <tr>\n",
       "      <th>4</th>\n",
       "      <td>1,0293E+14</td>\n",
       "      <td>красное и белое</td>\n",
       "      <td>г Москва, аллея Берёзовая, 17 корп. 1</td>\n",
       "      <td>55.850069</td>\n",
       "      <td>37.6177788</td>\n",
       "      <td>https://www.openstreetmap.org/search?whereami=...</td>\n",
       "      <td>17 к1, Берёзовая аллея, Останкинский район, Мо...</td>\n",
       "      <td>55.850569449999995</td>\n",
       "      <td>37.618772423697976</td>\n",
       "      <td>83.32691266881069</td>\n",
       "    </tr>\n",
       "    <tr>\n",
       "      <th>...</th>\n",
       "      <td>...</td>\n",
       "      <td>...</td>\n",
       "      <td>...</td>\n",
       "      <td>...</td>\n",
       "      <td>...</td>\n",
       "      <td>...</td>\n",
       "      <td>...</td>\n",
       "      <td>...</td>\n",
       "      <td>...</td>\n",
       "      <td>...</td>\n",
       "    </tr>\n",
       "    <tr>\n",
       "      <th>25730</th>\n",
       "      <td>1,0097E+14</td>\n",
       "      <td>ООО Евроойл (пересечения а/д Омск-Новосибирск,...</td>\n",
       "      <td>Новосибирская, Чановский</td>\n",
       "      <td>55.2208549</td>\n",
       "      <td>75.992306</td>\n",
       "      <td>https://www.openstreetmap.org/search?whereami=...</td>\n",
       "      <td>Чановский район, Новосибирская область, Сибирс...</td>\n",
       "      <td>55.1620629</td>\n",
       "      <td>76.85672511415562</td>\n",
       "      <td>55255.90965466575</td>\n",
       "    </tr>\n",
       "    <tr>\n",
       "      <th>25731</th>\n",
       "      <td>1,0097E+14</td>\n",
       "      <td>ООО Евроойл (150км к югу от ж/ж переезда,п.Озе...</td>\n",
       "      <td>Новосибирская, Чановский, Озеро-Карачи, Вокзал...</td>\n",
       "      <td>55.33617401</td>\n",
       "      <td>76.96767426</td>\n",
       "      <td>https://www.openstreetmap.org/search?whereami=...</td>\n",
       "      <td>Вокзальная улица, Озеро-Карачи, Озеро-Карачинс...</td>\n",
       "      <td>55.3368722</td>\n",
       "      <td>76.9539047</td>\n",
       "      <td>874.2780506370036</td>\n",
       "    </tr>\n",
       "    <tr>\n",
       "      <th>25732</th>\n",
       "      <td>1,0005E+14</td>\n",
       "      <td>Водолага Л. Д ИП</td>\n",
       "      <td>Новосибирская, Черепановский, Пятилетка, Центр...</td>\n",
       "      <td>54.239926</td>\n",
       "      <td>83.324564</td>\n",
       "      <td>https://www.openstreetmap.org/search?whereami=...</td>\n",
       "      <td>Центральная улица, Пятилетка, Пятилетский сель...</td>\n",
       "      <td>54.2411243</td>\n",
       "      <td>83.3275276</td>\n",
       "      <td>234.1790376282739</td>\n",
       "    </tr>\n",
       "    <tr>\n",
       "      <th>25733</th>\n",
       "      <td>1,0097E+14</td>\n",
       "      <td>Сиб Ойл ЛТД</td>\n",
       "      <td>Новосибирская, Черепановский, Южный, Школьная, 21</td>\n",
       "      <td>54.010485</td>\n",
       "      <td>83.422875</td>\n",
       "      <td>https://www.openstreetmap.org/search?whereami=...</td>\n",
       "      <td>Школьная улица, Южный, Безменовский сельсовет,...</td>\n",
       "      <td>54.0103432</td>\n",
       "      <td>83.4222948</td>\n",
       "      <td>41.059818186679536</td>\n",
       "    </tr>\n",
       "    <tr>\n",
       "      <th>25734</th>\n",
       "      <td>1,0097E+14</td>\n",
       "      <td>ИП Богомолов Н.В.</td>\n",
       "      <td>Новосибирская, Чистоозерный, Чистоозерное, Мат...</td>\n",
       "      <td>54.703946</td>\n",
       "      <td>76.5786389</td>\n",
       "      <td>https://www.openstreetmap.org/search?whereami=...</td>\n",
       "      <td>переулок Матросова, Чистоозёрное, городское по...</td>\n",
       "      <td>54.7027614</td>\n",
       "      <td>76.5748622</td>\n",
       "      <td>276.0980602017853</td>\n",
       "    </tr>\n",
       "  </tbody>\n",
       "</table>\n",
       "<p>25735 rows × 10 columns</p>\n",
       "</div>"
      ]
     },
     "metadata": {
      "application/vnd.databricks.v1+output": {
       "addedWidgets": {},
       "arguments": {},
       "data": "<div>\n<style scoped>\n    .dataframe tbody tr th:only-of-type {\n        vertical-align: middle;\n    }\n\n    .dataframe tbody tr th {\n        vertical-align: top;\n    }\n\n    .dataframe thead th {\n        text-align: right;\n    }\n</style>\n<table border=\"1\" class=\"dataframe\">\n  <thead>\n    <tr style=\"text-align: right;\">\n      <th></th>\n      <th>OL_id</th>\n      <th>OLTradingName</th>\n      <th>OLDeliveryAddress</th>\n      <th>Latitude</th>\n      <th>Longitude</th>\n      <th>URL</th>\n      <th>Address_check</th>\n      <th>Latitude_check</th>\n      <th>Longitude_check</th>\n      <th>Distance</th>\n    </tr>\n  </thead>\n  <tbody>\n    <tr>\n      <th>0</th>\n      <td>1,0292E+14</td>\n      <td>Пятерочка</td>\n      <td>г Москва, аллея 9-я Чоботовская, 1 корп. 1</td>\n      <td>55.655513</td>\n      <td>37.3523</td>\n      <td>https://www.openstreetmap.org/search?whereami=...</td>\n      <td>9-я Чоботовская аллея, Ново-Переделкино, Москв...</td>\n      <td>55.6553594</td>\n      <td>37.3531791</td>\n      <td>57.732526856152354</td>\n    </tr>\n    <tr>\n      <th>1</th>\n      <td>1,0297E+14</td>\n      <td>Пятерочка №2559</td>\n      <td>г Москва, аллея Беговая, 3</td>\n      <td>55.783296</td>\n      <td>37.564859</td>\n      <td>https://www.openstreetmap.org/search?whereami=...</td>\n      <td>УПП 43, 3, Беговая аллея, район Беговой, Москв...</td>\n      <td>55.7828872</td>\n      <td>37.5651848</td>\n      <td>49.8125427009244</td>\n    </tr>\n    <tr>\n      <th>2</th>\n      <td>1,0167E+14</td>\n      <td>Верный 1071 (Союз Св. Иоанна Воина)</td>\n      <td>г Москва, аллея Беговая, 7Б</td>\n      <td>55.781403</td>\n      <td>37.564832</td>\n      <td>https://www.openstreetmap.org/search?whereami=...</td>\n      <td>Верный, 7Б, Беговая аллея, район Беговой, Моск...</td>\n      <td>55.781404949999995</td>\n      <td>37.56484487672087</td>\n      <td>0.8384458494093232</td>\n    </tr>\n    <tr>\n      <th>3</th>\n      <td>1,0005E+14</td>\n      <td>АО РН-Москва (РН-Москва АЗС№5)</td>\n      <td>г Москва, аллея Берёзовая, 12</td>\n      <td>55.84896952</td>\n      <td>37.61841595</td>\n      <td>https://www.openstreetmap.org/search?whereami=...</td>\n      <td>12, Берёзовая аллея, район Отрадное, Москва, Ц...</td>\n      <td>55.85424145</td>\n      <td>37.60527522242275</td>\n      <td>1008.1671399272203</td>\n    </tr>\n    <tr>\n      <th>4</th>\n      <td>1,0293E+14</td>\n      <td>красное и белое</td>\n      <td>г Москва, аллея Берёзовая, 17 корп. 1</td>\n      <td>55.850069</td>\n      <td>37.6177788</td>\n      <td>https://www.openstreetmap.org/search?whereami=...</td>\n      <td>17 к1, Берёзовая аллея, Останкинский район, Мо...</td>\n      <td>55.850569449999995</td>\n      <td>37.618772423697976</td>\n      <td>83.32691266881069</td>\n    </tr>\n    <tr>\n      <th>...</th>\n      <td>...</td>\n      <td>...</td>\n      <td>...</td>\n      <td>...</td>\n      <td>...</td>\n      <td>...</td>\n      <td>...</td>\n      <td>...</td>\n      <td>...</td>\n      <td>...</td>\n    </tr>\n    <tr>\n      <th>25730</th>\n      <td>1,0097E+14</td>\n      <td>ООО Евроойл (пересечения а/д Омск-Новосибирск,...</td>\n      <td>Новосибирская, Чановский</td>\n      <td>55.2208549</td>\n      <td>75.992306</td>\n      <td>https://www.openstreetmap.org/search?whereami=...</td>\n      <td>Чановский район, Новосибирская область, Сибирс...</td>\n      <td>55.1620629</td>\n      <td>76.85672511415562</td>\n      <td>55255.90965466575</td>\n    </tr>\n    <tr>\n      <th>25731</th>\n      <td>1,0097E+14</td>\n      <td>ООО Евроойл (150км к югу от ж/ж переезда,п.Озе...</td>\n      <td>Новосибирская, Чановский, Озеро-Карачи, Вокзал...</td>\n      <td>55.33617401</td>\n      <td>76.96767426</td>\n      <td>https://www.openstreetmap.org/search?whereami=...</td>\n      <td>Вокзальная улица, Озеро-Карачи, Озеро-Карачинс...</td>\n      <td>55.3368722</td>\n      <td>76.9539047</td>\n      <td>874.2780506370036</td>\n    </tr>\n    <tr>\n      <th>25732</th>\n      <td>1,0005E+14</td>\n      <td>Водолага Л. Д ИП</td>\n      <td>Новосибирская, Черепановский, Пятилетка, Центр...</td>\n      <td>54.239926</td>\n      <td>83.324564</td>\n      <td>https://www.openstreetmap.org/search?whereami=...</td>\n      <td>Центральная улица, Пятилетка, Пятилетский сель...</td>\n      <td>54.2411243</td>\n      <td>83.3275276</td>\n      <td>234.1790376282739</td>\n    </tr>\n    <tr>\n      <th>25733</th>\n      <td>1,0097E+14</td>\n      <td>Сиб Ойл ЛТД</td>\n      <td>Новосибирская, Черепановский, Южный, Школьная, 21</td>\n      <td>54.010485</td>\n      <td>83.422875</td>\n      <td>https://www.openstreetmap.org/search?whereami=...</td>\n      <td>Школьная улица, Южный, Безменовский сельсовет,...</td>\n      <td>54.0103432</td>\n      <td>83.4222948</td>\n      <td>41.059818186679536</td>\n    </tr>\n    <tr>\n      <th>25734</th>\n      <td>1,0097E+14</td>\n      <td>ИП Богомолов Н.В.</td>\n      <td>Новосибирская, Чистоозерный, Чистоозерное, Мат...</td>\n      <td>54.703946</td>\n      <td>76.5786389</td>\n      <td>https://www.openstreetmap.org/search?whereami=...</td>\n      <td>переулок Матросова, Чистоозёрное, городское по...</td>\n      <td>54.7027614</td>\n      <td>76.5748622</td>\n      <td>276.0980602017853</td>\n    </tr>\n  </tbody>\n</table>\n<p>25735 rows × 10 columns</p>\n</div>",
       "datasetInfos": [],
       "metadata": {},
       "removedWidgets": [],
       "textData": null,
       "type": "htmlSandbox"
      }
     },
     "output_type": "display_data"
    }
   ],
   "source": [
    "# Проверка\n",
    "dd = spark.read.option(\"sep\", \";\").option(\"header\", True).csv(\"abfss://output@marsanalyticsdevadls.dfs.core.windows.net/RUSSIA_MW_DATAROOM/Coordinates_check/results/part-00000-tid-42175458780702472-db8ee672-bddd-4929-982a-defb2a44f7eb-25024-1-c000.csv\")\n",
    "dd_df = dd.toPandas()\n",
    "dd_df"
   ]
  },
  {
   "cell_type": "code",
   "execution_count": 0,
   "metadata": {
    "application/vnd.databricks.v1+cell": {
     "cellMetadata": {
      "byteLimit": 2048000,
      "rowLimit": 10000
     },
     "inputWidgets": {},
     "nuid": "2f29cf14-0120-4cd5-861b-8a855930abb0",
     "showTitle": false,
     "title": ""
    }
   },
   "outputs": [],
   "source": [
    "# Проверка\n",
    "dd_df['Latitude'] = dd_df['Latitude'].astype(float)\n",
    "dd_df['Longitude'] = dd_df['Longitude'].astype(float)\n",
    "dd_df['Latitude_check'] = dd_df['Latitude_check'].astype(float)\n",
    "dd_df['Longitude_check'] = dd_df['Longitude_check'].astype(float)\n",
    "dd_df['Distance'] = dd_df['Distance'].replace('None', 1000)\n",
    "dd_df['Distance'] = dd_df['Distance'].astype(float)"
   ]
  },
  {
   "cell_type": "code",
   "execution_count": 0,
   "metadata": {
    "application/vnd.databricks.v1+cell": {
     "cellMetadata": {
      "byteLimit": 2048000,
      "rowLimit": 10000
     },
     "inputWidgets": {},
     "nuid": "ca80a74e-03ca-430f-99c4-fe7f31480819",
     "showTitle": false,
     "title": ""
    }
   },
   "outputs": [],
   "source": [
    "unproc_df = dd_df[dd_df[\"Distance\"] > 300].reset_index(drop=True)"
   ]
  },
  {
   "cell_type": "markdown",
   "metadata": {
    "application/vnd.databricks.v1+cell": {
     "cellMetadata": {
      "byteLimit": 2048000,
      "rowLimit": 10000
     },
     "inputWidgets": {},
     "nuid": "3b87de92-a14f-4956-a40d-2fd592288332",
     "showTitle": false,
     "title": ""
    }
   },
   "source": [
    "##Отсюда запускать корректировки"
   ]
  },
  {
   "cell_type": "code",
   "execution_count": 0,
   "metadata": {
    "application/vnd.databricks.v1+cell": {
     "cellMetadata": {
      "byteLimit": 2048000,
      "rowLimit": 10000
     },
     "inputWidgets": {},
     "nuid": "af012f96-a5cb-47ae-8df4-2f2683b6038c",
     "showTitle": false,
     "title": ""
    }
   },
   "outputs": [
    {
     "output_type": "display_data",
     "data": {
      "text/html": [
       "<style scoped>\n",
       "  .table-result-container {\n",
       "    max-height: 300px;\n",
       "    overflow: auto;\n",
       "  }\n",
       "  table, th, td {\n",
       "    border: 1px solid black;\n",
       "    border-collapse: collapse;\n",
       "  }\n",
       "  th, td {\n",
       "    padding: 5px;\n",
       "  }\n",
       "  th {\n",
       "    text-align: left;\n",
       "  }\n",
       "</style><div class='table-result-container'><table class='table-result'><thead style='background-color: white'><tr><th>path</th><th>name</th><th>size</th><th>modificationTime</th></tr></thead><tbody><tr><td>dbfs:/mnt/DEV/OUTPUT/RUSSIA_MW_DATAROOM/Coordinates_check/unprocessed_data/_SUCCESS</td><td>_SUCCESS</td><td>0</td><td>1697098535000</td></tr><tr><td>dbfs:/mnt/DEV/OUTPUT/RUSSIA_MW_DATAROOM/Coordinates_check/unprocessed_data/_committed_6613145131748893222</td><td>_committed_6613145131748893222</td><td>114</td><td>1697098534000</td></tr><tr><td>dbfs:/mnt/DEV/OUTPUT/RUSSIA_MW_DATAROOM/Coordinates_check/unprocessed_data/_started_6613145131748893222</td><td>_started_6613145131748893222</td><td>0</td><td>1697098533000</td></tr><tr><td>dbfs:/mnt/DEV/OUTPUT/RUSSIA_MW_DATAROOM/Coordinates_check/unprocessed_data/part-00000-tid-6613145131748893222-90252e93-e063-472f-89c8-a4e9bed45384-9955-1-c000.csv</td><td>part-00000-tid-6613145131748893222-90252e93-e063-472f-89c8-a4e9bed45384-9955-1-c000.csv</td><td>3037272</td><td>1697098534000</td></tr></tbody></table></div>"
      ]
     },
     "metadata": {
      "application/vnd.databricks.v1+output": {
       "addedWidgets": {},
       "aggData": [],
       "aggError": "",
       "aggOverflow": false,
       "aggSchema": [],
       "aggSeriesLimitReached": false,
       "aggType": "",
       "arguments": {},
       "columnCustomDisplayInfos": {},
       "data": [
        [
         "dbfs:/mnt/DEV/OUTPUT/RUSSIA_MW_DATAROOM/Coordinates_check/unprocessed_data/_SUCCESS",
         "_SUCCESS",
         0,
         1697098535000
        ],
        [
         "dbfs:/mnt/DEV/OUTPUT/RUSSIA_MW_DATAROOM/Coordinates_check/unprocessed_data/_committed_6613145131748893222",
         "_committed_6613145131748893222",
         114,
         1697098534000
        ],
        [
         "dbfs:/mnt/DEV/OUTPUT/RUSSIA_MW_DATAROOM/Coordinates_check/unprocessed_data/_started_6613145131748893222",
         "_started_6613145131748893222",
         0,
         1697098533000
        ],
        [
         "dbfs:/mnt/DEV/OUTPUT/RUSSIA_MW_DATAROOM/Coordinates_check/unprocessed_data/part-00000-tid-6613145131748893222-90252e93-e063-472f-89c8-a4e9bed45384-9955-1-c000.csv",
         "part-00000-tid-6613145131748893222-90252e93-e063-472f-89c8-a4e9bed45384-9955-1-c000.csv",
         3037272,
         1697098534000
        ]
       ],
       "datasetInfos": [],
       "dbfsResultPath": null,
       "isJsonSchema": true,
       "metadata": {
        "isDbfsCommandResult": false
       },
       "overflow": false,
       "plotOptions": {
        "customPlotOptions": {},
        "displayType": "table",
        "pivotAggregation": null,
        "pivotColumns": null,
        "xColumns": null,
        "yColumns": null
       },
       "removedWidgets": [],
       "schema": [
        {
         "metadata": "{}",
         "name": "path",
         "type": "\"string\""
        },
        {
         "metadata": "{}",
         "name": "name",
         "type": "\"string\""
        },
        {
         "metadata": "{}",
         "name": "size",
         "type": "\"long\""
        },
        {
         "metadata": "{}",
         "name": "modificationTime",
         "type": "\"long\""
        }
       ],
       "type": "table"
      }
     },
     "output_type": "display_data"
    }
   ],
   "source": [
    "%fs ls /mnt/DEV/OUTPUT/RUSSIA_MW_DATAROOM/Coordinates_check/unprocessed_data"
   ]
  },
  {
   "cell_type": "code",
   "execution_count": 0,
   "metadata": {
    "application/vnd.databricks.v1+cell": {
     "cellMetadata": {
      "byteLimit": 2048000,
      "rowLimit": 10000
     },
     "inputWidgets": {},
     "nuid": "e5fbe873-ebeb-4638-ba48-c69ad0b1329a",
     "showTitle": false,
     "title": ""
    }
   },
   "outputs": [],
   "source": [
    "unproc_spark = spark.read.option(\"sep\", \";\").option(\"header\", True).csv(\"abfss://output@marsanalyticsdevadls.dfs.core.windows.net/RUSSIA_MW_DATAROOM/Coordinates_check/unprocessed_data/part-00000-tid-6613145131748893222-90252e93-e063-472f-89c8-a4e9bed45384-9955-1-c000.csv\")\n",
    "unproc_df = unproc_spark.toPandas()"
   ]
  },
  {
   "cell_type": "code",
   "execution_count": 0,
   "metadata": {
    "application/vnd.databricks.v1+cell": {
     "cellMetadata": {
      "byteLimit": 2048000,
      "rowLimit": 10000
     },
     "inputWidgets": {},
     "nuid": "3f0be0ee-36d3-46d3-b818-41c544d1b23c",
     "showTitle": false,
     "title": ""
    }
   },
   "outputs": [
    {
     "output_type": "stream",
     "name": "stdout",
     "output_type": "stream",
     "text": [
      "Out[24]: (7433, 10)"
     ]
    }
   ],
   "source": [
    "unproc_df.shape"
   ]
  },
  {
   "cell_type": "code",
   "execution_count": 0,
   "metadata": {
    "application/vnd.databricks.v1+cell": {
     "cellMetadata": {
      "byteLimit": 2048000,
      "rowLimit": 10000
     },
     "inputWidgets": {},
     "nuid": "6aa4e0f4-ebfd-4f0f-8719-c7dbaceae67f",
     "showTitle": false,
     "title": ""
    }
   },
   "outputs": [],
   "source": [
    "from geopy.geocoders import Yandex  # Яндекс геокодер\n",
    "import requests\n",
    "\n",
    "def fetch_coordinates(apikey, address):\n",
    "    base_url = \"https://geocode-maps.yandex.ru/1.x\"\n",
    "    response = requests.get(base_url, params={\n",
    "        \"geocode\": address,\n",
    "        \"apikey\": apikey,\n",
    "        \"format\": \"json\",\n",
    "    })\n",
    "    response.raise_for_status()\n",
    "    found_places = response.json()['response']['GeoObjectCollection']['featureMember']\n",
    "\n",
    "    if not found_places:\n",
    "        return None\n",
    "\n",
    "    most_relevant = found_places[0]\n",
    "    lon, lat = most_relevant['GeoObject']['Point']['pos'].split(\" \")\n",
    "    address = most_relevant['GeoObject']['metaDataProperty']['GeocoderMetaData']['text']\n",
    "    return lat, lon, address"
   ]
  },
  {
   "cell_type": "code",
   "execution_count": 0,
   "metadata": {
    "application/vnd.databricks.v1+cell": {
     "cellMetadata": {
      "byteLimit": 2048000,
      "rowLimit": 10000
     },
     "inputWidgets": {},
     "nuid": "68ace317-cc35-4612-b0a8-f707f39019b6",
     "showTitle": false,
     "title": ""
    }
   },
   "outputs": [],
   "source": [
    "def find_dist_yandex(lat1, lon1, lat2, lon2):\n",
    "  distance = 0\n",
    "  mat1 = math.cos(math.radians(90-lat1))*math.cos(math.radians(90-lat2))+math.sin(math.radians(90-lat1))*math.sin(math.radians(90-lat2))*math.cos(math.radians(lon1-lon2))\n",
    "  if mat1 >= 1:\n",
    "    mat1 = 1\n",
    "  distance = math.acos(mat1)*6371*1000\n",
    "  return distance"
   ]
  },
  {
   "cell_type": "code",
   "execution_count": 0,
   "metadata": {
    "application/vnd.databricks.v1+cell": {
     "cellMetadata": {
      "byteLimit": 2048000,
      "rowLimit": 10000
     },
     "inputWidgets": {},
     "nuid": "4a575c16-9f9c-4cc6-b6e9-234c64205ec1",
     "showTitle": false,
     "title": ""
    }
   },
   "outputs": [],
   "source": [
    "api_key = '06470783-9b79-4e9f-b4d1-9fca20cbf3d8'    # Необходимо указать свой API ключ"
   ]
  },
  {
   "cell_type": "code",
   "execution_count": 0,
   "metadata": {
    "application/vnd.databricks.v1+cell": {
     "cellMetadata": {
      "byteLimit": 2048000,
      "rowLimit": 10000
     },
     "inputWidgets": {},
     "nuid": "67904890-6222-4948-a388-0afc781ff8fd",
     "showTitle": false,
     "title": ""
    }
   },
   "outputs": [],
   "source": [
    "distances = []\n",
    "num_requests = 980\n",
    "for i in range(num_requests):\n",
    "  address = fetch_coordinates(apikey=api_key, address = unproc_df['OLDeliveryAddress'][i])\n",
    "  distances.append(find_dist_yandex(float(unproc_df['Latitude'][i]), float(unproc_df['Longitude'][i]), float(address[0]), float(address[1])))\n",
    "\n",
    "del address"
   ]
  },
  {
   "cell_type": "code",
   "execution_count": 0,
   "metadata": {
    "application/vnd.databricks.v1+cell": {
     "cellMetadata": {
      "byteLimit": 2048000,
      "rowLimit": 10000
     },
     "inputWidgets": {},
     "nuid": "9928adc4-369c-4049-9c38-0360baf52453",
     "showTitle": false,
     "title": ""
    }
   },
   "outputs": [],
   "source": [
    "processed_data = unproc_df[:980].copy()   # заменить на num_requests\n",
    "unprocessed_data = unproc_df[980:].copy().reset_index(drop=True) # заменить на num_requests\n",
    "processed_data['Distance'] = distances"
   ]
  },
  {
   "cell_type": "code",
   "execution_count": 0,
   "metadata": {
    "application/vnd.databricks.v1+cell": {
     "cellMetadata": {
      "byteLimit": 2048000,
      "rowLimit": 10000
     },
     "inputWidgets": {},
     "nuid": "d4f2451d-93ef-4b35-9327-edba8f1ebe52",
     "showTitle": false,
     "title": ""
    }
   },
   "outputs": [
    {
     "output_type": "display_data",
     "data": {
      "text/html": [
       "<style scoped>\n",
       "  .table-result-container {\n",
       "    max-height: 300px;\n",
       "    overflow: auto;\n",
       "  }\n",
       "  table, th, td {\n",
       "    border: 1px solid black;\n",
       "    border-collapse: collapse;\n",
       "  }\n",
       "  th, td {\n",
       "    padding: 5px;\n",
       "  }\n",
       "  th {\n",
       "    text-align: left;\n",
       "  }\n",
       "</style><div class='table-result-container'><table class='table-result'><thead style='background-color: white'><tr><th>path</th><th>name</th><th>size</th><th>modificationTime</th></tr></thead><tbody><tr><td>dbfs:/mnt/DEV/OUTPUT/RUSSIA_MW_DATAROOM/Coordinates_check/pre_processed_data/_committed_3016345693170384283</td><td>_committed_3016345693170384283</td><td>214</td><td>1697098532000</td></tr><tr><td>dbfs:/mnt/DEV/OUTPUT/RUSSIA_MW_DATAROOM/Coordinates_check/pre_processed_data/_committed_5337368393145993664</td><td>_committed_5337368393145993664</td><td>114</td><td>1697098314000</td></tr><tr><td>dbfs:/mnt/DEV/OUTPUT/RUSSIA_MW_DATAROOM/Coordinates_check/pre_processed_data/_committed_661616498384240398</td><td>_committed_661616498384240398</td><td>203</td><td>1697447755000</td></tr><tr><td>dbfs:/mnt/DEV/OUTPUT/RUSSIA_MW_DATAROOM/Coordinates_check/pre_processed_data/_committed_vacuum3309538041368066216</td><td>_committed_vacuum3309538041368066216</td><td>129</td><td>1697447756000</td></tr><tr><td>dbfs:/mnt/DEV/OUTPUT/RUSSIA_MW_DATAROOM/Coordinates_check/pre_processed_data/_started_661616498384240398</td><td>_started_661616498384240398</td><td>0</td><td>1697447754000</td></tr><tr><td>dbfs:/mnt/DEV/OUTPUT/RUSSIA_MW_DATAROOM/Coordinates_check/pre_processed_data/part-00000-tid-661616498384240398-3d7f6ab9-aec4-4b2c-9695-2ae595349faa-32486-1-c000.csv</td><td>part-00000-tid-661616498384240398-3d7f6ab9-aec4-4b2c-9695-2ae595349faa-32486-1-c000.csv</td><td>439741</td><td>1697447755000</td></tr></tbody></table></div>"
      ]
     },
     "metadata": {
      "application/vnd.databricks.v1+output": {
       "addedWidgets": {},
       "aggData": [],
       "aggError": "",
       "aggOverflow": false,
       "aggSchema": [],
       "aggSeriesLimitReached": false,
       "aggType": "",
       "arguments": {},
       "columnCustomDisplayInfos": {},
       "data": [
        [
         "dbfs:/mnt/DEV/OUTPUT/RUSSIA_MW_DATAROOM/Coordinates_check/pre_processed_data/_committed_3016345693170384283",
         "_committed_3016345693170384283",
         214,
         1697098532000
        ],
        [
         "dbfs:/mnt/DEV/OUTPUT/RUSSIA_MW_DATAROOM/Coordinates_check/pre_processed_data/_committed_5337368393145993664",
         "_committed_5337368393145993664",
         114,
         1697098314000
        ],
        [
         "dbfs:/mnt/DEV/OUTPUT/RUSSIA_MW_DATAROOM/Coordinates_check/pre_processed_data/_committed_661616498384240398",
         "_committed_661616498384240398",
         203,
         1697447755000
        ],
        [
         "dbfs:/mnt/DEV/OUTPUT/RUSSIA_MW_DATAROOM/Coordinates_check/pre_processed_data/_committed_vacuum3309538041368066216",
         "_committed_vacuum3309538041368066216",
         129,
         1697447756000
        ],
        [
         "dbfs:/mnt/DEV/OUTPUT/RUSSIA_MW_DATAROOM/Coordinates_check/pre_processed_data/_started_661616498384240398",
         "_started_661616498384240398",
         0,
         1697447754000
        ],
        [
         "dbfs:/mnt/DEV/OUTPUT/RUSSIA_MW_DATAROOM/Coordinates_check/pre_processed_data/part-00000-tid-661616498384240398-3d7f6ab9-aec4-4b2c-9695-2ae595349faa-32486-1-c000.csv",
         "part-00000-tid-661616498384240398-3d7f6ab9-aec4-4b2c-9695-2ae595349faa-32486-1-c000.csv",
         439741,
         1697447755000
        ]
       ],
       "datasetInfos": [],
       "dbfsResultPath": null,
       "isJsonSchema": true,
       "metadata": {
        "isDbfsCommandResult": false
       },
       "overflow": false,
       "plotOptions": {
        "customPlotOptions": {},
        "displayType": "table",
        "pivotAggregation": null,
        "pivotColumns": null,
        "xColumns": null,
        "yColumns": null
       },
       "removedWidgets": [],
       "schema": [
        {
         "metadata": "{}",
         "name": "path",
         "type": "\"string\""
        },
        {
         "metadata": "{}",
         "name": "name",
         "type": "\"string\""
        },
        {
         "metadata": "{}",
         "name": "size",
         "type": "\"long\""
        },
        {
         "metadata": "{}",
         "name": "modificationTime",
         "type": "\"long\""
        }
       ],
       "type": "table"
      }
     },
     "output_type": "display_data"
    }
   ],
   "source": [
    "%fs ls /mnt/DEV/OUTPUT/RUSSIA_MW_DATAROOM/Coordinates_check/pre_processed_data"
   ]
  },
  {
   "cell_type": "code",
   "execution_count": 0,
   "metadata": {
    "application/vnd.databricks.v1+cell": {
     "cellMetadata": {},
     "inputWidgets": {},
     "nuid": "75696ec6-a75e-40f2-acf0-ef367b432d27",
     "showTitle": false,
     "title": ""
    }
   },
   "outputs": [],
   "source": [
    "preprocdata = spark.read.option(\"sep\", \";\").option(\"header\", True).csv(\"abfss://output@marsanalyticsdevadls.dfs.core.windows.net/RUSSIA_MW_DATAROOM/Coordinates_check/pre_processed_data/part-00000-tid-661616498384240398-3d7f6ab9-aec4-4b2c-9695-2ae595349faa-32486-1-c000.csv\")"
   ]
  },
  {
   "cell_type": "code",
   "execution_count": 0,
   "metadata": {
    "application/vnd.databricks.v1+cell": {
     "cellMetadata": {},
     "inputWidgets": {},
     "nuid": "edbe39c4-7684-4b03-9d60-81744f7dacf7",
     "showTitle": false,
     "title": ""
    }
   },
   "outputs": [],
   "source": [
    "new_preprocdata = pd.concat([preprocdata, processed_data])"
   ]
  },
  {
   "cell_type": "code",
   "execution_count": 0,
   "metadata": {
    "application/vnd.databricks.v1+cell": {
     "cellMetadata": {
      "byteLimit": 2048000,
      "rowLimit": 10000
     },
     "inputWidgets": {},
     "nuid": "e7d30cbb-da0a-4d5b-9263-c443e0afb557",
     "showTitle": false,
     "title": ""
    }
   },
   "outputs": [],
   "source": [
    "spark_processed_data = spark.createDataFrame(new_preprocdata)\n",
    "spark_processed_data.coalesce(1).write.mode(\"overwrite\").option(\"encoding\", \"UTF-8\").option(\"header\", \"true\").option(\"delimiter\",\";\").csv(\"dbfs:/mnt/DEV/OUTPUT/RUSSIA_MW_DATAROOM/Coordinates_check/pre_processed_data\")\n",
    "spark_unprocessed_data = spark.createDataFrame(unprocessed_data)\n",
    "spark_unprocessed_data.coalesce(1).write.mode(\"overwrite\").option(\"encoding\", \"UTF-8\").option(\"header\", \"true\").option(\"delimiter\",\";\").csv(\"dbfs:/mnt/DEV/OUTPUT/RUSSIA_MW_DATAROOM/Coordinates_check/unprocessed_data\")"
   ]
  },
  {
   "cell_type": "markdown",
   "metadata": {
    "application/vnd.databricks.v1+cell": {
     "cellMetadata": {
      "byteLimit": 2048000,
      "rowLimit": 10000
     },
     "inputWidgets": {},
     "nuid": "682825fa-76cf-4821-8b24-05deca324561",
     "showTitle": false,
     "title": ""
    }
   },
   "source": [
    "##Блок с проверками"
   ]
  },
  {
   "cell_type": "code",
   "execution_count": 0,
   "metadata": {
    "application/vnd.databricks.v1+cell": {
     "cellMetadata": {
      "byteLimit": 2048000,
      "rowLimit": 10000
     },
     "inputWidgets": {},
     "nuid": "b9529a26-77cb-4acf-a1b0-bd602a8176b8",
     "showTitle": false,
     "title": ""
    }
   },
   "outputs": [
    {
     "output_type": "stream",
     "name": "stdout",
     "output_type": "stream",
     "text": [
      "Out[19]: 125.4089177506201"
     ]
    }
   ],
   "source": [
    "# Для проверок\n",
    "find_dist_yandex(unproc_df['Latitude'][1], unproc_df['Longitude'][1], float(coords[0]), float(coords[1]))"
   ]
  },
  {
   "cell_type": "code",
   "execution_count": 0,
   "metadata": {
    "application/vnd.databricks.v1+cell": {
     "cellMetadata": {
      "byteLimit": 2048000,
      "rowLimit": 10000
     },
     "inputWidgets": {},
     "nuid": "205fe96f-265e-4f47-a39c-b2c385b80021",
     "showTitle": false,
     "title": ""
    }
   },
   "outputs": [
    {
     "output_type": "stream",
     "name": "stdout",
     "output_type": "stream",
     "text": [
      "Глобус, вл1 с1, Новорижское шоссе, Райцентр, городской округ Красногорск, Московская область, Центральный федеральный округ, 143405, Россия\n"
     ]
    }
   ],
   "source": [
    "# Для проверок\n",
    "geolocator = Nominatim(user_agent='Tester')\n",
    "#adress = 'Россия, Московская область, городской округ Домодедово, аэропорт Домодедово имени М.В. Ломоносова, 1'\n",
    "#noad = prepare_addresses(adress)\n",
    "#print(noad)\n",
    "#location = geolocator.geocode(noad)\n",
    "loc = geolocator.reverse('55.802167, 37.300347')\n",
    "#index = location.address.split(',')[-2]\n",
    "#print(location)\n",
    "#print(index)\n",
    "print(loc)\n",
    "#print(location.latitude, location.longitude)"
   ]
  },
  {
   "cell_type": "code",
   "execution_count": 0,
   "metadata": {
    "application/vnd.databricks.v1+cell": {
     "cellMetadata": {
      "byteLimit": 2048000,
      "rowLimit": 10000
     },
     "inputWidgets": {},
     "nuid": "d8c6bde2-9986-4ee3-99e5-29c3eca2eeca",
     "showTitle": false,
     "title": ""
    }
   },
   "outputs": [
    {
     "output_type": "display_data",
     "data": {
      "text/plain": [
       "\u001B[0;31m---------------------------------------------------------------------------\u001B[0m\n",
       "\u001B[0;31mNameError\u001B[0m                                 Traceback (most recent call last)\n",
       "\u001B[0;32m<command-1589131758457307>\u001B[0m in \u001B[0;36m<cell line: 2>\u001B[0;34m()\u001B[0m\n",
       "\u001B[1;32m      1\u001B[0m \u001B[0;31m# Для проверок\u001B[0m\u001B[0;34m\u001B[0m\u001B[0;34m\u001B[0m\u001B[0;34m\u001B[0m\u001B[0m\n",
       "\u001B[0;32m----> 2\u001B[0;31m \u001B[0mfind_distance\u001B[0m\u001B[0;34m(\u001B[0m\u001B[0;34m[\u001B[0m\u001B[0;36m55.848969\u001B[0m\u001B[0;34m]\u001B[0m\u001B[0;34m,\u001B[0m \u001B[0;34m[\u001B[0m\u001B[0;36m37.618415\u001B[0m\u001B[0;34m]\u001B[0m\u001B[0;34m,\u001B[0m \u001B[0;34m[\u001B[0m\u001B[0;34m'something'\u001B[0m\u001B[0;34m]\u001B[0m\u001B[0;34m,\u001B[0m \u001B[0;34m[\u001B[0m\u001B[0;36m55.854241\u001B[0m\u001B[0;34m]\u001B[0m\u001B[0;34m,\u001B[0m \u001B[0;34m[\u001B[0m\u001B[0;36m37.605275\u001B[0m\u001B[0;34m]\u001B[0m\u001B[0;34m)\u001B[0m\u001B[0;34m\u001B[0m\u001B[0;34m\u001B[0m\u001B[0m\n",
       "\u001B[0m\n",
       "\u001B[0;31mNameError\u001B[0m: name 'find_distance' is not defined"
      ]
     },
     "metadata": {
      "application/vnd.databricks.v1+output": {
       "arguments": {},
       "data": "\u001B[0;31m---------------------------------------------------------------------------\u001B[0m\n\u001B[0;31mNameError\u001B[0m                                 Traceback (most recent call last)\n\u001B[0;32m<command-1589131758457307>\u001B[0m in \u001B[0;36m<cell line: 2>\u001B[0;34m()\u001B[0m\n\u001B[1;32m      1\u001B[0m \u001B[0;31m# Для проверок\u001B[0m\u001B[0;34m\u001B[0m\u001B[0;34m\u001B[0m\u001B[0;34m\u001B[0m\u001B[0m\n\u001B[0;32m----> 2\u001B[0;31m \u001B[0mfind_distance\u001B[0m\u001B[0;34m(\u001B[0m\u001B[0;34m[\u001B[0m\u001B[0;36m55.848969\u001B[0m\u001B[0;34m]\u001B[0m\u001B[0;34m,\u001B[0m \u001B[0;34m[\u001B[0m\u001B[0;36m37.618415\u001B[0m\u001B[0;34m]\u001B[0m\u001B[0;34m,\u001B[0m \u001B[0;34m[\u001B[0m\u001B[0;34m'something'\u001B[0m\u001B[0;34m]\u001B[0m\u001B[0;34m,\u001B[0m \u001B[0;34m[\u001B[0m\u001B[0;36m55.854241\u001B[0m\u001B[0;34m]\u001B[0m\u001B[0;34m,\u001B[0m \u001B[0;34m[\u001B[0m\u001B[0;36m37.605275\u001B[0m\u001B[0;34m]\u001B[0m\u001B[0;34m)\u001B[0m\u001B[0;34m\u001B[0m\u001B[0;34m\u001B[0m\u001B[0m\n\u001B[0m\n\u001B[0;31mNameError\u001B[0m: name 'find_distance' is not defined",
       "errorSummary": "<span class='ansi-red-fg'>NameError</span>: name 'find_distance' is not defined",
       "errorTraceType": "ansi",
       "metadata": {},
       "type": "ipynbError"
      }
     },
     "output_type": "display_data"
    }
   ],
   "source": [
    "# Для проверок\n",
    "find_distance([55.848969], [37.618415], ['something'], [55.854241], [37.605275])"
   ]
  },
  {
   "cell_type": "code",
   "execution_count": 0,
   "metadata": {
    "application/vnd.databricks.v1+cell": {
     "cellMetadata": {
      "byteLimit": 2048000,
      "rowLimit": 10000
     },
     "inputWidgets": {},
     "nuid": "e493ab0e-b500-455e-a53e-4969d57e010b",
     "showTitle": false,
     "title": ""
    }
   },
   "outputs": [
    {
     "output_type": "stream",
     "name": "stdout",
     "output_type": "stream",
     "text": [
      "It works\n"
     ]
    }
   ],
   "source": [
    "print('It works')"
   ]
  },
  {
   "cell_type": "code",
   "execution_count": 0,
   "metadata": {
    "application/vnd.databricks.v1+cell": {
     "cellMetadata": {
      "byteLimit": 2048000,
      "rowLimit": 10000
     },
     "inputWidgets": {},
     "nuid": "bae946d5-687d-4ad9-86a2-707498c7cbb0",
     "showTitle": false,
     "title": ""
    }
   },
   "outputs": [],
   "source": [
    "data = spark.read.option(\"sep\", \";\").option(\"header\", True).csv(\"abfss://output@marsanalyticsdevadls.dfs.core.windows.net/RUSSIA_MW_DATAROOM/Coordinates_check/full_coords.csv\")\n",
    "orig = spark.read.option(\"sep\", \";\").option(\"header\", True).csv(\"abfss://output@marsanalyticsdevadls.dfs.core.windows.net/RUSSIA_MW_DATAROOM/Coordinates_check/geo_check.csv\")"
   ]
  },
  {
   "cell_type": "code",
   "execution_count": 0,
   "metadata": {
    "application/vnd.databricks.v1+cell": {
     "cellMetadata": {
      "byteLimit": 2048000,
      "rowLimit": 10000
     },
     "inputWidgets": {},
     "nuid": "107a5305-cea7-4700-bcd5-c877983a2184",
     "showTitle": false,
     "title": ""
    }
   },
   "outputs": [],
   "source": [
    "df = data.toPandas()\n",
    "dff = orig.toPandas()"
   ]
  },
  {
   "cell_type": "code",
   "execution_count": 0,
   "metadata": {
    "application/vnd.databricks.v1+cell": {
     "cellMetadata": {
      "byteLimit": 2048000,
      "rowLimit": 10000
     },
     "inputWidgets": {},
     "nuid": "879a3bcc-a2d2-46b3-bfc4-88823612c7f6",
     "showTitle": false,
     "title": ""
    }
   },
   "outputs": [
    {
     "output_type": "display_data",
     "data": {
      "text/html": [
       "<div>\n",
       "<style scoped>\n",
       "    .dataframe tbody tr th:only-of-type {\n",
       "        vertical-align: middle;\n",
       "    }\n",
       "\n",
       "    .dataframe tbody tr th {\n",
       "        vertical-align: top;\n",
       "    }\n",
       "\n",
       "    .dataframe thead th {\n",
       "        text-align: right;\n",
       "    }\n",
       "</style>\n",
       "<table border=\"1\" class=\"dataframe\">\n",
       "  <thead>\n",
       "    <tr style=\"text-align: right;\">\n",
       "      <th></th>\n",
       "      <th>id</th>\n",
       "      <th>title</th>\n",
       "      <th>geopos</th>\n",
       "      <th>address</th>\n",
       "      <th>postal_code</th>\n",
       "      <th>city</th>\n",
       "      <th>region</th>\n",
       "    </tr>\n",
       "  </thead>\n",
       "  <tbody>\n",
       "    <tr>\n",
       "      <th>0</th>\n",
       "      <td>166427044398</td>\n",
       "      <td>Фуд Сити</td>\n",
       "      <td>{'type': 'Point', 'coordinates': [37.466404, 5...</td>\n",
       "      <td>108814, Россия, Москва, поселение Сосенское, К...</td>\n",
       "      <td>108814</td>\n",
       "      <td>г. Москва</td>\n",
       "      <td>Москва</td>\n",
       "    </tr>\n",
       "    <tr>\n",
       "      <th>1</th>\n",
       "      <td>1086565414</td>\n",
       "      <td>Глобус гипермаркет</td>\n",
       "      <td>{'type': 'Point', 'coordinates': [37.545225, 5...</td>\n",
       "      <td>142181, Россия, Московская область, Подольск, ...</td>\n",
       "      <td>142181</td>\n",
       "      <td>г. Подольск</td>\n",
       "      <td>Московская область</td>\n",
       "    </tr>\n",
       "    <tr>\n",
       "      <th>2</th>\n",
       "      <td>1330374048</td>\n",
       "      <td>Глобус гипермаркет</td>\n",
       "      <td>{'type': 'Point', 'coordinates': [37.300347, 5...</td>\n",
       "      <td>121500, Россия, Москва, Новорижское шоссе, 22-...</td>\n",
       "      <td>121500</td>\n",
       "      <td>г. Москва</td>\n",
       "      <td>Москва</td>\n",
       "    </tr>\n",
       "    <tr>\n",
       "      <th>3</th>\n",
       "      <td>190278434259</td>\n",
       "      <td>Глобус гипермаркет</td>\n",
       "      <td>{'type': 'Point', 'coordinates': [37.885653, 5...</td>\n",
       "      <td>140006, Россия, Московская область, Котельники...</td>\n",
       "      <td>140006</td>\n",
       "      <td>г. Котельники</td>\n",
       "      <td>Московская область</td>\n",
       "    </tr>\n",
       "    <tr>\n",
       "      <th>4</th>\n",
       "      <td>1506823238</td>\n",
       "      <td>Глобус гипермаркет</td>\n",
       "      <td>{'type': 'Point', 'coordinates': [37.886264, 5...</td>\n",
       "      <td>141202, Россия, Московская область, Пушкино, К...</td>\n",
       "      <td>141202</td>\n",
       "      <td>г. Пушкино</td>\n",
       "      <td>Московская область</td>\n",
       "    </tr>\n",
       "    <tr>\n",
       "      <th>...</th>\n",
       "      <td>...</td>\n",
       "      <td>...</td>\n",
       "      <td>...</td>\n",
       "      <td>...</td>\n",
       "      <td>...</td>\n",
       "      <td>...</td>\n",
       "      <td>...</td>\n",
       "    </tr>\n",
       "    <tr>\n",
       "      <th>862706</th>\n",
       "      <td>1975990001</td>\n",
       "      <td>Поворот на Посьет</td>\n",
       "      <td>{'type': 'Point', 'coordinates': [130.83553290...</td>\n",
       "      <td>None</td>\n",
       "      <td>692715</td>\n",
       "      <td>None</td>\n",
       "      <td>Приморский край</td>\n",
       "    </tr>\n",
       "    <tr>\n",
       "      <th>862707</th>\n",
       "      <td>1975990141</td>\n",
       "      <td>Поворот на Посьет</td>\n",
       "      <td>{'type': 'Point', 'coordinates': [130.83120153...</td>\n",
       "      <td>None</td>\n",
       "      <td>692715</td>\n",
       "      <td>None</td>\n",
       "      <td>Приморский край</td>\n",
       "    </tr>\n",
       "    <tr>\n",
       "      <th>862708</th>\n",
       "      <td>4433003940</td>\n",
       "      <td>Гвоздево</td>\n",
       "      <td>{'type': 'Point', 'coordinates': [130.916472, ...</td>\n",
       "      <td>None</td>\n",
       "      <td>692715</td>\n",
       "      <td>None</td>\n",
       "      <td>Приморский край</td>\n",
       "    </tr>\n",
       "    <tr>\n",
       "      <th>862709</th>\n",
       "      <td>1543342815</td>\n",
       "      <td>Посьет-3</td>\n",
       "      <td>{'type': 'Point', 'coordinates': [130.80580161...</td>\n",
       "      <td>None</td>\n",
       "      <td>692715</td>\n",
       "      <td>пгт Посьет</td>\n",
       "      <td>Приморский край</td>\n",
       "    </tr>\n",
       "    <tr>\n",
       "      <th>862710</th>\n",
       "      <td>3473615655</td>\n",
       "      <td>Посьет-2</td>\n",
       "      <td>{'type': 'Point', 'coordinates': [130.80585865...</td>\n",
       "      <td>None</td>\n",
       "      <td>692715</td>\n",
       "      <td>пгт Посьет</td>\n",
       "      <td>Приморский край</td>\n",
       "    </tr>\n",
       "  </tbody>\n",
       "</table>\n",
       "<p>862711 rows × 7 columns</p>\n",
       "</div>"
      ]
     },
     "metadata": {
      "application/vnd.databricks.v1+output": {
       "addedWidgets": {},
       "arguments": {},
       "data": "<div>\n<style scoped>\n    .dataframe tbody tr th:only-of-type {\n        vertical-align: middle;\n    }\n\n    .dataframe tbody tr th {\n        vertical-align: top;\n    }\n\n    .dataframe thead th {\n        text-align: right;\n    }\n</style>\n<table border=\"1\" class=\"dataframe\">\n  <thead>\n    <tr style=\"text-align: right;\">\n      <th></th>\n      <th>id</th>\n      <th>title</th>\n      <th>geopos</th>\n      <th>address</th>\n      <th>postal_code</th>\n      <th>city</th>\n      <th>region</th>\n    </tr>\n  </thead>\n  <tbody>\n    <tr>\n      <th>0</th>\n      <td>166427044398</td>\n      <td>Фуд Сити</td>\n      <td>{'type': 'Point', 'coordinates': [37.466404, 5...</td>\n      <td>108814, Россия, Москва, поселение Сосенское, К...</td>\n      <td>108814</td>\n      <td>г. Москва</td>\n      <td>Москва</td>\n    </tr>\n    <tr>\n      <th>1</th>\n      <td>1086565414</td>\n      <td>Глобус гипермаркет</td>\n      <td>{'type': 'Point', 'coordinates': [37.545225, 5...</td>\n      <td>142181, Россия, Московская область, Подольск, ...</td>\n      <td>142181</td>\n      <td>г. Подольск</td>\n      <td>Московская область</td>\n    </tr>\n    <tr>\n      <th>2</th>\n      <td>1330374048</td>\n      <td>Глобус гипермаркет</td>\n      <td>{'type': 'Point', 'coordinates': [37.300347, 5...</td>\n      <td>121500, Россия, Москва, Новорижское шоссе, 22-...</td>\n      <td>121500</td>\n      <td>г. Москва</td>\n      <td>Москва</td>\n    </tr>\n    <tr>\n      <th>3</th>\n      <td>190278434259</td>\n      <td>Глобус гипермаркет</td>\n      <td>{'type': 'Point', 'coordinates': [37.885653, 5...</td>\n      <td>140006, Россия, Московская область, Котельники...</td>\n      <td>140006</td>\n      <td>г. Котельники</td>\n      <td>Московская область</td>\n    </tr>\n    <tr>\n      <th>4</th>\n      <td>1506823238</td>\n      <td>Глобус гипермаркет</td>\n      <td>{'type': 'Point', 'coordinates': [37.886264, 5...</td>\n      <td>141202, Россия, Московская область, Пушкино, К...</td>\n      <td>141202</td>\n      <td>г. Пушкино</td>\n      <td>Московская область</td>\n    </tr>\n    <tr>\n      <th>...</th>\n      <td>...</td>\n      <td>...</td>\n      <td>...</td>\n      <td>...</td>\n      <td>...</td>\n      <td>...</td>\n      <td>...</td>\n    </tr>\n    <tr>\n      <th>862706</th>\n      <td>1975990001</td>\n      <td>Поворот на Посьет</td>\n      <td>{'type': 'Point', 'coordinates': [130.83553290...</td>\n      <td>None</td>\n      <td>692715</td>\n      <td>None</td>\n      <td>Приморский край</td>\n    </tr>\n    <tr>\n      <th>862707</th>\n      <td>1975990141</td>\n      <td>Поворот на Посьет</td>\n      <td>{'type': 'Point', 'coordinates': [130.83120153...</td>\n      <td>None</td>\n      <td>692715</td>\n      <td>None</td>\n      <td>Приморский край</td>\n    </tr>\n    <tr>\n      <th>862708</th>\n      <td>4433003940</td>\n      <td>Гвоздево</td>\n      <td>{'type': 'Point', 'coordinates': [130.916472, ...</td>\n      <td>None</td>\n      <td>692715</td>\n      <td>None</td>\n      <td>Приморский край</td>\n    </tr>\n    <tr>\n      <th>862709</th>\n      <td>1543342815</td>\n      <td>Посьет-3</td>\n      <td>{'type': 'Point', 'coordinates': [130.80580161...</td>\n      <td>None</td>\n      <td>692715</td>\n      <td>пгт Посьет</td>\n      <td>Приморский край</td>\n    </tr>\n    <tr>\n      <th>862710</th>\n      <td>3473615655</td>\n      <td>Посьет-2</td>\n      <td>{'type': 'Point', 'coordinates': [130.80585865...</td>\n      <td>None</td>\n      <td>692715</td>\n      <td>пгт Посьет</td>\n      <td>Приморский край</td>\n    </tr>\n  </tbody>\n</table>\n<p>862711 rows × 7 columns</p>\n</div>",
       "datasetInfos": [],
       "metadata": {},
       "removedWidgets": [],
       "textData": null,
       "type": "htmlSandbox"
      }
     },
     "output_type": "display_data"
    }
   ],
   "source": [
    "df"
   ]
  },
  {
   "cell_type": "code",
   "execution_count": 0,
   "metadata": {
    "application/vnd.databricks.v1+cell": {
     "cellMetadata": {
      "byteLimit": 2048000,
      "rowLimit": 10000
     },
     "inputWidgets": {},
     "nuid": "dca76d3b-03e0-4a9a-8037-68104ddb4e8d",
     "showTitle": false,
     "title": ""
    }
   },
   "outputs": [
    {
     "output_type": "display_data",
     "data": {
      "text/html": [
       "<div>\n",
       "<style scoped>\n",
       "    .dataframe tbody tr th:only-of-type {\n",
       "        vertical-align: middle;\n",
       "    }\n",
       "\n",
       "    .dataframe tbody tr th {\n",
       "        vertical-align: top;\n",
       "    }\n",
       "\n",
       "    .dataframe thead th {\n",
       "        text-align: right;\n",
       "    }\n",
       "</style>\n",
       "<table border=\"1\" class=\"dataframe\">\n",
       "  <thead>\n",
       "    <tr style=\"text-align: right;\">\n",
       "      <th></th>\n",
       "      <th>OL_id</th>\n",
       "      <th>OLTradingName</th>\n",
       "      <th>OLDeliveryAddress</th>\n",
       "      <th>Latitude</th>\n",
       "      <th>Longitude</th>\n",
       "    </tr>\n",
       "  </thead>\n",
       "  <tbody>\n",
       "    <tr>\n",
       "      <th>0</th>\n",
       "      <td>1,0292E+14</td>\n",
       "      <td>Пятерочка</td>\n",
       "      <td>г Москва, аллея 9-я Чоботовская, 1 корп. 1</td>\n",
       "      <td>55,655513</td>\n",
       "      <td>37,3523</td>\n",
       "    </tr>\n",
       "    <tr>\n",
       "      <th>1</th>\n",
       "      <td>1,0297E+14</td>\n",
       "      <td>Пятерочка №2559</td>\n",
       "      <td>г Москва, аллея Беговая, 3</td>\n",
       "      <td>55,783296</td>\n",
       "      <td>37,564859</td>\n",
       "    </tr>\n",
       "    <tr>\n",
       "      <th>2</th>\n",
       "      <td>1,0167E+14</td>\n",
       "      <td>Верный 1071 (Союз Св. Иоанна Воина)</td>\n",
       "      <td>г Москва, аллея Беговая, 7Б</td>\n",
       "      <td>55,781403</td>\n",
       "      <td>37,564832</td>\n",
       "    </tr>\n",
       "    <tr>\n",
       "      <th>3</th>\n",
       "      <td>1,0005E+14</td>\n",
       "      <td>АО РН-Москва (РН-Москва АЗС№5)</td>\n",
       "      <td>г Москва, аллея Берёзовая, 12</td>\n",
       "      <td>55,84896952</td>\n",
       "      <td>37,61841595</td>\n",
       "    </tr>\n",
       "    <tr>\n",
       "      <th>4</th>\n",
       "      <td>1,0293E+14</td>\n",
       "      <td>красное и белое</td>\n",
       "      <td>г Москва, аллея Берёзовая, 17 корп. 1</td>\n",
       "      <td>55,850069</td>\n",
       "      <td>37,6177788</td>\n",
       "    </tr>\n",
       "    <tr>\n",
       "      <th>...</th>\n",
       "      <td>...</td>\n",
       "      <td>...</td>\n",
       "      <td>...</td>\n",
       "      <td>...</td>\n",
       "      <td>...</td>\n",
       "    </tr>\n",
       "    <tr>\n",
       "      <th>25730</th>\n",
       "      <td>1,0097E+14</td>\n",
       "      <td>ООО Евроойл (пересечения а/д Омск-Новосибирск,...</td>\n",
       "      <td>Новосибирская, Чановский</td>\n",
       "      <td>55,2208549</td>\n",
       "      <td>75,992306</td>\n",
       "    </tr>\n",
       "    <tr>\n",
       "      <th>25731</th>\n",
       "      <td>1,0097E+14</td>\n",
       "      <td>ООО Евроойл (150км к югу от ж/ж переезда,п.Озе...</td>\n",
       "      <td>Новосибирская, Чановский, Озеро-Карачи, Вокзал...</td>\n",
       "      <td>55,33617401</td>\n",
       "      <td>76,96767426</td>\n",
       "    </tr>\n",
       "    <tr>\n",
       "      <th>25732</th>\n",
       "      <td>1,0005E+14</td>\n",
       "      <td>Водолага Л. Д ИП</td>\n",
       "      <td>Новосибирская, Черепановский, Пятилетка, Центр...</td>\n",
       "      <td>54,239926</td>\n",
       "      <td>83,324564</td>\n",
       "    </tr>\n",
       "    <tr>\n",
       "      <th>25733</th>\n",
       "      <td>1,0097E+14</td>\n",
       "      <td>Сиб Ойл ЛТД</td>\n",
       "      <td>Новосибирская, Черепановский, Южный, Школьная, 21</td>\n",
       "      <td>54,010485</td>\n",
       "      <td>83,422875</td>\n",
       "    </tr>\n",
       "    <tr>\n",
       "      <th>25734</th>\n",
       "      <td>1,0097E+14</td>\n",
       "      <td>ИП Богомолов Н.В.</td>\n",
       "      <td>Новосибирская, Чистоозерный, Чистоозерное, Мат...</td>\n",
       "      <td>54,703946</td>\n",
       "      <td>76,5786389</td>\n",
       "    </tr>\n",
       "  </tbody>\n",
       "</table>\n",
       "<p>25735 rows × 5 columns</p>\n",
       "</div>"
      ]
     },
     "metadata": {
      "application/vnd.databricks.v1+output": {
       "addedWidgets": {},
       "arguments": {},
       "data": "<div>\n<style scoped>\n    .dataframe tbody tr th:only-of-type {\n        vertical-align: middle;\n    }\n\n    .dataframe tbody tr th {\n        vertical-align: top;\n    }\n\n    .dataframe thead th {\n        text-align: right;\n    }\n</style>\n<table border=\"1\" class=\"dataframe\">\n  <thead>\n    <tr style=\"text-align: right;\">\n      <th></th>\n      <th>OL_id</th>\n      <th>OLTradingName</th>\n      <th>OLDeliveryAddress</th>\n      <th>Latitude</th>\n      <th>Longitude</th>\n    </tr>\n  </thead>\n  <tbody>\n    <tr>\n      <th>0</th>\n      <td>1,0292E+14</td>\n      <td>Пятерочка</td>\n      <td>г Москва, аллея 9-я Чоботовская, 1 корп. 1</td>\n      <td>55,655513</td>\n      <td>37,3523</td>\n    </tr>\n    <tr>\n      <th>1</th>\n      <td>1,0297E+14</td>\n      <td>Пятерочка №2559</td>\n      <td>г Москва, аллея Беговая, 3</td>\n      <td>55,783296</td>\n      <td>37,564859</td>\n    </tr>\n    <tr>\n      <th>2</th>\n      <td>1,0167E+14</td>\n      <td>Верный 1071 (Союз Св. Иоанна Воина)</td>\n      <td>г Москва, аллея Беговая, 7Б</td>\n      <td>55,781403</td>\n      <td>37,564832</td>\n    </tr>\n    <tr>\n      <th>3</th>\n      <td>1,0005E+14</td>\n      <td>АО РН-Москва (РН-Москва АЗС№5)</td>\n      <td>г Москва, аллея Берёзовая, 12</td>\n      <td>55,84896952</td>\n      <td>37,61841595</td>\n    </tr>\n    <tr>\n      <th>4</th>\n      <td>1,0293E+14</td>\n      <td>красное и белое</td>\n      <td>г Москва, аллея Берёзовая, 17 корп. 1</td>\n      <td>55,850069</td>\n      <td>37,6177788</td>\n    </tr>\n    <tr>\n      <th>...</th>\n      <td>...</td>\n      <td>...</td>\n      <td>...</td>\n      <td>...</td>\n      <td>...</td>\n    </tr>\n    <tr>\n      <th>25730</th>\n      <td>1,0097E+14</td>\n      <td>ООО Евроойл (пересечения а/д Омск-Новосибирск,...</td>\n      <td>Новосибирская, Чановский</td>\n      <td>55,2208549</td>\n      <td>75,992306</td>\n    </tr>\n    <tr>\n      <th>25731</th>\n      <td>1,0097E+14</td>\n      <td>ООО Евроойл (150км к югу от ж/ж переезда,п.Озе...</td>\n      <td>Новосибирская, Чановский, Озеро-Карачи, Вокзал...</td>\n      <td>55,33617401</td>\n      <td>76,96767426</td>\n    </tr>\n    <tr>\n      <th>25732</th>\n      <td>1,0005E+14</td>\n      <td>Водолага Л. Д ИП</td>\n      <td>Новосибирская, Черепановский, Пятилетка, Центр...</td>\n      <td>54,239926</td>\n      <td>83,324564</td>\n    </tr>\n    <tr>\n      <th>25733</th>\n      <td>1,0097E+14</td>\n      <td>Сиб Ойл ЛТД</td>\n      <td>Новосибирская, Черепановский, Южный, Школьная, 21</td>\n      <td>54,010485</td>\n      <td>83,422875</td>\n    </tr>\n    <tr>\n      <th>25734</th>\n      <td>1,0097E+14</td>\n      <td>ИП Богомолов Н.В.</td>\n      <td>Новосибирская, Чистоозерный, Чистоозерное, Мат...</td>\n      <td>54,703946</td>\n      <td>76,5786389</td>\n    </tr>\n  </tbody>\n</table>\n<p>25735 rows × 5 columns</p>\n</div>",
       "datasetInfos": [],
       "metadata": {},
       "removedWidgets": [],
       "textData": null,
       "type": "htmlSandbox"
      }
     },
     "output_type": "display_data"
    }
   ],
   "source": [
    "dff"
   ]
  },
  {
   "cell_type": "code",
   "execution_count": 0,
   "metadata": {
    "application/vnd.databricks.v1+cell": {
     "cellMetadata": {
      "byteLimit": 2048000,
      "rowLimit": 10000
     },
     "inputWidgets": {},
     "nuid": "edd39f4c-7dcc-43ff-aa8a-66b5a3ad3496",
     "showTitle": false,
     "title": ""
    }
   },
   "outputs": [
    {
     "output_type": "stream",
     "name": "stdout",
     "output_type": "stream",
     "text": [
      "Out[29]: 'Москва, Москва, 9-я Чоботовская аллея, 1 к1'"
     ]
    }
   ],
   "source": [
    "prepare_addresses(dff['OLDeliveryAddress'][0])"
   ]
  },
  {
   "cell_type": "code",
   "execution_count": 0,
   "metadata": {
    "application/vnd.databricks.v1+cell": {
     "cellMetadata": {
      "byteLimit": 2048000,
      "rowLimit": 10000
     },
     "inputWidgets": {},
     "nuid": "c22ed62b-a973-4d81-ae92-4d57747a02b1",
     "showTitle": false,
     "title": ""
    }
   },
   "outputs": [
    {
     "output_type": "stream",
     "name": "stdout",
     "output_type": "stream",
     "text": [
      "Out[25]: 'Новосибирская обл'"
     ]
    }
   ],
   "source": [
    "dff['OLDeliveryAddress'][25730].split(\", \")[0] + \" обл\""
   ]
  },
  {
   "cell_type": "code",
   "execution_count": 0,
   "metadata": {
    "application/vnd.databricks.v1+cell": {
     "cellMetadata": {
      "byteLimit": 2048000,
      "rowLimit": 10000
     },
     "inputWidgets": {},
     "nuid": "af1f2074-a589-47ee-b918-9d8ce1df82bd",
     "showTitle": false,
     "title": ""
    }
   },
   "outputs": [
    {
     "output_type": "stream",
     "name": "stdout",
     "output_type": "stream",
     "text": [
      "Out[35]: ['Москва', 'Новорижское шоссе', '22-й километр', 'вл1с1']"
     ]
    }
   ],
   "source": [
    "df['address'][2].split(\", \")[2:]"
   ]
  },
  {
   "cell_type": "code",
   "execution_count": 0,
   "metadata": {
    "application/vnd.databricks.v1+cell": {
     "cellMetadata": {
      "byteLimit": 2048000,
      "rowLimit": 10000
     },
     "inputWidgets": {},
     "nuid": "bf351905-b628-49c4-985f-49f03d957438",
     "showTitle": false,
     "title": ""
    }
   },
   "outputs": [],
   "source": [
    "df = df.fillna(\"0\")"
   ]
  },
  {
   "cell_type": "code",
   "execution_count": 0,
   "metadata": {
    "application/vnd.databricks.v1+cell": {
     "cellMetadata": {
      "byteLimit": 2048000,
      "rowLimit": 10000
     },
     "inputWidgets": {},
     "nuid": "9949d74e-5957-4e2c-9249-e119038cf4ec",
     "showTitle": false,
     "title": ""
    }
   },
   "outputs": [],
   "source": [
    "def normalize_adres(dataframe):\n",
    "  dataframe['norm_adres'] = dataframe['address'].apply(lambda x: ', '.join(x.split(\", \")[2:]))\n",
    "  new_adr = []\n",
    "  for i in range(dataframe.shape[0]):\n",
    "    parts = dataframe['norm_adres'][i].split(\", \")\n",
    "    if parts[0] == \"Москва\":\n",
    "      parts[0] = parts[0] + \", Москва\"\n",
    "      new_adr.append(', '.join(parts))\n",
    "    elif parts[0] == \"Санкт-Петербург\":\n",
    "      parts[0] = parts[0] + \", Санкт-Петербург\"\n",
    "      new_adr.append(', '.join(parts))\n",
    "    else:\n",
    "      new_adr.append(', '.join(parts))\n",
    "  dataframe['new_adr'] = new_adr\n",
    "  return dataframe"
   ]
  },
  {
   "cell_type": "code",
   "execution_count": 0,
   "metadata": {
    "application/vnd.databricks.v1+cell": {
     "cellMetadata": {
      "byteLimit": 2048000,
      "rowLimit": 10000
     },
     "inputWidgets": {},
     "nuid": "e60da3bc-441f-40bf-bb85-72c1f87d2ebf",
     "showTitle": false,
     "title": ""
    }
   },
   "outputs": [],
   "source": [
    "df = normalize_adres(df)"
   ]
  },
  {
   "cell_type": "code",
   "execution_count": 0,
   "metadata": {
    "application/vnd.databricks.v1+cell": {
     "cellMetadata": {
      "byteLimit": 2048000,
      "rowLimit": 10000
     },
     "inputWidgets": {},
     "nuid": "bbb09d97-81e4-4385-90fc-1baaf5a548ea",
     "showTitle": false,
     "title": ""
    }
   },
   "outputs": [
    {
     "output_type": "display_data",
     "data": {
      "text/html": [
       "<div>\n",
       "<style scoped>\n",
       "    .dataframe tbody tr th:only-of-type {\n",
       "        vertical-align: middle;\n",
       "    }\n",
       "\n",
       "    .dataframe tbody tr th {\n",
       "        vertical-align: top;\n",
       "    }\n",
       "\n",
       "    .dataframe thead th {\n",
       "        text-align: right;\n",
       "    }\n",
       "</style>\n",
       "<table border=\"1\" class=\"dataframe\">\n",
       "  <thead>\n",
       "    <tr style=\"text-align: right;\">\n",
       "      <th></th>\n",
       "      <th>id</th>\n",
       "      <th>title</th>\n",
       "      <th>geopos</th>\n",
       "      <th>address</th>\n",
       "      <th>postal_code</th>\n",
       "      <th>city</th>\n",
       "      <th>region</th>\n",
       "      <th>norm_adres</th>\n",
       "      <th>new_adr</th>\n",
       "    </tr>\n",
       "  </thead>\n",
       "  <tbody>\n",
       "    <tr>\n",
       "      <th>0</th>\n",
       "      <td>166427044398</td>\n",
       "      <td>Фуд Сити</td>\n",
       "      <td>{'type': 'Point', 'coordinates': [37.466404, 5...</td>\n",
       "      <td>108814, Россия, Москва, поселение Сосенское, К...</td>\n",
       "      <td>108814</td>\n",
       "      <td>г. Москва</td>\n",
       "      <td>Москва</td>\n",
       "      <td>Москва, поселение Сосенское, Калужское шоссе, ...</td>\n",
       "      <td>Москва, Москва, поселение Сосенское, Калужское...</td>\n",
       "    </tr>\n",
       "    <tr>\n",
       "      <th>1</th>\n",
       "      <td>1086565414</td>\n",
       "      <td>Глобус гипермаркет</td>\n",
       "      <td>{'type': 'Point', 'coordinates': [37.545225, 5...</td>\n",
       "      <td>142181, Россия, Московская область, Подольск, ...</td>\n",
       "      <td>142181</td>\n",
       "      <td>г. Подольск</td>\n",
       "      <td>Московская область</td>\n",
       "      <td>Московская область, Подольск, микрорайон Климо...</td>\n",
       "      <td>Московская область, Подольск, микрорайон Климо...</td>\n",
       "    </tr>\n",
       "    <tr>\n",
       "      <th>2</th>\n",
       "      <td>1330374048</td>\n",
       "      <td>Глобус гипермаркет</td>\n",
       "      <td>{'type': 'Point', 'coordinates': [37.300347, 5...</td>\n",
       "      <td>121500, Россия, Москва, Новорижское шоссе, 22-...</td>\n",
       "      <td>121500</td>\n",
       "      <td>г. Москва</td>\n",
       "      <td>Москва</td>\n",
       "      <td>Москва, Новорижское шоссе, 22-й километр, вл1с1</td>\n",
       "      <td>Москва, Москва, Новорижское шоссе, 22-й киломе...</td>\n",
       "    </tr>\n",
       "    <tr>\n",
       "      <th>3</th>\n",
       "      <td>190278434259</td>\n",
       "      <td>Глобус гипермаркет</td>\n",
       "      <td>{'type': 'Point', 'coordinates': [37.885653, 5...</td>\n",
       "      <td>140006, Россия, Московская область, Котельники...</td>\n",
       "      <td>140006</td>\n",
       "      <td>г. Котельники</td>\n",
       "      <td>Московская область</td>\n",
       "      <td>Московская область, Котельники, Новорязанское ...</td>\n",
       "      <td>Московская область, Котельники, Новорязанское ...</td>\n",
       "    </tr>\n",
       "    <tr>\n",
       "      <th>4</th>\n",
       "      <td>1506823238</td>\n",
       "      <td>Глобус гипермаркет</td>\n",
       "      <td>{'type': 'Point', 'coordinates': [37.886264, 5...</td>\n",
       "      <td>141202, Россия, Московская область, Пушкино, К...</td>\n",
       "      <td>141202</td>\n",
       "      <td>г. Пушкино</td>\n",
       "      <td>Московская область</td>\n",
       "      <td>Московская область, Пушкино, Красноармейское ш...</td>\n",
       "      <td>Московская область, Пушкино, Красноармейское ш...</td>\n",
       "    </tr>\n",
       "    <tr>\n",
       "      <th>5</th>\n",
       "      <td>169890191777</td>\n",
       "      <td>Глобус гипермаркет</td>\n",
       "      <td>{'type': 'Point', 'coordinates': [37.944601, 5...</td>\n",
       "      <td>143912, Россия, Московская область, Балашиха, ...</td>\n",
       "      <td>143912</td>\n",
       "      <td>г. Балашиха</td>\n",
       "      <td>Московская область</td>\n",
       "      <td>Московская область, Балашиха, шоссе Энтузиасто...</td>\n",
       "      <td>Московская область, Балашиха, шоссе Энтузиасто...</td>\n",
       "    </tr>\n",
       "    <tr>\n",
       "      <th>6</th>\n",
       "      <td>129498155424</td>\n",
       "      <td>Глобус гипермаркет</td>\n",
       "      <td>{'type': 'Point', 'coordinates': [37.420997, 5...</td>\n",
       "      <td>108811, Россия, Москва, поселение Московский, ...</td>\n",
       "      <td>108811</td>\n",
       "      <td>г. Москва</td>\n",
       "      <td>Москва</td>\n",
       "      <td>Москва, поселение Московский, Киевское шоссе, ...</td>\n",
       "      <td>Москва, Москва, поселение Московский, Киевское...</td>\n",
       "    </tr>\n",
       "    <tr>\n",
       "      <th>7</th>\n",
       "      <td>1764358261</td>\n",
       "      <td>Глобус гипермаркет</td>\n",
       "      <td>{'type': 'Point', 'coordinates': [37.177869, 5...</td>\n",
       "      <td>143081, Россия, Московская область, Одинцовски...</td>\n",
       "      <td>143081</td>\n",
       "      <td>0</td>\n",
       "      <td>Московская область</td>\n",
       "      <td>Московская область, Одинцовский городской окру...</td>\n",
       "      <td>Московская область, Одинцовский городской окру...</td>\n",
       "    </tr>\n",
       "    <tr>\n",
       "      <th>8</th>\n",
       "      <td>1071756074</td>\n",
       "      <td>Глобус гипермаркет</td>\n",
       "      <td>{'type': 'Point', 'coordinates': [37.846075, 5...</td>\n",
       "      <td>141077, Россия, Московская область, Королёв, К...</td>\n",
       "      <td>141077</td>\n",
       "      <td>г. Королев</td>\n",
       "      <td>Московская область</td>\n",
       "      <td>Московская область, Королёв, Коммунальная улиц...</td>\n",
       "      <td>Московская область, Королёв, Коммунальная улиц...</td>\n",
       "    </tr>\n",
       "    <tr>\n",
       "      <th>9</th>\n",
       "      <td>10787552670</td>\n",
       "      <td>Булочная Ф. Вольчека</td>\n",
       "      <td>{'type': 'Point', 'coordinates': [30.348261, 5...</td>\n",
       "      <td>191025, Россия, Санкт-Петербург, Литейный прос...</td>\n",
       "      <td>191025</td>\n",
       "      <td>г. Санкт-Петербург</td>\n",
       "      <td>Санкт-Петербург</td>\n",
       "      <td>Санкт-Петербург, Литейный проспект, 64/78</td>\n",
       "      <td>Санкт-Петербург, Санкт-Петербург, Литейный про...</td>\n",
       "    </tr>\n",
       "    <tr>\n",
       "      <th>10</th>\n",
       "      <td>1145570430</td>\n",
       "      <td>Глобус гипермаркет</td>\n",
       "      <td>{'type': 'Point', 'coordinates': [40.459358, 5...</td>\n",
       "      <td>600027, Россия, Владимирская область, Владимир...</td>\n",
       "      <td>600027</td>\n",
       "      <td>г. Владимир</td>\n",
       "      <td>Владимирская область</td>\n",
       "      <td>Владимирская область, Владимир, Суздальский пр...</td>\n",
       "      <td>Владимирская область, Владимир, Суздальский пр...</td>\n",
       "    </tr>\n",
       "    <tr>\n",
       "      <th>11</th>\n",
       "      <td>58557300749</td>\n",
       "      <td>Ашан</td>\n",
       "      <td>{'type': 'Point', 'coordinates': [37.66792, 55...</td>\n",
       "      <td>141014, Россия, Московская область, Мытищи, Ос...</td>\n",
       "      <td>141014</td>\n",
       "      <td>г. Мытищи</td>\n",
       "      <td>Московская область</td>\n",
       "      <td>Московская область, Мытищи, Осташковское шоссе, 1</td>\n",
       "      <td>Московская область, Мытищи, Осташковское шоссе, 1</td>\n",
       "    </tr>\n",
       "    <tr>\n",
       "      <th>12</th>\n",
       "      <td>1345229690</td>\n",
       "      <td>Глобус гипермаркет</td>\n",
       "      <td>{'type': 'Point', 'coordinates': [38.003954, 5...</td>\n",
       "      <td>141109, Россия, Московская область, Щёлково, П...</td>\n",
       "      <td>141109</td>\n",
       "      <td>г. Щелково</td>\n",
       "      <td>Московская область</td>\n",
       "      <td>Московская область, Щёлково, Пролетарский прос...</td>\n",
       "      <td>Московская область, Щёлково, Пролетарский прос...</td>\n",
       "    </tr>\n",
       "    <tr>\n",
       "      <th>13</th>\n",
       "      <td>131157067724</td>\n",
       "      <td>Глобус гипермаркет</td>\n",
       "      <td>{'type': 'Point', 'coordinates': [37.63925, 55...</td>\n",
       "      <td>127282, Россия, Москва, Широкая улица, 2А</td>\n",
       "      <td>127282</td>\n",
       "      <td>г. Москва</td>\n",
       "      <td>Москва</td>\n",
       "      <td>Москва, Широкая улица, 2А</td>\n",
       "      <td>Москва, Москва, Широкая улица, 2А</td>\n",
       "    </tr>\n",
       "    <tr>\n",
       "      <th>14</th>\n",
       "      <td>1393342431</td>\n",
       "      <td>Глобус гипермаркет</td>\n",
       "      <td>{'type': 'Point', 'coordinates': [37.646067, 5...</td>\n",
       "      <td>300045, Россия, Тульская область, муниципально...</td>\n",
       "      <td>300045</td>\n",
       "      <td>0</td>\n",
       "      <td>Тульская область</td>\n",
       "      <td>Тульская область, муниципальное образование Ту...</td>\n",
       "      <td>Тульская область, муниципальное образование Ту...</td>\n",
       "    </tr>\n",
       "  </tbody>\n",
       "</table>\n",
       "</div>"
      ]
     },
     "metadata": {
      "application/vnd.databricks.v1+output": {
       "addedWidgets": {},
       "arguments": {},
       "data": "<div>\n<style scoped>\n    .dataframe tbody tr th:only-of-type {\n        vertical-align: middle;\n    }\n\n    .dataframe tbody tr th {\n        vertical-align: top;\n    }\n\n    .dataframe thead th {\n        text-align: right;\n    }\n</style>\n<table border=\"1\" class=\"dataframe\">\n  <thead>\n    <tr style=\"text-align: right;\">\n      <th></th>\n      <th>id</th>\n      <th>title</th>\n      <th>geopos</th>\n      <th>address</th>\n      <th>postal_code</th>\n      <th>city</th>\n      <th>region</th>\n      <th>norm_adres</th>\n      <th>new_adr</th>\n    </tr>\n  </thead>\n  <tbody>\n    <tr>\n      <th>0</th>\n      <td>166427044398</td>\n      <td>Фуд Сити</td>\n      <td>{'type': 'Point', 'coordinates': [37.466404, 5...</td>\n      <td>108814, Россия, Москва, поселение Сосенское, К...</td>\n      <td>108814</td>\n      <td>г. Москва</td>\n      <td>Москва</td>\n      <td>Москва, поселение Сосенское, Калужское шоссе, ...</td>\n      <td>Москва, Москва, поселение Сосенское, Калужское...</td>\n    </tr>\n    <tr>\n      <th>1</th>\n      <td>1086565414</td>\n      <td>Глобус гипермаркет</td>\n      <td>{'type': 'Point', 'coordinates': [37.545225, 5...</td>\n      <td>142181, Россия, Московская область, Подольск, ...</td>\n      <td>142181</td>\n      <td>г. Подольск</td>\n      <td>Московская область</td>\n      <td>Московская область, Подольск, микрорайон Климо...</td>\n      <td>Московская область, Подольск, микрорайон Климо...</td>\n    </tr>\n    <tr>\n      <th>2</th>\n      <td>1330374048</td>\n      <td>Глобус гипермаркет</td>\n      <td>{'type': 'Point', 'coordinates': [37.300347, 5...</td>\n      <td>121500, Россия, Москва, Новорижское шоссе, 22-...</td>\n      <td>121500</td>\n      <td>г. Москва</td>\n      <td>Москва</td>\n      <td>Москва, Новорижское шоссе, 22-й километр, вл1с1</td>\n      <td>Москва, Москва, Новорижское шоссе, 22-й киломе...</td>\n    </tr>\n    <tr>\n      <th>3</th>\n      <td>190278434259</td>\n      <td>Глобус гипермаркет</td>\n      <td>{'type': 'Point', 'coordinates': [37.885653, 5...</td>\n      <td>140006, Россия, Московская область, Котельники...</td>\n      <td>140006</td>\n      <td>г. Котельники</td>\n      <td>Московская область</td>\n      <td>Московская область, Котельники, Новорязанское ...</td>\n      <td>Московская область, Котельники, Новорязанское ...</td>\n    </tr>\n    <tr>\n      <th>4</th>\n      <td>1506823238</td>\n      <td>Глобус гипермаркет</td>\n      <td>{'type': 'Point', 'coordinates': [37.886264, 5...</td>\n      <td>141202, Россия, Московская область, Пушкино, К...</td>\n      <td>141202</td>\n      <td>г. Пушкино</td>\n      <td>Московская область</td>\n      <td>Московская область, Пушкино, Красноармейское ш...</td>\n      <td>Московская область, Пушкино, Красноармейское ш...</td>\n    </tr>\n    <tr>\n      <th>5</th>\n      <td>169890191777</td>\n      <td>Глобус гипермаркет</td>\n      <td>{'type': 'Point', 'coordinates': [37.944601, 5...</td>\n      <td>143912, Россия, Московская область, Балашиха, ...</td>\n      <td>143912</td>\n      <td>г. Балашиха</td>\n      <td>Московская область</td>\n      <td>Московская область, Балашиха, шоссе Энтузиасто...</td>\n      <td>Московская область, Балашиха, шоссе Энтузиасто...</td>\n    </tr>\n    <tr>\n      <th>6</th>\n      <td>129498155424</td>\n      <td>Глобус гипермаркет</td>\n      <td>{'type': 'Point', 'coordinates': [37.420997, 5...</td>\n      <td>108811, Россия, Москва, поселение Московский, ...</td>\n      <td>108811</td>\n      <td>г. Москва</td>\n      <td>Москва</td>\n      <td>Москва, поселение Московский, Киевское шоссе, ...</td>\n      <td>Москва, Москва, поселение Московский, Киевское...</td>\n    </tr>\n    <tr>\n      <th>7</th>\n      <td>1764358261</td>\n      <td>Глобус гипермаркет</td>\n      <td>{'type': 'Point', 'coordinates': [37.177869, 5...</td>\n      <td>143081, Россия, Московская область, Одинцовски...</td>\n      <td>143081</td>\n      <td>0</td>\n      <td>Московская область</td>\n      <td>Московская область, Одинцовский городской окру...</td>\n      <td>Московская область, Одинцовский городской окру...</td>\n    </tr>\n    <tr>\n      <th>8</th>\n      <td>1071756074</td>\n      <td>Глобус гипермаркет</td>\n      <td>{'type': 'Point', 'coordinates': [37.846075, 5...</td>\n      <td>141077, Россия, Московская область, Королёв, К...</td>\n      <td>141077</td>\n      <td>г. Королев</td>\n      <td>Московская область</td>\n      <td>Московская область, Королёв, Коммунальная улиц...</td>\n      <td>Московская область, Королёв, Коммунальная улиц...</td>\n    </tr>\n    <tr>\n      <th>9</th>\n      <td>10787552670</td>\n      <td>Булочная Ф. Вольчека</td>\n      <td>{'type': 'Point', 'coordinates': [30.348261, 5...</td>\n      <td>191025, Россия, Санкт-Петербург, Литейный прос...</td>\n      <td>191025</td>\n      <td>г. Санкт-Петербург</td>\n      <td>Санкт-Петербург</td>\n      <td>Санкт-Петербург, Литейный проспект, 64/78</td>\n      <td>Санкт-Петербург, Санкт-Петербург, Литейный про...</td>\n    </tr>\n    <tr>\n      <th>10</th>\n      <td>1145570430</td>\n      <td>Глобус гипермаркет</td>\n      <td>{'type': 'Point', 'coordinates': [40.459358, 5...</td>\n      <td>600027, Россия, Владимирская область, Владимир...</td>\n      <td>600027</td>\n      <td>г. Владимир</td>\n      <td>Владимирская область</td>\n      <td>Владимирская область, Владимир, Суздальский пр...</td>\n      <td>Владимирская область, Владимир, Суздальский пр...</td>\n    </tr>\n    <tr>\n      <th>11</th>\n      <td>58557300749</td>\n      <td>Ашан</td>\n      <td>{'type': 'Point', 'coordinates': [37.66792, 55...</td>\n      <td>141014, Россия, Московская область, Мытищи, Ос...</td>\n      <td>141014</td>\n      <td>г. Мытищи</td>\n      <td>Московская область</td>\n      <td>Московская область, Мытищи, Осташковское шоссе, 1</td>\n      <td>Московская область, Мытищи, Осташковское шоссе, 1</td>\n    </tr>\n    <tr>\n      <th>12</th>\n      <td>1345229690</td>\n      <td>Глобус гипермаркет</td>\n      <td>{'type': 'Point', 'coordinates': [38.003954, 5...</td>\n      <td>141109, Россия, Московская область, Щёлково, П...</td>\n      <td>141109</td>\n      <td>г. Щелково</td>\n      <td>Московская область</td>\n      <td>Московская область, Щёлково, Пролетарский прос...</td>\n      <td>Московская область, Щёлково, Пролетарский прос...</td>\n    </tr>\n    <tr>\n      <th>13</th>\n      <td>131157067724</td>\n      <td>Глобус гипермаркет</td>\n      <td>{'type': 'Point', 'coordinates': [37.63925, 55...</td>\n      <td>127282, Россия, Москва, Широкая улица, 2А</td>\n      <td>127282</td>\n      <td>г. Москва</td>\n      <td>Москва</td>\n      <td>Москва, Широкая улица, 2А</td>\n      <td>Москва, Москва, Широкая улица, 2А</td>\n    </tr>\n    <tr>\n      <th>14</th>\n      <td>1393342431</td>\n      <td>Глобус гипермаркет</td>\n      <td>{'type': 'Point', 'coordinates': [37.646067, 5...</td>\n      <td>300045, Россия, Тульская область, муниципально...</td>\n      <td>300045</td>\n      <td>0</td>\n      <td>Тульская область</td>\n      <td>Тульская область, муниципальное образование Ту...</td>\n      <td>Тульская область, муниципальное образование Ту...</td>\n    </tr>\n  </tbody>\n</table>\n</div>",
       "datasetInfos": [],
       "metadata": {},
       "removedWidgets": [],
       "textData": null,
       "type": "htmlSandbox"
      }
     },
     "output_type": "display_data"
    }
   ],
   "source": [
    "df.head(15)"
   ]
  },
  {
   "cell_type": "code",
   "execution_count": 0,
   "metadata": {
    "application/vnd.databricks.v1+cell": {
     "cellMetadata": {},
     "inputWidgets": {},
     "nuid": "c35c8c75-f01e-4240-839a-4d0b09edd554",
     "showTitle": false,
     "title": ""
    }
   },
   "outputs": [],
   "source": []
  }
 ],
 "metadata": {
  "application/vnd.databricks.v1+notebook": {
   "dashboards": [],
   "language": "python",
   "notebookMetadata": {
    "mostRecentlyExecutedCommandWithImplicitDF": {
     "commandId": 2352252068261686,
     "dataframes": [
      "_sqldf"
     ]
    },
    "pythonIndentUnit": 2
   },
   "notebookName": "Geo check",
   "widgets": {}
  }
 },
 "nbformat": 4,
 "nbformat_minor": 0
}
