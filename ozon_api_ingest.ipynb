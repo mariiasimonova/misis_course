{
 "cells": [
  {
   "cell_type": "code",
   "execution_count": 0,
   "metadata": {
    "application/vnd.databricks.v1+cell": {
     "cellMetadata": {
      "byteLimit": 2048000,
      "rowLimit": 10000
     },
     "inputWidgets": {},
     "nuid": "71e9cfbe-1cf5-490f-b9c3-3aea841ca3ae",
     "showTitle": false,
     "title": ""
    }
   },
   "outputs": [],
   "source": [
    "import requests\n",
    "import urllib3\n",
    "import json\n",
    "import csv\n",
    "import time\n",
    "from datetime import datetime, timedelta, date\n",
    "from zipfile import ZipFile\n",
    "import io\n",
    "import os"
   ]
  },
  {
   "cell_type": "code",
   "execution_count": 0,
   "metadata": {
    "application/vnd.databricks.v1+cell": {
     "cellMetadata": {
      "byteLimit": 2048000,
      "rowLimit": 10000
     },
     "inputWidgets": {},
     "nuid": "a3e66c60-cc81-479a-9c69-2b2168fcdc8d",
     "showTitle": false,
     "title": ""
    }
   },
   "outputs": [],
   "source": [
    "urllib3.disable_warnings()"
   ]
  },
  {
   "cell_type": "code",
   "execution_count": 0,
   "metadata": {
    "application/vnd.databricks.v1+cell": {
     "cellMetadata": {
      "byteLimit": 2048000,
      "rowLimit": 10000
     },
     "inputWidgets": {},
     "nuid": "e5fbabd0-dbdd-4335-8f44-7fce3b5e3274",
     "showTitle": false,
     "title": ""
    }
   },
   "outputs": [],
   "source": [
    "def get_key(client_id, client_secret):\n",
    "    key_request = requests.post('https://performance.ozon.ru:443/api/client/token',\n",
    "                                headers={\n",
    "                                    \"Content-Type\": \"application/json\",\n",
    "                                    \"Accept\": \"application/json\"\n",
    "                                },\n",
    "                                json={\n",
    "                                    \"client_id\": client_id,\n",
    "                                    \"client_secret\": client_secret,\n",
    "                                    \"grant_type\": \"client_credentials\"\n",
    "                                }\n",
    "                                )\n",
    "    return key_request.json()['access_token']\n",
    "\n",
    "\n",
    "def get_compaign_list():\n",
    "    compaign_request = requests.get('https://performance.ozon.ru:443/api/client/campaign',\n",
    "                                    headers=headers\n",
    "                                    )\n",
    "\n",
    "    campaign = compaign_request.json()\n",
    "    n = 10\n",
    "    campaign_id_list_for_campaigns = [i[\"id\"] for i in campaign[\"list\"] if i[\"state\"] == \"CAMPAIGN_STATE_RUNNING\" or i[\"state\"] == \"CAMPAIGN_STATE_INACTIVE\"]\n",
    "    campaign_id_list_for_campaigns_divided = [campaign_id_list_for_campaigns[i * n:(i + 1) * n] for i in range((len(campaign_id_list_for_campaigns) + n - 1) // n)]\n",
    "    campaign_id_list_for_phrases = [i[\"id\"] for i in campaign[\"list\"] if i[\"state\"] == \"CAMPAIGN_STATE_RUNNING\" and i[\"productCampaignMode\"] == \"PRODUCT_CAMPAIGN_MODE_MANUAL\" or i[\"state\"] == \"CAMPAIGN_STATE_INACTIVE\" and i[\"productCampaignMode\"] == \"PRODUCT_CAMPAIGN_MODE_MANUAL\"]\n",
    "    campaign_id_list_for_phrases_divided = [campaign_id_list_for_phrases[i * n:(i + 1) * n] for i in range((len(campaign_id_list_for_phrases) + n - 1) // n)]\n",
    "    campaign_id_list_for_attribution = [i[\"id\"] for i in campaign[\"list\"] if (i[\"state\"] == \"CAMPAIGN_STATE_RUNNING\" or i[\"state\"] == \"CAMPAIGN_STATE_INACTIVE\") and (i[\"advObjectType\"] == \"BANNER\" or i[\"advObjectType\"] == \"BRAND_SHELF\")]\n",
    "    campaign_id_list_for_attribution_divided = [campaign_id_list_for_attribution[i * n:(i + 1) * n] for i in range((len(campaign_id_list_for_attribution) + n - 1) // n)]\n",
    "    return {\"campaign_id_list_for_campaigns\": campaign_id_list_for_campaigns_divided, \n",
    "            \"campaign_id_list_for_phrases\": campaign_id_list_for_phrases_divided,\n",
    "            \"campaign_id_list_for_attribution\": campaign_id_list_for_attribution_divided\n",
    "            }\n",
    "\n",
    "\n",
    "\n",
    "def get_report_id(url, campaign_id):\n",
    "    statistisc_request = requests.post(url,\n",
    "                                       headers=headers,\n",
    "                                       json={\n",
    "                                           \"campaigns\": campaign_id,\n",
    "                                           \"dateFrom\": f\"{datetime.strftime(date_from, '%Y-%m-%d')}\",\n",
    "                                           \"dateTo\": f\"{datetime.strftime(date_to, '%Y-%m-%d')}\",\n",
    "                                           \"groupBy\": \"DATE\"\n",
    "                                       }\n",
    "                                       )\n",
    "    return statistisc_request.json()[\"UUID\"]\n",
    "\n",
    "\n",
    "def get_report_status(report_id):\n",
    "    status_request = requests.get(f'https://performance.ozon.ru:443/api/client/statistics/{report_id}',\n",
    "                                  headers=headers\n",
    "                                  )\n",
    "    return status_request.json()[\"state\"]\n",
    "\n",
    "\n",
    "def get_report_files(report_id):\n",
    "    files_request = requests.get('https://performance.ozon.ru:443/api/client/statistics/report',\n",
    "                                 headers=headers,\n",
    "                                 params={\n",
    "                                     \"UUID\": report_id\n",
    "                                 }\n",
    "                                 )\n",
    "    return files_request.content"
   ]
  },
  {
   "cell_type": "code",
   "execution_count": 0,
   "metadata": {
    "application/vnd.databricks.v1+cell": {
     "cellMetadata": {
      "byteLimit": 2048000,
      "rowLimit": 10000
     },
     "inputWidgets": {},
     "nuid": "5f915102-873c-4912-82db-ea635ac37859",
     "showTitle": false,
     "title": ""
    }
   },
   "outputs": [],
   "source": [
    "lk_dict = {\n",
    "    \"mars_trade\": {\n",
    "        \"client_id\": \"2946364-1665124077199@advertising.performance.ozon.ru\",\n",
    "        \"client_secret\": \"8wxQ0XZF70RmEOynZQi7HdRhNgqPgW1XnMrHTZQ8uldAlnEDCews2WBOPJyF8CjHD7W7s5iEj1RyWpSVeA\"\n",
    "    },\n",
    "    \"korkunov_trade\": {\n",
    "        \"client_id\": \"4045534-1676053545827@advertising.performance.ozon.ru\",\n",
    "        \"client_secret\": \"gKii-4dZlVlWYYTcsG9aVkt8PasCZuN6evt9EG9KYE-g8OKsf4A4R-D-UA_p_T9Uy7n2ID0PLIPYW2mxjA\"\n",
    "    }\n",
    "}\n",
    "\n",
    "date_from = date.today() - timedelta(days=7)\n",
    "date_to = date.today()\n",
    "\n",
    "unix_time_now = str(int(datetime.today().timestamp()))\n",
    "year_now = str(datetime.today().year)\n",
    "month_now = str(datetime.today().month).zfill(2)\n",
    "day_now = str(datetime.today().day).zfill(2)"
   ]
  },
  {
   "cell_type": "code",
   "execution_count": 0,
   "metadata": {
    "application/vnd.databricks.v1+cell": {
     "cellMetadata": {
      "byteLimit": 2048000,
      "rowLimit": 10000
     },
     "inputWidgets": {},
     "nuid": "d484ee31-f27e-4e16-8b7d-8564b27bbab9",
     "showTitle": false,
     "title": ""
    }
   },
   "outputs": [],
   "source": [
    "required_reports = {\n",
    "    \"campaign_statistics\": 'https://performance.ozon.ru:443/api/client/statistics',\n",
    "    \"phrases_statistics\": 'https://performance.ozon.ru:443/api/client/statistics/phrases',\n",
    "    \"attribution_statistics\": 'https://performance.ozon.ru:443/api/client/statistics/attribution'\n",
    "    }"
   ]
  },
  {
   "cell_type": "code",
   "execution_count": 0,
   "metadata": {
    "application/vnd.databricks.v1+cell": {
     "cellMetadata": {
      "byteLimit": 2048000,
      "rowLimit": 10000
     },
     "inputWidgets": {},
     "nuid": "680bd634-a714-4fab-a7f5-00b756025f18",
     "showTitle": false,
     "title": ""
    }
   },
   "outputs": [],
   "source": [
    "ingest_layer_destination = f\"/dbfs/mnt/DEV/RAW/FILES/RUSSIA_MW_DATAROOM/ingest/Ecom/ozon_api/{year_now}/{month_now}/{day_now}\""
   ]
  },
  {
   "cell_type": "code",
   "execution_count": 0,
   "metadata": {
    "application/vnd.databricks.v1+cell": {
     "cellMetadata": {
      "byteLimit": 2048000,
      "rowLimit": 10000
     },
     "inputWidgets": {},
     "nuid": "a5e51ae9-6518-4ba3-b1f9-e655f6ad4508",
     "showTitle": false,
     "title": ""
    }
   },
   "outputs": [],
   "source": [
    "waiting = 60\n",
    "retry = 50"
   ]
  },
  {
   "cell_type": "markdown",
   "metadata": {
    "application/vnd.databricks.v1+cell": {
     "cellMetadata": {
      "byteLimit": 2048000,
      "rowLimit": 10000
     },
     "inputWidgets": {},
     "nuid": "3dc5ec8e-4205-4384-82bc-cc2487f4e199",
     "showTitle": false,
     "title": ""
    }
   },
   "source": [
    "##### campaign_statistics "
   ]
  },
  {
   "cell_type": "code",
   "execution_count": 0,
   "metadata": {
    "application/vnd.databricks.v1+cell": {
     "cellMetadata": {
      "byteLimit": 2048000,
      "rowLimit": 10000
     },
     "inputWidgets": {},
     "nuid": "e8690095-be3b-4734-b71c-cc50d5c0d91c",
     "showTitle": false,
     "title": ""
    }
   },
   "outputs": [
    {
     "output_type": "stream",
     "name": "stdout",
     "output_type": "stream",
     "text": [
      "Proccess for account mars_trade starting...\nAccess token recevied.\nProcess for campaignes ['3448662', '3446798', '3444321', '3444273', '3444193', '3444135', '3415819', '3346805', '3346785', '2983708'] starting ...\nUUID is ef71f33a-0e3b-4f53-8202-173a91fab905\nReports for campaigns ['3448662', '3446798', '3444321', '3444273', '3444193', '3444135', '3415819', '3346805', '3346785', '2983708'] have been saved.\nProcess for campaignes ['2953196', '2953144', '2953119', '2953064', '2953022', '2519490', '2501769', '2454235', '2454215', '2352410'] starting ...\nUUID is 11d2c47d-3290-4faa-9fe7-d4eeab7be0e5\nReports for campaigns ['2953196', '2953144', '2953119', '2953064', '2953022', '2519490', '2501769', '2454235', '2454215', '2352410'] have been saved.\nProcess for campaignes ['2339215', '2314370', '1857122', '1658502', '1658497', '1634100', '1406081', '1254992', '1254989', '1252110'] starting ...\nUUID is 5faf20a3-479a-476a-94c6-97940b8961dd\nThe reports for ['2339215', '2314370', '1857122', '1658502', '1658497', '1634100', '1406081', '1254992', '1254989', '1252110'] are not ready yet, waiting for 60 sec to retry ...\nReports for campaigns ['2339215', '2314370', '1857122', '1658502', '1658497', '1634100', '1406081', '1254992', '1254989', '1252110'] have been saved.\nProcess for campaignes ['1220328', '1144843', '979823', '979820', '979817', '974365', '896120', '896089', '590058', '575977'] starting ...\nUUID is 1bac60d3-84e7-40f5-b32c-15c7e4b2c62a\nReports for campaigns ['1220328', '1144843', '979823', '979820', '979817', '974365', '896120', '896089', '590058', '575977'] have been saved.\nProcess for campaignes ['528152', '161082', '34460'] starting ...\nUUID is 21cc4889-0b46-4d49-8207-295a6b08761d\nThe reports for ['528152', '161082', '34460'] are not ready yet, waiting for 60 sec to retry ...\nThe reports for ['528152', '161082', '34460'] are not ready yet, waiting for 60 sec to retry ...\nThe reports for ['528152', '161082', '34460'] are not ready yet, waiting for 60 sec to retry ...\nReports for campaigns ['528152', '161082', '34460'] have been saved.\nProccess for account mars_trade completed!\nProccess for account korkunov_trade starting...\nAccess token recevied.\nProcess for campaignes ['3362138', '2646700', '2454185', '2353852', '2353817'] starting ...\nUUID is 64204e5c-d2ea-42ad-acff-b1859b25c2f9\nReports for campaigns ['3362138', '2646700', '2454185', '2353852', '2353817'] have been saved.\nProccess for account korkunov_trade completed!\n"
     ]
    }
   ],
   "source": [
    "for lk in lk_dict:\n",
    "\n",
    "  print(f\"Proccess for account {lk} starting...\")  \n",
    "  access_token = get_key(lk_dict[lk][\"client_id\"], lk_dict[lk][\"client_secret\"])\n",
    "  print(\"Access token recevied.\")\n",
    "\n",
    "  headers = {\n",
    "      \"Content-Type\": \"application/json\",\n",
    "      \"Accept\": \"application/json\",\n",
    "      \"Authorization\": f\"Bearer {access_token}\"\n",
    "  }\n",
    "\n",
    "  campaign_id_list = get_compaign_list()\n",
    "\n",
    "  for each_10 in campaign_id_list[\"campaign_id_list_for_campaigns\"]:\n",
    "    print(f'Process for campaignes {each_10} starting ...')\n",
    "    uuid = get_report_id(required_reports[\"campaign_statistics\"], each_10)\n",
    "    print(f'UUID is {uuid}')\n",
    "    attempt = retry\n",
    "    time.sleep(waiting)\n",
    "    report_status = get_report_status(uuid)\n",
    "    while report_status != 'OK':\n",
    "        attempt -= 1\n",
    "        print(f'The reports for {each_10} are not ready yet, waiting for {waiting} sec to retry ...')\n",
    "        time.sleep(waiting)\n",
    "        report_status = get_report_status(uuid)\n",
    "        if attempt == 0:\n",
    "            print('Attempt limit has been reached ...')\n",
    "            break\n",
    "    if len(each_10) > 1:\n",
    "        zip_archive = ZipFile(io.BytesIO(get_report_files(uuid)))\n",
    "        zip_archive.extractall(f\"{ingest_layer_destination}/campaign_statistics/{lk}\")\n",
    "        print(f'Reports for campaigns {each_10} have been saved.')\n",
    "        time.sleep(waiting)\n",
    "    else:\n",
    "        os.makedirs(f\"{ingest_layer_destination}/attribution_statistics/{lk}\", exist_ok=True)\n",
    "        with open(f\"{ingest_layer_destination}/campaign_statistics/{lk}/{str(*each_10)}_{datetime.strftime(date_from, '%d.%m.%Y')}-{datetime.strftime(date_to, '%d.%m.%Y')}.csv\", \"wb\") as file:\n",
    "            file.write(get_report_files(uuid))\n",
    "            print(f'Report for campaign {each_10} has been saved.')\n",
    "            time.sleep(waiting)\n",
    "  print(f\"Proccess for account {lk} completed!\")"
   ]
  },
  {
   "cell_type": "markdown",
   "metadata": {
    "application/vnd.databricks.v1+cell": {
     "cellMetadata": {
      "byteLimit": 2048000,
      "rowLimit": 10000
     },
     "inputWidgets": {},
     "nuid": "4407ac34-61e5-44a4-9bc3-a911719823c1",
     "showTitle": false,
     "title": ""
    }
   },
   "source": [
    "##### phrases_statistics"
   ]
  },
  {
   "cell_type": "code",
   "execution_count": 0,
   "metadata": {
    "application/vnd.databricks.v1+cell": {
     "cellMetadata": {
      "byteLimit": 2048000,
      "rowLimit": 10000
     },
     "inputWidgets": {},
     "nuid": "e65dfda7-a545-46ea-ae61-bf94cc0d78b1",
     "showTitle": false,
     "title": ""
    }
   },
   "outputs": [
    {
     "output_type": "stream",
     "name": "stdout",
     "output_type": "stream",
     "text": [
      "Proccess for account mars_trade starting...\nAccess token recevied.\nProcess for campaignes ['3448662', '3446798', '3444321', '3444273', '3444193', '3444135', '3415819', '3346805', '3346785', '2983708'] starting ...\nUUID is b3c8bb3b-8568-4d69-8710-54738126751d\nReports for campaigns ['3448662', '3446798', '3444321', '3444273', '3444193', '3444135', '3415819', '3346805', '3346785', '2983708'] have been saved.\nProcess for campaignes ['2953196', '2953144', '2953119', '2953064', '2953022', '2501769', '2454235', '2352410', '2314370', '1857122'] starting ...\nUUID is 6b055674-2771-4a68-877c-90df9f250408\nReports for campaigns ['2953196', '2953144', '2953119', '2953064', '2953022', '2501769', '2454235', '2352410', '2314370', '1857122'] have been saved.\nProcess for campaignes ['1634100', '1406081', '1254992', '1254989', '1252110', '1220328', '1144843', '979823', '979820', '979817'] starting ...\nUUID is 7efe4f82-257a-4dcd-92ad-e6f5fe5dd642\nReports for campaigns ['1634100', '1406081', '1254992', '1254989', '1252110', '1220328', '1144843', '979823', '979820', '979817'] have been saved.\nProcess for campaignes ['974365', '896120', '896089', '590058', '575977', '528152', '161082', '34460'] starting ...\nUUID is f89950cf-47ee-4e2e-aa99-62fed4b074a4\nReports for campaigns ['974365', '896120', '896089', '590058', '575977', '528152', '161082', '34460'] have been saved.\nProccess for account mars_trade completed!\nProccess for account korkunov_trade starting...\nAccess token recevied.\nProcess for campaignes ['3362138', '2454185', '2353852', '2353817'] starting ...\nUUID is 3bb1f0fd-3cff-4714-a46b-03dfcce7cf85\nReports for campaigns ['3362138', '2454185', '2353852', '2353817'] have been saved.\nProccess for account korkunov_trade completed!\n"
     ]
    }
   ],
   "source": [
    "for lk in lk_dict:\n",
    "\n",
    "  print(f\"Proccess for account {lk} starting...\")  \n",
    "  access_token = get_key(lk_dict[lk][\"client_id\"], lk_dict[lk][\"client_secret\"])\n",
    "  print(\"Access token recevied.\")\n",
    "\n",
    "  headers = {\n",
    "      \"Content-Type\": \"application/json\",\n",
    "      \"Accept\": \"application/json\",\n",
    "      \"Authorization\": f\"Bearer {access_token}\"\n",
    "  }\n",
    "\n",
    "  campaign_id_list = get_compaign_list()\n",
    "\n",
    "  for each_10 in campaign_id_list[\"campaign_id_list_for_phrases\"]:\n",
    "    print(f'Process for campaignes {each_10} starting ...')\n",
    "    uuid = get_report_id(required_reports[\"phrases_statistics\"], each_10)\n",
    "    print(f'UUID is {uuid}')\n",
    "    attempt = retry\n",
    "    time.sleep(waiting)\n",
    "    report_status = get_report_status(uuid)\n",
    "    while report_status != 'OK':\n",
    "        attempt -= 1\n",
    "        print(f'The reports for {each_10} are not ready yet, waiting for {waiting} sec to retry ...')\n",
    "        time.sleep(waiting)\n",
    "        report_status = get_report_status(uuid)\n",
    "        if attempt == 0:\n",
    "            print('Attempt limit has been reached ...')\n",
    "            break\n",
    "    if len(each_10) > 1:\n",
    "        zip_archive = ZipFile(io.BytesIO(get_report_files(uuid)))\n",
    "        zip_archive.extractall(f\"{ingest_layer_destination}/phrases_statistics/{lk}\")\n",
    "        print(f'Reports for campaigns {each_10} have been saved.')\n",
    "        time.sleep(waiting)\n",
    "    else:\n",
    "        os.makedirs(f\"{ingest_layer_destination}/attribution_statistics/{lk}\", exist_ok=True)\n",
    "        with open(f\"{ingest_layer_destination}/phrases_statistics/{lk}/{str(*each_10)}_{datetime.strftime(date_from, '%d.%m.%Y')}-{datetime.strftime(date_to, '%d.%m.%Y')}.csv\", \"wb\") as file:\n",
    "            file.write(get_report_files(uuid))\n",
    "            print(f'Report for campaign {each_10} has been saved.')\n",
    "            time.sleep(waiting)\n",
    "  print(f\"Proccess for account {lk} completed!\")"
   ]
  },
  {
   "cell_type": "markdown",
   "metadata": {
    "application/vnd.databricks.v1+cell": {
     "cellMetadata": {
      "byteLimit": 2048000,
      "rowLimit": 10000
     },
     "inputWidgets": {},
     "nuid": "6f897ac7-424b-4903-ac1c-8d1a4a34ed54",
     "showTitle": false,
     "title": ""
    }
   },
   "source": [
    "#####attribution_statistics"
   ]
  },
  {
   "cell_type": "code",
   "execution_count": 0,
   "metadata": {
    "application/vnd.databricks.v1+cell": {
     "cellMetadata": {
      "byteLimit": 2048000,
      "rowLimit": 10000
     },
     "inputWidgets": {},
     "nuid": "d8385998-7913-4b94-98b0-0ab6260923db",
     "showTitle": false,
     "title": ""
    }
   },
   "outputs": [
    {
     "output_type": "stream",
     "name": "stdout",
     "output_type": "stream",
     "text": [
      "Proccess for account mars_trade starting...\nAccess token recevied.\nProcess for campaignes ['2953196', '2953144', '2953119', '2953064', '2953022', '2501769', '1406081', '896120', '896089', '590058'] starting ...\nUUID is 5d752ef8-54b3-4f76-a7da-607047ad3cd9\nThe reports for ['2953196', '2953144', '2953119', '2953064', '2953022', '2501769', '1406081', '896120', '896089', '590058'] are not ready yet, waiting for 60 sec to retry ...\nThe reports for ['2953196', '2953144', '2953119', '2953064', '2953022', '2501769', '1406081', '896120', '896089', '590058'] are not ready yet, waiting for 60 sec to retry ...\nThe reports for ['2953196', '2953144', '2953119', '2953064', '2953022', '2501769', '1406081', '896120', '896089', '590058'] are not ready yet, waiting for 60 sec to retry ...\nThe reports for ['2953196', '2953144', '2953119', '2953064', '2953022', '2501769', '1406081', '896120', '896089', '590058'] are not ready yet, waiting for 60 sec to retry ...\nReports for campaigns ['2953196', '2953144', '2953119', '2953064', '2953022', '2501769', '1406081', '896120', '896089', '590058'] have been saved.\nProcess for campaignes ['575977', '528152', '161082', '34460'] starting ...\nUUID is 5ac9c9d6-e85f-4b07-b7f1-154cd3dba84f\nThe reports for ['575977', '528152', '161082', '34460'] are not ready yet, waiting for 60 sec to retry ...\nThe reports for ['575977', '528152', '161082', '34460'] are not ready yet, waiting for 60 sec to retry ...\nThe reports for ['575977', '528152', '161082', '34460'] are not ready yet, waiting for 60 sec to retry ...\nThe reports for ['575977', '528152', '161082', '34460'] are not ready yet, waiting for 60 sec to retry ...\nThe reports for ['575977', '528152', '161082', '34460'] are not ready yet, waiting for 60 sec to retry ...\nReports for campaigns ['575977', '528152', '161082', '34460'] have been saved.\nProccess for account mars_trade completed!\nProccess for account korkunov_trade starting...\nAccess token recevied.\nProcess for campaignes ['3362138'] starting ...\nUUID is ce61e99d-2cef-4332-bcb1-9aa42429bbeb\nReport for campaign ['3362138'] has been saved.\nProccess for account korkunov_trade completed!\n"
     ]
    }
   ],
   "source": [
    "for lk in lk_dict:\n",
    "\n",
    "  print(f\"Proccess for account {lk} starting...\")  \n",
    "  access_token = get_key(lk_dict[lk][\"client_id\"], lk_dict[lk][\"client_secret\"])\n",
    "  print(\"Access token recevied.\")\n",
    "\n",
    "  headers = {\n",
    "      \"Content-Type\": \"application/json\",\n",
    "      \"Accept\": \"application/json\",\n",
    "      \"Authorization\": f\"Bearer {access_token}\"\n",
    "  }\n",
    "\n",
    "  campaign_id_list = get_compaign_list()\n",
    "\n",
    "  for each_10 in campaign_id_list[\"campaign_id_list_for_attribution\"]:\n",
    "    print(f'Process for campaignes {each_10} starting ...')\n",
    "    uuid = get_report_id(required_reports[\"attribution_statistics\"], each_10)\n",
    "    print(f'UUID is {uuid}')\n",
    "    attempt = retry\n",
    "    time.sleep(waiting)\n",
    "    report_status = get_report_status(uuid)\n",
    "    while report_status != 'OK':\n",
    "        attempt -= 1\n",
    "        print(f'The reports for {each_10} are not ready yet, waiting for {waiting} sec to retry ...')\n",
    "        time.sleep(waiting)\n",
    "        report_status = get_report_status(uuid)\n",
    "        if attempt == 0:\n",
    "            print('Attempt limit has been reached ...')\n",
    "            break\n",
    "    if len(each_10) > 1:\n",
    "        zip_archive = ZipFile(io.BytesIO(get_report_files(uuid)))\n",
    "        zip_archive.extractall(f\"{ingest_layer_destination}/attribution_statistics/{lk}\")\n",
    "        print(f'Reports for campaigns {each_10} have been saved.')\n",
    "        time.sleep(waiting)\n",
    "    else:\n",
    "        os.makedirs(f\"{ingest_layer_destination}/attribution_statistics/{lk}\", exist_ok=True)\n",
    "        with open(f\"{ingest_layer_destination}/attribution_statistics/{lk}/{str(*each_10)}_{datetime.strftime(date_from, '%d.%m.%Y')}-{datetime.strftime(date_to, '%d.%m.%Y')}.csv\", \"wb\") as file:\n",
    "            file.write(get_report_files(uuid))\n",
    "            print(f'Report for campaign {each_10} has been saved.')\n",
    "            time.sleep(waiting)\n",
    "  print(f\"Proccess for account {lk} completed!\")"
   ]
  }
 ],
 "metadata": {
  "application/vnd.databricks.v1+notebook": {
   "dashboards": [],
   "language": "python",
   "notebookMetadata": {
    "pythonIndentUnit": 2
   },
   "notebookName": "ozon_api_ingest",
   "widgets": {}
  }
 },
 "nbformat": 4,
 "nbformat_minor": 0
}
